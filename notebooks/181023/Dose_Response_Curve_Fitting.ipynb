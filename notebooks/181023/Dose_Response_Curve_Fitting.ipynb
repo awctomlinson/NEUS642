{
 "cells": [
  {
   "cell_type": "markdown",
   "metadata": {},
   "source": [
    "# Plotting and Fitting a Dose-Response Curve"
   ]
  },
  {
   "cell_type": "markdown",
   "metadata": {},
   "source": [
    "## Introduction \n",
    "\n",
    "Today we will be plotting and fitting a dose-response curve. The data that we will be working with is whole-cell electrophysiology data, an example trace is shown below. We will be plotting the current responses to different concentrations of the mu-opioid receptor (MOR) agonist morphine for males versus females. \n",
    "\n",
    "When MORs are activated they in turn activate G-protein Inwardly-Rectifying Potassium channels (GIRKs), which is what the current responses below are actually measuring. These channels allow potassium to leave the cell, and this is what creates the electrical current that we are measuring. Because there could be variable numbers of GIRK channels on a cell, the morphine current responses will be normalized to the current responses induced by the alpha2-adrenergic receptor agonist UK, which also acts on GIRKs. Because UK is very potent, it will give us the maximum GIRK response possible. \n",
    "\n",
    "I have already manually calculated the current responses for each drug so the file we will be working with is a csv file of these values.\n",
    "\n",
    "Below is an example trace with morphine application, block with the MOR antagonist naloxone (NLX), and then application of UK followed by the appriopriate (alpha2) antagonist, ida. \n",
    "\n",
    "<img src=\"trace1.png\" width = \"800\" >\n",
    "\n"
   ]
  },
  {
   "cell_type": "markdown",
   "metadata": {},
   "source": [
    "## Loading the data \n",
    "\n",
    "First, we need to import the modules we will need and load the data. We have seen all of these before except for the `curve_fit` function from [scipy.optimize](https://docs.scipy.org/doc/scipy/reference/generated/scipy.optimize.curve_fit.html), which will allow us to fit a curve to our dose response plot.  "
   ]
  },
  {
   "cell_type": "code",
   "execution_count": null,
   "metadata": {},
   "outputs": [],
   "source": [
    "%matplotlib inline\n",
    "import pandas as pd\n",
    "import matplotlib.pyplot as plt\n",
    "from scipy.optimize import curve_fit\n",
    "import numpy as np\n",
    "\n",
    "pd.options.display.max_rows = 7"
   ]
  },
  {
   "cell_type": "markdown",
   "metadata": {},
   "source": [
    "### Exercise"
   ]
  },
  {
   "cell_type": "markdown",
   "metadata": {},
   "source": [
    "Next, we need to import the file that we'll be working with, which is `dose_response_male.csv`. So please import the csv file under the variable `dose_response_male`. This file is organized so that the first column is the concentration, this will be an appropriate index so set this first column as the index column. "
   ]
  },
  {
   "cell_type": "code",
   "execution_count": null,
   "metadata": {},
   "outputs": [],
   "source": [
    "# Answer\n",
    "filename = \"dose_response_male.csv\"\n",
    "\n",
    "dose_response_male = pd.read_csv(filename, index_col=0)\n",
    "dose_response_male"
   ]
  },
  {
   "cell_type": "markdown",
   "metadata": {},
   "source": [
    "## Working with our data"
   ]
  },
  {
   "cell_type": "markdown",
   "metadata": {},
   "source": [
    "### Exercise\n",
    "\n",
    "Great, now we have loaded our dataframe and can work with it. Later on when we fit a dose response curve we will need the log values of each concentration. So create a new column in our data frame titled `'Log[M]'` that contains the log values. Hint: I included a column in the dataframe that contains each concentration in Molar. "
   ]
  },
  {
   "cell_type": "code",
   "execution_count": null,
   "metadata": {},
   "outputs": [],
   "source": [
    "# Answer\n",
    "dose_response_male['Log[M]'] = np.log10(dose_response_male['concentration_in_M'])\n",
    "dose_response_male"
   ]
  },
  {
   "cell_type": "markdown",
   "metadata": {},
   "source": [
    "### Exercise\n",
    "\n",
    "Now, as I mentioned, we will be plotting normalized values. The morphine current will be plotted as a percentage of the UK current. So let's add another column to our dataframe titled `'percent_UK'` that contains the normalized values. "
   ]
  },
  {
   "cell_type": "code",
   "execution_count": null,
   "metadata": {},
   "outputs": [],
   "source": [
    "# Answer \n",
    "dose_response_male['percent_UK'] = 100 * dose_response_male['morphine_current'] / dose_response_male['UK_current']\n",
    "dose_response_male"
   ]
  },
  {
   "cell_type": "markdown",
   "metadata": {},
   "source": [
    "### Exercise\n",
    "\n",
    "Our data contains multiple replicates for each concentration. However, we want to plot the average normalized current for each concentration. How might we group (hint) the data based on concentration and then calculate the average? Store your final answer in the variable `mean_responses_male`."
   ]
  },
  {
   "cell_type": "code",
   "execution_count": null,
   "metadata": {},
   "outputs": [],
   "source": [
    "# Answer \n",
    "grouping_male = dose_response_male.groupby(['concentration_in_M'])\n",
    "mean_responses_male = grouping_male['percent_UK'].mean()\n",
    "mean_responses_male"
   ]
  },
  {
   "cell_type": "markdown",
   "metadata": {},
   "source": [
    "## Plotting our data"
   ]
  },
  {
   "cell_type": "markdown",
   "metadata": {},
   "source": [
    "### Exercise\n",
    "\n",
    "Now let's plot our data using `matplotlib.pyplot`! For this plot, it will be best if the x axis is a log scale. Use `mean_responses_male.plot?` for help in doing this. In addition, the default is that there will be a line connecting the data, but we want to fit our own line later on. To do this you will need to add an argument for the type of `marker` to use for each point as well as an argument to change the default `linestyle` to `''`. [Here](https://matplotlib.org/api/markers_api.html) is a list of markers you could use. Don't forget to add labels for each axis and a plot title. "
   ]
  },
  {
   "cell_type": "code",
   "execution_count": null,
   "metadata": {},
   "outputs": [],
   "source": [
    "# Answer \n",
    "mean_responses_male.plot(logx=True, marker='o', linestyle='')\n",
    "plt.xlabel('Log[M]')\n",
    "plt.ylabel('% UK')\n",
    "plt.title('Morphine Dose Response')\n",
    "plt.show()"
   ]
  },
  {
   "cell_type": "markdown",
   "metadata": {},
   "source": [
    "### Exercise\n",
    "\n",
    "Great, now lets add some error bars. First let's calculate the standard error of the mean and store them in the variable `sem_responses_male`."
   ]
  },
  {
   "cell_type": "code",
   "execution_count": null,
   "metadata": {},
   "outputs": [],
   "source": [
    "# Answer \n",
    "sem_responses_male = grouping_male['percent_UK'].sem()\n",
    "sem_responses_male"
   ]
  },
  {
   "cell_type": "markdown",
   "metadata": {},
   "source": [
    "### Exercise \n",
    "\n",
    "Now let's add error bars to our graph. The default for error bars is to not have a cap on them. Let's add some. "
   ]
  },
  {
   "cell_type": "code",
   "execution_count": null,
   "metadata": {},
   "outputs": [],
   "source": [
    "# Answer \n",
    "mean_responses_male.plot(logx=True, marker='o', linestyle='', yerr=sem_responses_male, capsize=3, elinewidth=1)\n",
    "plt.xlabel('Log[M]')\n",
    "plt.ylabel('% UK')\n",
    "plt.title('Morphine Dose Response')\n",
    "plt.show()"
   ]
  },
  {
   "cell_type": "markdown",
   "metadata": {},
   "source": [
    "## Fitting a Curve "
   ]
  },
  {
   "cell_type": "markdown",
   "metadata": {},
   "source": [
    "### Exercise\n",
    "\n",
    "Now we will fit a a curve to the data. But first we need to have the x-values and the y-values as separate numpy arrays. So let's start with the y-values first... What are the y-values in this dataset? Create a numpy array of these values and store it in the variable `y_data_male`."
   ]
  },
  {
   "cell_type": "code",
   "execution_count": null,
   "metadata": {},
   "outputs": [],
   "source": [
    "# Answer \n",
    "y_data_male = np.array(mean_responses_male)\n",
    "y_data_male"
   ]
  },
  {
   "cell_type": "markdown",
   "metadata": {},
   "source": [
    "### Exercise \n",
    "\n",
    "Now let's handle the x-values... The x-values are the concentrations for each response. However, there is a problem. We currently have an array of the mean responses, but we don't have an array of the concentrations used. We can't just use the concentration column from the dataframe, because there are multiple of each concentration. To fix this, let's make an array of the \"Log[M]\" column that only contains (hint) unique (/hint) values. Store this in the variable `log_values`. "
   ]
  },
  {
   "cell_type": "code",
   "execution_count": null,
   "metadata": {},
   "outputs": [],
   "source": [
    "# Answer\n",
    "log_values = dose_response_male['Log[M]'].unique()\n",
    "log_values"
   ]
  },
  {
   "cell_type": "markdown",
   "metadata": {},
   "source": [
    "### Exercise\n",
    "\n",
    "OK, now we can fit the data! But with what equation? A very important step in curve fitting is knowing what curve to fit to your data, and knowing enough about your system/experiment to know what sort of models (or curves) fit. We will give you the equation for this dataset, but your own dataset may be different, and may require a different fit equation.\n",
    "\n",
    "For this data (and dose-response curves in general), the Hill equation is appropriate. It is commonly used to fit a variety of dose-response curves in biological and biochemical systems. More on the Hill equation can be found [here](https://en.wikipedia.org/wiki/Hill_equation_(biochemistry)).\n",
    "\n",
    "First we need to define a function for the Hill equation. This will be called by the `curve_fit` function later. The function we will write takes parameters `x`, and all of the constants in the equation we are using `(bottom, top, EC50, hillslope)`. The constants affect the shape of the curve, and this is what the `curve_fit` function will help us figure out the values of.\n",
    "\n",
    "-  `EC50` is the concentration of agonist that gives a response half way between Bottom and Top. \n",
    "-  `Top` and `Bottom` are plateaus in the units of the Y axis.\n",
    "-  The equation we will use assumes that the dose response curve has a standard slope, equal to a `hillslope` (or slope factor) of 1.0\n",
    "\n",
    "<img src='hill_eq.png' width='500' >\n",
    "\n",
    "Can you **def**ine a function that takes the appriopriate parameters and returns the equation above?\n",
    "\n",
    "Note: by convention, the scipy `curve_fit` function we are using wants `x`, followed by the parameters/constants."
   ]
  },
  {
   "cell_type": "code",
   "execution_count": null,
   "metadata": {},
   "outputs": [],
   "source": [
    "# Answer \n",
    "def hill_eq(x, bottom, top, EC50, hillslope):\n",
    "    y = bottom + (top-bottom)/(1+10**(np.log10(EC50)-x))\n",
    "    return y "
   ]
  },
  {
   "cell_type": "markdown",
   "metadata": {},
   "source": [
    "### Exercise\n",
    "\n",
    "Now we can use scipy's `curve_fit` function, which we imported from `scipy.optimize` earlier. Curve_fit returns two arrays- popt and pcov- that contain the optimal parameters and covariance, respectively. We mostly care about popt, as those are the constants we want to describe the curve (`bottom, top, EC50, hillslope`). These can be named whatever you want them to be, but you will need to set two variables when calling the `curve_fit` function, the first will store the popt values and the second the pcov values.\n",
    "\n",
    "See if you can figure out how to construct the curve fit statement. Store the values `curve_fit` returns in the variables `male_fit` and `pcov`. Use `curve_fit?` for help writing the statement.\n",
    "\n",
    "Note: you can ignore the RunTimeWarning. If you print out `male_fit`, you should still see the array it returns. "
   ]
  },
  {
   "cell_type": "code",
   "execution_count": null,
   "metadata": {},
   "outputs": [],
   "source": [
    "# Answer\n",
    "male_fit, pcov = curve_fit(hill_eq, log_values, y_data_male)\n",
    "male_fit"
   ]
  },
  {
   "cell_type": "markdown",
   "metadata": {},
   "source": [
    "## Plotting the curve fit"
   ]
  },
  {
   "cell_type": "markdown",
   "metadata": {},
   "source": [
    "### Exercise\n",
    "\n",
    "OK, now let's plot the values and curve using `matplotlib.pyplot`. To plot the curve, simply use `log_values` for x, and use the following format to plot the curve: `plt.plot(x, function(x, *popt))`."
   ]
  },
  {
   "cell_type": "code",
   "execution_count": null,
   "metadata": {},
   "outputs": [],
   "source": [
    "# Answer \n",
    "plt.plot(log_values, hill_eq(log_values, *male_fit))"
   ]
  },
  {
   "cell_type": "markdown",
   "metadata": {},
   "source": [
    "### Exercise \n",
    "\n",
    "Now we will add the data we plotted earlier to visualize how good our fit is. To do this, use `plt.errorbar`. Don't forget your labels!"
   ]
  },
  {
   "cell_type": "code",
   "execution_count": null,
   "metadata": {},
   "outputs": [],
   "source": [
    "plt.plot(log_values, hill_eq(log_values, *male_fit), color='deepskyblue')\n",
    "\n",
    "# Answer \n",
    "plt.errorbar(log_values, mean_responses_male, yerr=sem_responses_male, marker='o', linestyle='', capsize=3, color = 'blue')\n",
    "plt.xlabel('Log[M]')\n",
    "plt.ylabel('% UK')\n",
    "plt.title('Morphine Dose Response')\n",
    "plt.show()"
   ]
  },
  {
   "cell_type": "markdown",
   "metadata": {},
   "source": [
    "## Adding the female dose response\n",
    "\n",
    "Great! Our fit looks good! Now let's do the same thing for the female dose response. "
   ]
  },
  {
   "cell_type": "markdown",
   "metadata": {},
   "source": [
    "### Exercise \n",
    "\n",
    "First, load the file (`'dose_response_female.csv'`)"
   ]
  },
  {
   "cell_type": "code",
   "execution_count": null,
   "metadata": {},
   "outputs": [],
   "source": [
    "# Answer\n",
    "dose_response_female = pd.read_csv('dose_response_female.csv', index_col=0)\n",
    "dose_response_female"
   ]
  },
  {
   "cell_type": "markdown",
   "metadata": {},
   "source": [
    "### Exercise\n",
    "\n",
    "Now create a column with the normalized morphine current responses. "
   ]
  },
  {
   "cell_type": "code",
   "execution_count": null,
   "metadata": {},
   "outputs": [],
   "source": [
    "# Answer \n",
    "dose_response_female['percent_UK'] = 100 * dose_response_female['morphine_current'] / dose_response_female['UK_current']\n",
    "dose_response_female"
   ]
  },
  {
   "cell_type": "markdown",
   "metadata": {},
   "source": [
    "### Exercise\n",
    "\n",
    "Now find the average for each concentration. "
   ]
  },
  {
   "cell_type": "code",
   "execution_count": null,
   "metadata": {},
   "outputs": [],
   "source": [
    "# Answer \n",
    "grouping_female = dose_response_female.groupby(['concentration_in_M'])\n",
    "mean_responses_female = grouping_female['percent_UK'].mean()\n",
    "mean_responses_female"
   ]
  },
  {
   "cell_type": "markdown",
   "metadata": {},
   "source": [
    "### Exercise \n",
    "\n",
    "Now find the sem values. "
   ]
  },
  {
   "cell_type": "code",
   "execution_count": null,
   "metadata": {},
   "outputs": [],
   "source": [
    "# Answer \n",
    "sem_responses_female = grouping_female['percent_UK'].sem()\n",
    "sem_responses_female"
   ]
  },
  {
   "cell_type": "markdown",
   "metadata": {},
   "source": [
    "### Exercise \n",
    "\n",
    "Now create an array of the female mean responses."
   ]
  },
  {
   "cell_type": "code",
   "execution_count": null,
   "metadata": {},
   "outputs": [],
   "source": [
    "# Answer\n",
    "y_data_female = np.array(mean_responses_female)\n",
    "y_data_female"
   ]
  },
  {
   "cell_type": "markdown",
   "metadata": {},
   "source": [
    "### Exercise \n",
    "\n",
    "We can use the same function we defined above for the hill equation to again find the optimal parameters in order to fit the curve for the famale dose-response curve. This time use the variables `female_fit` and `pcov`. "
   ]
  },
  {
   "cell_type": "code",
   "execution_count": null,
   "metadata": {},
   "outputs": [],
   "source": [
    "# Answer \n",
    "female_fit, pcov_f = curve_fit(hill_eq, log_values, y_data_female)\n",
    "female_fit"
   ]
  },
  {
   "cell_type": "markdown",
   "metadata": {},
   "source": [
    "### Exercise \n",
    "\n",
    "Now let's plot the mean responses for males and females along with their curve fits all on the same plot! And let's add a legend this time. "
   ]
  },
  {
   "cell_type": "code",
   "execution_count": null,
   "metadata": {},
   "outputs": [],
   "source": [
    "# Answer\n",
    "plt.plot(log_values, hill_eq(log_values, *male_fit), color='deepskyblue')\n",
    "plt.plot(log_values, hill_eq(log_values, *female_fit), color='plum')\n",
    "plt.errorbar(log_values, mean_responses_male, yerr=sem_responses_male, marker='o', linestyle='', capsize=3, color = 'blue')\n",
    "plt.errorbar(log_values, mean_responses_female, yerr=sem_responses_female, marker='o', linestyle='', capsize=3, color='purple')\n",
    "plt.xlabel('Log[M]')\n",
    "plt.ylabel('% UK')\n",
    "plt.title('Morphine Dose Response')\n",
    "plt.legend(['Male Fit', 'Female Fit', 'Male', 'Female'])\n",
    "plt.show()"
   ]
  },
  {
   "cell_type": "markdown",
   "metadata": {},
   "source": [
    "## Working with the curve_fit constants"
   ]
  },
  {
   "cell_type": "markdown",
   "metadata": {},
   "source": [
    "### Exercise \n",
    "\n",
    "Now we have a beautiful plot, but it would be nice to know what values were used to fit the curve. These values are stored in  the popt array, but let's convert them to a series to make them more easily readable. First make a list of the labels (`['bottom', 'top', 'EC50 (M)', 'hill slope']`) and then use `pd.Series` to make a series with an index of the fit labels from your list. Do this for both males and females."
   ]
  },
  {
   "cell_type": "code",
   "execution_count": null,
   "metadata": {},
   "outputs": [],
   "source": [
    "# Answer \n",
    "fit_labels = ['bottom', 'top', 'EC50 (M)', 'hill slope']\n",
    "fit_series_m = pd.Series(male_fit, index = fit_labels)\n",
    "fit_series_f = pd.Series(female_fit, index = fit_labels)\n",
    "print(\"Males: \\n\" + str(fit_series_m))\n",
    "print(\"\\nFemales: \\n\" + str(fit_series_f))"
   ]
  },
  {
   "cell_type": "markdown",
   "metadata": {},
   "source": [
    "To make the EC50 values easier to read we can convert it to nM and then print out a statement that rounds it to two decimal points:"
   ]
  },
  {
   "cell_type": "code",
   "execution_count": null,
   "metadata": {},
   "outputs": [],
   "source": [
    "ec50_f = fit_series_f['EC50 (M)'] *1e9\n",
    "ec50_m = fit_series_m['EC50 (M)'] *1e9\n",
    "print(\"The EC50 for females is \" + str(round(ec50_f, 2)) + \" nM\")\n",
    "print(\"The EC50 for males is \" + str(round(ec50_m, 2)) + \" nM\")"
   ]
  },
  {
   "cell_type": "code",
   "execution_count": null,
   "metadata": {},
   "outputs": [],
   "source": []
  }
 ],
 "metadata": {
  "kernelspec": {
   "display_name": "Python 3",
   "language": "python",
   "name": "python3"
  },
  "language_info": {
   "codemirror_mode": {
    "name": "ipython",
    "version": 3
   },
   "file_extension": ".py",
   "mimetype": "text/x-python",
   "name": "python",
   "nbconvert_exporter": "python",
   "pygments_lexer": "ipython3",
   "version": "3.6.5"
  }
 },
 "nbformat": 4,
 "nbformat_minor": 2
}
