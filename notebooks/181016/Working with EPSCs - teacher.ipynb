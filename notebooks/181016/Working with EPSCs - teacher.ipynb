{
 "cells": [
  {
   "cell_type": "markdown",
   "metadata": {},
   "source": [
    "<a href=\"#Overview\"></a>\n",
    "# Overview\n",
    "* <a href=\"#Introduction\">Introduction</a>\n",
    "* <a href=\"#Load-the-data\">Load the data</a>\n",
    "  * <a href=\"#Exercise-1\">Exercise 1</a>\n",
    "  * <a href=\"#Exercise-2\">Exercise 2</a>\n",
    "  * <a href=\"#Exercise-3\">Exercise 3</a>\n",
    "  * <a href=\"#Exercise-4\">Exercise 4</a>\n",
    "* <a href=\"#Slicing-data\">Slicing data</a>\n",
    "  * <a href=\"#Exercise-5\">Exercise 5</a>\n",
    "  * <a href=\"#Exercise-6\">Exercise 6</a>\n",
    "  * <a href=\"#Exercise-7\">Exercise 7</a>\n",
    "  * <a href=\"#Exercise-8\">Exercise 8</a>\n",
    "* <a href=\"#Plot-the-data\">Plot the data</a>\n",
    "  * <a href=\"#Exercise-9\">Exercise 9</a>\n",
    "  * <a href=\"#Exercise-10\">Exercise 10</a>\n",
    "  * <a href=\"#Exercise-11\">Exercise 11</a>\n",
    "* <a href=\"#Filter-the-data-trace\">Filter the data trace</a>\n",
    "* <a href=\"#Plot-the-Power-Spectral-Density-(PSD)\">Plot the Power Spectral Density (PSD)</a>\n",
    "  * <a href=\"#Exercise-12\">Exercise 12</a>\n",
    "  * <a href=\"#Exercise-13\">Exercise 13</a>\n",
    "  * <a href=\"#Exercise-14\">Exercise 14</a>\n",
    "* <a href=\"#Find-the-location-of-EPSC-peak\">Find the location of EPSC peak</a>\n",
    "  * <a href=\"#Exercise-15\">Exercise 15</a>\n",
    "  * <a href=\"#Exercise-16\">Exercise 16</a>\n",
    "  * <a href=\"#Exercise-17\">Exercise 17</a>\n",
    "  * <a href=\"#Exercise-18\">Exercise 18</a>\n",
    "  * <a href=\"#Exercise-19\">Exercise 19</a>\n",
    "  * <a href=\"#Exercise-20\">Exercise 20</a>\n",
    "  * <a href=\"#Exercise-21\">Exercise 21</a>\n",
    "* <a href=\"#Calculate-summary-statistic\">Calculate summary statistic</a>\n",
    "  * <a href=\"#Exercise-22\">Exercise 22</a>\n",
    "* <a href=\"#Summary\">Summary</a>"
   ]
  },
  {
   "cell_type": "markdown",
   "metadata": {},
   "source": [
    "<a name=\"#Introduction\"></a>\n",
    "## Introduction\n",
    "<a href=\"#Overview\">Return to overview</a>\n",
    "\n",
    "* What is an EPSC?\n",
    "\n",
    "<img src=\"pc.jpg\" >\n",
    "\n",
    "Patch-clamp is a technique used to study ionic currents of cell membrane.\n",
    "By the patch clamp method, it is possible to record the electrical events occurring in a postsynaptic cell as a result of neurotransmitters’ release by the presynaptic terminal and the consecutive opening of ionotropic receptors. In the “voltage clamp” mode, the voltage is kept constant, so it is possible to record the current passing through the open ion channels, called “postsynaptic current” (PSC).\n",
    "\n",
    "For an excitatory synapse, the binding of neurotrasmitters induces the opening of cationic channels, which is depolarizing the cell. The induced electrical events are called “excitatory postsynaptic currents” (EPSCs).\n",
    "\n",
    "Recording and analysing EPSCs is the powerful and popular technique for comparing excitability of neurons in desease models and control. For example, in my past lab in Marseille we observed excitability in neurons from TSC knock-out mice and we were able to find the receptor target to treat this abnormality. \n",
    "\n",
    "<img src=\"TSC_EPSCs.jpg\" >\n",
    "\n",
    "Here, we detected EPSCs, quantified the EPSCs frequency, align them by peak, averaged and found the difference in the shape of TSC-KO EPSCs. \n"
   ]
  },
  {
   "cell_type": "markdown",
   "metadata": {},
   "source": [
    "<a name=\"#Load-the-data\"></a>\n",
    "## Load the data\n",
    "<a href=\"#Overview\">Return to overview</a>\n"
   ]
  },
  {
   "cell_type": "markdown",
   "metadata": {},
   "source": [
    "Now I am a PostDoc in Physiology and Pharmacology Department, Mike Andresen lab. We are all electrophysiologists there and we use patch-clamp technique. We use Axon Instruments Multiclamp  amplifiers to measure currents and potentials of neurons in the brain slices. It means, we always deal with abf files (Axon Binary Format). In this class I want to show you one of the ways to identify peaks of Excitatory Postsynaptic currents (EPSCs).\n",
    "So, first step will be the opening the data files in ABF format. For this we will use the [pyabf module](https://pypi.org/project/pyabf).</font>"
   ]
  },
  {
   "cell_type": "markdown",
   "metadata": {},
   "source": [
    "Some sample data, `learn024.abf`, will be used in this class. Let's import the `pyabf` module and use it to open abf file:\n"
   ]
  },
  {
   "cell_type": "code",
   "execution_count": null,
   "metadata": {},
   "outputs": [],
   "source": [
    "import pyabf as pa               # package for loading abf data\n",
    "import scipy.signal as ss        # Scientific package for signal processing\n",
    "import numpy as np               # for numpy array objects\n",
    "import matplotlib.pyplot as plt  # Plotting package to visualize data\n"
   ]
  },
  {
   "cell_type": "markdown",
   "metadata": {},
   "source": [
    "<a name=\"#Exercise-1\"></a>\n",
    "### Exercise 1\n",
    "<a href=\"#Overview\">Return to overview</a>\n",
    "\n",
    "Please create the string variable `abf_file` and assign the name of the file needed to open - `learn024.abf`"
   ]
  },
  {
   "cell_type": "code",
   "execution_count": null,
   "metadata": {},
   "outputs": [],
   "source": [
    "%load \"answers/answer_001.txt\""
   ]
  },
  {
   "cell_type": "markdown",
   "metadata": {},
   "source": [
    "Pass this filename as an argument into the loading function of pyabf. Syntaxis: `pa.ABF(\"your_file_name\")`. Save the result in the object `data_file`"
   ]
  },
  {
   "cell_type": "code",
   "execution_count": null,
   "metadata": {},
   "outputs": [],
   "source": [
    "%load \"answers/answer_002.txt\""
   ]
  },
  {
   "cell_type": "markdown",
   "metadata": {},
   "source": [
    "Let's use the functions `print` and `.format` to see how this data looks like.\n",
    "The result should be something like:\n",
    "`data_file is an ....`"
   ]
  },
  {
   "cell_type": "code",
   "execution_count": null,
   "metadata": {},
   "outputs": [],
   "source": [
    "%load \"answers/answer_003.txt\""
   ]
  },
  {
   "cell_type": "markdown",
   "metadata": {},
   "source": [
    "Check what type of data we've loaded by calling the `type` function."
   ]
  },
  {
   "cell_type": "code",
   "execution_count": null,
   "metadata": {},
   "outputs": [],
   "source": [
    "%load \"answers/answer_004.txt\""
   ]
  },
  {
   "cell_type": "markdown",
   "metadata": {},
   "source": [
    "`data_file` is an object of class `ABF`. The `ABF` class is provided by the `pyabf` module (abbreviated `pa` in our code). Let's see what methods and attributes are provided by the `ABF` class. Remember that you can look up these methods and attributes by typing the name of the variable followed by a period and then hitting `TAB`. "
   ]
  },
  {
   "cell_type": "markdown",
   "metadata": {},
   "source": [
    "<a name=\"#Exercise-2\"></a>\n",
    "### Exercise 2\n",
    "<a href=\"#Overview\">Return to overview</a>\n",
    "Print the date when the file was created"
   ]
  },
  {
   "cell_type": "code",
   "execution_count": null,
   "metadata": {},
   "outputs": [],
   "source": [
    "# Answer \n",
    "print(data_file.abfDateTimeString)"
   ]
  },
  {
   "cell_type": "markdown",
   "metadata": {},
   "source": [
    "You'll notice two names, `sweepLabelX` and `sweepUnitsX` in the list of methods and attributes on `data_file`. What are these? Are they methods or attributes? How can you learn a little more about them?"
   ]
  },
  {
   "cell_type": "code",
   "execution_count": null,
   "metadata": {},
   "outputs": [],
   "source": [
    "%load \"answers/answer_005.txt\""
   ]
  },
  {
   "cell_type": "markdown",
   "metadata": {},
   "source": [
    "<a name=\"#Exercise-3\"></a>\n",
    "### Exercise 3\n",
    "<a href=\"#Overview\">Return to overview</a>\n",
    "\n",
    "Create two new variables: `time` and `current` and assign arrays of time and current values of the `data_file`. "
   ]
  },
  {
   "cell_type": "code",
   "execution_count": null,
   "metadata": {},
   "outputs": [],
   "source": [
    "%load \"answers/answer_006.txt\""
   ]
  },
  {
   "cell_type": "markdown",
   "metadata": {},
   "source": [
    "<a name=\"#Exercise-4\"></a>\n",
    "### Exercise 4\n",
    "<a href=\"#Overview\">Return to overview</a>\n",
    "Print the types of 'time' and 'current' variables. Use `.format` to make your output more readable. "
   ]
  },
  {
   "cell_type": "code",
   "execution_count": null,
   "metadata": {},
   "outputs": [],
   "source": [
    "%load \"answers/answer_007.txt\""
   ]
  },
  {
   "cell_type": "markdown",
   "metadata": {},
   "source": [
    "Cool! The data type returned here are `numpy` arrays. We've worked with these already in previous classes. "
   ]
  },
  {
   "cell_type": "markdown",
   "metadata": {},
   "source": [
    "<a name=\"#Slicing-data\"></a>\n",
    "## Slicing data\n",
    "<a href=\"#Overview\">Return to overview</a>\n"
   ]
  },
  {
   "cell_type": "markdown",
   "metadata": {},
   "source": [
    "<a name=\"#Exercise-5\"></a>\n",
    "### Exercise 5\n",
    "<a href=\"#Overview\">Return to overview</a>\n",
    "What are the dimensions of `time` and `current`? In other words, what are their shapes?"
   ]
  },
  {
   "cell_type": "code",
   "execution_count": null,
   "metadata": {},
   "outputs": [],
   "source": [
    "%load \"answers/answer_008.txt\""
   ]
  },
  {
   "cell_type": "markdown",
   "metadata": {},
   "source": [
    "\n",
    "<a name=\"#Exercise-6\"></a>\n",
    "### Exercise 6\n",
    "<a href=\"#Overview\">Return to overview</a>\n",
    "\n",
    "As a review from last week, how would we select only the current at the 34th time sample?\n",
    "\n",
    "Once you've extracted the current at the 34th time sample, please print the following string, `The current at sample 34 is XX YY` where XX is the current and YY is the unit (e.g., picoamps, nanoamps, etc.). *As a bonus, format the current value so it only prints the first two decimal places. Not sure how to do this? Use Google!"
   ]
  },
  {
   "cell_type": "code",
   "execution_count": null,
   "metadata": {},
   "outputs": [],
   "source": [
    "# Answer \n",
    "c_34 = current[34]\n",
    "print(\"The current at this time is {0} {1}\".format(c_34, data_file.sweepUnitsY))\n",
    "\n",
    "# using f-strings:\n",
    "i = 34\n",
    "string = f\"The current at sample {i} is {current[i]:.2f} {data_file.sweepUnitsY}\"\n",
    "print(string)\n",
    "\n",
    "# using format\n",
    "i = 34\n",
    "string = \"The current at sample {i} is {value:.2f} {units}\".format(i=i, value=current[i], units=data_file.sweepUnitsY)\n",
    "print(string)"
   ]
  },
  {
   "cell_type": "markdown",
   "metadata": {},
   "source": [
    "<a name=\"#Exercise-7\"></a>\n",
    "### Exercise 7\n",
    "<a href=\"#Overview\">Return to overview</a>\n",
    "* Great, we know that the 34th sample recorded a current of -33 pA, but what if we wanted to know what was going at a particulur time, in seconds? To figure this out, we need to calculate the rate at which the data was sampled. As a hint, the difference between consecutive timepoints gives us the period. Save the calculated value in a variable, `sample_rate`.\n",
    "* After you've successfully done this, use `sample_rate` to figure out what the current was at 0.5 seconds and print the following string `The current at XX sec is YY ZZ` where XX is the timepoint, YY is the current and ZZ is the unit of the current.\n",
    "\n"
   ]
  },
  {
   "cell_type": "code",
   "execution_count": null,
   "metadata": {},
   "outputs": [],
   "source": [
    "%load \"answers/answer_009.txt\""
   ]
  },
  {
   "cell_type": "markdown",
   "metadata": {},
   "source": [
    "\n",
    "<a name=\"#Exercise-8\"></a>\n",
    "### Exercise 8\n",
    "<a href=\"#Overview\">Return to overview</a>\n",
    "Let's extract the current from 0.1 to 0.2 sec and save it in a new variable, `data_slice`.\n"
   ]
  },
  {
   "cell_type": "code",
   "execution_count": null,
   "metadata": {},
   "outputs": [],
   "source": [
    "# Answer:\n",
    "t1_index = int(round(sample_rate * 0.1))\n",
    "t2_index = int(round(sample_rate * 0.2))\n",
    "\n",
    "data_slice = current[t1_index:t2_index]\n",
    "\n",
    "print(data_slice)"
   ]
  },
  {
   "cell_type": "markdown",
   "metadata": {},
   "source": [
    "**Let's briefly summarize what we've done so far** \n",
    "* loaded data, \n",
    "* figured out data types, \n",
    "* calculated the sampling rate and \n",
    "* did a refresher on how to slice data from a numpy array."
   ]
  },
  {
   "cell_type": "markdown",
   "metadata": {},
   "source": [
    "<a name=\"#Plot-the-data\"></a>\n",
    "## Plot the data\n",
    "<a href=\"#Overview\">Return to overview</a>\n",
    "To visualize this data, we will use the package `matplotlib.pyplot`, which imported at the beginning as `plt`\n"
   ]
  },
  {
   "cell_type": "code",
   "execution_count": null,
   "metadata": {},
   "outputs": [],
   "source": [
    "# Create a matplotlib figure and plot the trace. Note how we label the axes\n",
    "plt.figure()\n",
    "plt.plot(time, current, color='grey')\n",
    "plt.xlabel('Time (sec)')\n",
    "plt.ylabel('Current (pA)')\n",
    "plt.show()"
   ]
  },
  {
   "cell_type": "markdown",
   "metadata": {},
   "source": [
    " <img src=\"slice1.jpg\" width=300 >\n",
    "\n",
    "In our lab, we study synaptic transmission in Solitary nucleus (NTS) which is innervated by Solitary Truct and is a first reciever of information from peripheral neuros system. \n",
    "This trace is a patch-clamp recording from the NTS neuron in the slice including Solitary truct. The \"artifacts\" on the beginning caused by electric stimulation of the solitary truct. This stimulation evokes synchronous synaptic responses of NTS neurons from solitary truct, we call them *synchronous EPSCs*. Increasing stimuli intensity, we are able to see the thresholds for monosynaptic input and higher order connections on the neuron. You can get a lot of information about the network from the stimuli intensity thresholds, responce delay, shape and amplitude.\n",
    "Let's look close on them. \n",
    "\n",
    "<a name=\"#Exercise-9\"></a>\n",
    "### Exercise 9\n",
    "<a href=\"#Overview\">Return to overview</a>\n",
    "* Using `plt.ylim((bottom, top))` shrink the Y axis from -500 to 100 pA.\n",
    "* Also shrink the x-axis in order to zoom in on the artifacts between 0.03 and 0.07 sec. See if you can figure out what function can perform this action.\n",
    "* Be sure to label the x and y axes."
   ]
  },
  {
   "cell_type": "code",
   "execution_count": null,
   "metadata": {},
   "outputs": [],
   "source": [
    "%load \"answers/answer_010.txt\""
   ]
  },
  {
   "cell_type": "markdown",
   "metadata": {},
   "source": [
    "<a name=\"#Exercise-10\"></a>\n",
    "### Exercise 10\n",
    "<a href=\"#Overview\">Return to overview</a>\n",
    "* That looks good. But more often electrophysiologists need to analyse not evoked but spontaneous EPSC. So let's move the focus to the interval from 0.3 to 0.4 second of my recording, where we can see them. \n",
    "* To do this, we first need to locate the correct indexes. Please do this and save this indexes as two new variables: `t_03` and `t04`\n"
   ]
  },
  {
   "cell_type": "code",
   "execution_count": null,
   "metadata": {},
   "outputs": [],
   "source": [
    "%load \"answers/answer_011.txt\""
   ]
  },
  {
   "cell_type": "markdown",
   "metadata": {},
   "source": [
    "\n",
    "<a name=\"#Exercise-11\"></a>\n",
    "### Exercise 11\n",
    "<a href=\"#Overview\">Return to overview</a>\n",
    "* Use these indexes to slice out the current trace betwee 0.3 and 0.4 seconds.\n",
    "* Save this data into two new arrays `short_time` and `short_data`.\n",
    "* Finally, plot this data\n"
   ]
  },
  {
   "cell_type": "code",
   "execution_count": null,
   "metadata": {},
   "outputs": [],
   "source": [
    "%load \"answers/answer_012.txt\""
   ]
  },
  {
   "cell_type": "markdown",
   "metadata": {},
   "source": [
    "<a name=\"#Filter-the-data-trace\"></a>\n",
    "## Filter the data trace\n",
    "<a href=\"#Overview\">Return to overview</a>\n"
   ]
  },
  {
   "cell_type": "markdown",
   "metadata": {},
   "source": [
    "Without filtering EPSC recordings are usually quite noisy, making them difficult to read. Therefore, before analysis it is common to first filter everything above 1 kHz. We will do this by designing a low-pass butterworth filter using scipy's `signal` module."
   ]
  },
  {
   "cell_type": "markdown",
   "metadata": {},
   "source": [
    "Filtering data requires two steps:\n",
    "\n",
    "* Designing the filter. A filter consists of two sets of coefficients, conventionally known as `b` and `a`. To calculate these coefficients, we use the `iirfilter` function available via `scipy`. Take a look at the documentation for the function. How many arguments are required? Hint. You can tell based on the number of parameters that do not have default values set.\n",
    "* Applying the filter. This can be done using `filtfilt`, which takes the filter coefficients and the data to be filtered.\n",
    "\n",
    "Let's start with a first-order butterworth filter with a cutoff frequency of 1000 Hz. We have to convert the cutoff frequency to a normalized frequency, `Wn`. Normalized frequency is defined as the number of half-cycles per sample (as indicated by the docstring for `iirfilter`, also can be thought of as a fraction of Nyquist frequency):\n",
    "\n",
    "    f_cutoff = 1000\n",
    "    Wn = f_cutoff / (sample_rate/2)"
   ]
  },
  {
   "cell_type": "code",
   "execution_count": null,
   "metadata": {},
   "outputs": [],
   "source": [
    "# Design the filter\n",
    "f_cutoff = 1000\n",
    "Wn = f_cutoff / (sample_rate/2)\n",
    "b, a = ss.iirfilter(1, Wn, ftype='butter', btype='low')"
   ]
  },
  {
   "cell_type": "markdown",
   "metadata": {},
   "source": [
    "Next, we will apply to our \"short\" data"
   ]
  },
  {
   "cell_type": "code",
   "execution_count": null,
   "metadata": {},
   "outputs": [],
   "source": [
    "# Apply the filter\n",
    "filtered_data = ss.filtfilt(b, a, short_data) #filtering\n",
    "\n",
    "# plot the filtered data\n",
    "plt.figure()\n",
    "plt.plot(short_time, short_data, lw=.5) #non-filtered data\n",
    "plt.plot (short_time, filtered_data)    #filtered data on top\n",
    "plt.xlabel('Time (s)')\n",
    "plt.ylabel('Current (pA)')\n",
    "plt.legend(['unfiltered data', 'filtered data'])"
   ]
  },
  {
   "cell_type": "markdown",
   "metadata": {},
   "source": [
    "<a name=\"#Plot-the-Power-Spectral-Density-(PSD)\"></a>\n",
    "## Plot the Power Spectral Density (PSD)\n",
    "<a href=\"#Overview\">Return to overview</a>\n",
    "\n",
    "Power Spectral Density (PSD) is very usefull to check did the filter work properly.\n",
    "There is the function `psd` in the `matplotlib.pyplot` module which we imported as `plt`.\n",
    "<a name=\"#Exercise-12\"></a>\n",
    "### Exercise 12\n",
    "<a href=\"#Overview\">Return to overview</a>\n",
    "* Using documentation, figure out how to use `psd` function\n",
    "* Plot PSD of both `short_data` and `filtered_data`\n",
    "* Make the axis of frequencies logarithmic. Hint: xscale('log')"
   ]
  },
  {
   "cell_type": "code",
   "execution_count": null,
   "metadata": {},
   "outputs": [],
   "source": [
    "%load \"answers/answer_013.txt\""
   ]
  },
  {
   "cell_type": "markdown",
   "metadata": {},
   "source": [
    "Let's low-pass filter the signal with cut-off frequency 200 Hz and see what happens to the signal, and it's PSD. \n",
    "\n",
    "<a name=\"#Exercise-13\"></a>\n",
    "### Exercise 13\n",
    "<a href=\"#Overview\">Return to overview</a>\n",
    "* Design the filter with cut-off frequency 200 Hz.\n",
    "* Filter the `short_data` and save the result in new `filtered_data200` array\n",
    "* plot `filtered_data` and `filtered_data200` on top of each other\n",
    "* Label axises and add the legend "
   ]
  },
  {
   "cell_type": "code",
   "execution_count": null,
   "metadata": {},
   "outputs": [],
   "source": [
    "%load \"answers/answer_014.txt\""
   ]
  },
  {
   "cell_type": "markdown",
   "metadata": {},
   "source": [
    "Let's see how PSD changed\n",
    "\n",
    "<a name=\"#Exercise-14\"></a>\n",
    "### Exercise 14\n",
    "<a href=\"#Overview\">Return to overview</a>\n",
    "* plot PSD of all three signals: short_data, filtered_data and filtered_data200.\n",
    "* Make the axis of frequencies logarithmic\n",
    "* Add the legend"
   ]
  },
  {
   "cell_type": "code",
   "execution_count": null,
   "metadata": {},
   "outputs": [],
   "source": [
    "%load \"answers/answer_015.txt\""
   ]
  },
  {
   "cell_type": "markdown",
   "metadata": {},
   "source": [
    "<a name=\"#Find-the-location-of-EPSC-peak\"></a>\n",
    "## Find the location of EPSC peak\n",
    "<a href=\"#Overview\">Return to overview</a>\n",
    "\n",
    "We have reviewed a big topic of e-phys analysis, data filtering.\n",
    "Let's come back to the main topic of the EPSC peaks finding.\n",
    "Knowing the EPSC peak times, we can make lots of different analisys. We can avarege EPSCs, quantify the frequency, amplitude, decay time etc. \n",
    "We will test `argrelmin` function from `scipy.signal` module for this.\n",
    "\n",
    " **scipy.signal.argrelmin(data, axis=0, order=1, mode='clip')**\n",
    " \n",
    "    Calculate the relative minima of data.\n",
    "    Parameters:\n",
    "            data : ndarray         #Array in which to find the relative minima.\n",
    "            axis : int, optional   #Axis over which to select from data. Default is 0.\n",
    "            order : int, optional  #How many points on each side to use\n",
    "                                   #for the comparison to consider comparator(n, n+x) to be True.\n",
    "            mode : str, optional   #How the edges of the vector are treated. Available options are ‘wrap’ \n",
    "                                   #(wrap around) or ‘clip’ \n",
    "                                   #(treat overflow as the same as the last (or first) element). \n",
    "\n",
    "    Returns:\t\n",
    "            extrema : tuple of ndarrays\n",
    "                                   #Indices of the minima in arrays of integers. \n",
    "                                   #extrema[k] is the array of indices of axis k of data.\n"
   ]
  },
  {
   "cell_type": "markdown",
   "metadata": {},
   "source": [
    "<a name=\"#Exercise-15\"></a>\n",
    "### Exercise 15\n",
    "<a href=\"#Overview\">Return to overview</a>\n",
    "We imported already `scipy.signal` module as `ss`.\n",
    "\n",
    "Using the `argrelmin` function, find the relative minima of `filtered_data` and save them to the new tuple *argrelmin_res*.\n",
    "Print result."
   ]
  },
  {
   "cell_type": "code",
   "execution_count": null,
   "metadata": {},
   "outputs": [],
   "source": [
    "%load \"answers/answer_016.txt\""
   ]
  },
  {
   "cell_type": "markdown",
   "metadata": {},
   "source": [
    "That's definitely not what we expected. Let's change the parameters of the function. Order (How many points on each side must be greater than the point of interest in order for it to be considered a minima) sounds right. Let's change it to 1000 and run the function one more time."
   ]
  },
  {
   "cell_type": "code",
   "execution_count": null,
   "metadata": {},
   "outputs": [],
   "source": [
    "argrelmin_res = ss.argrelmin(filtered_data, order=1000)\n",
    "print (argrelmin_res)"
   ]
  },
  {
   "cell_type": "markdown",
   "metadata": {},
   "source": [
    "This looks better, but still not exactly what we need. \n",
    "Let's say, we don't need to identify any events lower they 50 pA in amplitude.\n",
    "We can create the logical (`True` `False`) mask. In other words, let's create a vector that is `True` when the current is less than -50 pA and `False` when it is greater than -50 pA."
   ]
  },
  {
   "cell_type": "code",
   "execution_count": null,
   "metadata": {},
   "outputs": [],
   "source": [
    "threshold = -50   # Don't want to call anything below -50 pA an EPSC event\n",
    "\n",
    "# create a \"mask\" over all the data that meets this criteria\n",
    "mask = filtered_data < threshold"
   ]
  },
  {
   "cell_type": "code",
   "execution_count": null,
   "metadata": {},
   "outputs": [],
   "source": [
    "# see how mask is just an array of true and false?\n",
    "print(mask)\n",
    "plt.plot(mask)"
   ]
  },
  {
   "cell_type": "markdown",
   "metadata": {},
   "source": [
    " Function `argrelmin` returns a  tuple of arrays, and the return value is a tuple even when data is one-dimensional. Thus, the array of peaks will be argrelmin_res[0]"
   ]
  },
  {
   "cell_type": "code",
   "execution_count": null,
   "metadata": {},
   "outputs": [],
   "source": [
    "all_peaks = ss.argrelmin(filtered_data, order=1000)[0]\n",
    "print (all_peaks)"
   ]
  },
  {
   "cell_type": "markdown",
   "metadata": {},
   "source": [
    "That gaves us 5 peaks, as we saw above. We only actually want three. So, now we use the mask to only keep\n",
    "peaks ocurring when the traces was bigger than threshold.\n",
    "Below there is a small loop sorting out the peaks not overlapping with mask."
   ]
  },
  {
   "cell_type": "code",
   "execution_count": null,
   "metadata": {},
   "outputs": [],
   "source": [
    "EPSC_peaks = []  #empty array for saving the right peaks in\n",
    "\n",
    "for peak in all_peaks:\n",
    "    if mask[peak] == True:         #overlapping with mask     \n",
    "        EPSC_peaks.append(peak)    #add this peak to the end of EPSC_peaks array\n",
    "    else:\n",
    "        pass\n",
    "\n",
    "print(\"These were all peaks detected by argrelmin: {0}\".format(all_peaks))\n",
    "\n",
    "print(\"Only these peaks: {0} exceeded the threshold of -50 pA\".format(EPSC_peaks))"
   ]
  },
  {
   "cell_type": "markdown",
   "metadata": {},
   "source": [
    "Now, let's plot these peaks overlayed on the trace to confirm we ID'd the right ones.\n",
    "\n",
    "<a name=\"#Exercise-16\"></a>\n",
    "### Exercise 16\n",
    "<a href=\"#Overview\">Return to overview</a>\n",
    "* Plot `filtered_data` currents vs time. Make it grey (color='grey') \n",
    "* Plot EPSC peaks as black stars (\"*\", color='k', markersize=10) on top of the current trace. \n",
    "\n",
    "Hint:`EPSC_peaks` array stores the indexes of EPSC peaks. The times of EPSC peaks are `short_time[EPSC_peaks]` and the current values in these point are `filtered_data[EPSC_peaks]`.\n"
   ]
  },
  {
   "cell_type": "code",
   "execution_count": null,
   "metadata": {},
   "outputs": [],
   "source": [
    "%load \"answers/answer_017.txt\""
   ]
  },
  {
   "cell_type": "markdown",
   "metadata": {},
   "source": [
    "Now, we are going to combine everything we've done below for analysing the bigger piece of data. \n",
    "We still have the entire recording of current values saved as `current = data_file.sweepY` and time as `time = data_file.sweepX`\n",
    "\n",
    "<a name=\"#Exercise-17\"></a>\n",
    "### Exercise 17\n",
    "<a href=\"#Overview\">Return to overview</a>\n",
    "\n",
    "Extract data from 0.08 to 0.4 sec. Save current and time arrays as `time1` and `current1` "
   ]
  },
  {
   "cell_type": "code",
   "execution_count": null,
   "metadata": {},
   "outputs": [],
   "source": [
    "%load \"answers/answer_018.txt\""
   ]
  },
  {
   "cell_type": "markdown",
   "metadata": {},
   "source": [
    "<a name=\"#Exercise-18\"></a>\n",
    "### Exercise 18\n",
    "<a href=\"#Overview\">Return to overview</a>\n",
    "\n",
    "Lowpass filter `current1` with a butterworth using a cutoff of 1000 Hz.\n",
    "Save to `current1_filtered`"
   ]
  },
  {
   "cell_type": "code",
   "execution_count": null,
   "metadata": {},
   "outputs": [],
   "source": [
    "%load \"answers/answer_019.txt\""
   ]
  },
  {
   "cell_type": "markdown",
   "metadata": {},
   "source": [
    "Create the variable `thresh` and set it equal to -47."
   ]
  },
  {
   "cell_type": "code",
   "execution_count": null,
   "metadata": {},
   "outputs": [],
   "source": [
    "%load \"answers/answer_020.txt\""
   ]
  },
  {
   "cell_type": "markdown",
   "metadata": {},
   "source": [
    "Finally, create the array `mask` with logical values, where *current value < thresh* is  *True*  for `current1_filtered`"
   ]
  },
  {
   "cell_type": "code",
   "execution_count": null,
   "metadata": {},
   "outputs": [],
   "source": [
    "%load \"answers/answer_021.txt\""
   ]
  },
  {
   "cell_type": "markdown",
   "metadata": {},
   "source": [
    "Now finding EPSC peaks\n",
    "\n",
    "<a name=\"#Exercise-19\"></a>\n",
    "### Exercise 19\n",
    "<a href=\"#Overview\">Return to overview</a>\n",
    "\n",
    "* Using `argrelmin` with order = 25, create array `all_peaks` with minimas of `current1_filtered`\n",
    "* Print `all_peaks`\n"
   ]
  },
  {
   "cell_type": "code",
   "execution_count": null,
   "metadata": {},
   "outputs": [],
   "source": [
    "%load \"answers/answer_022.txt\""
   ]
  },
  {
   "cell_type": "markdown",
   "metadata": {},
   "source": [
    "<a name=\"#Exercise-20\"></a>\n",
    "### Exercise 20\n",
    "<a href=\"#Overview\">Return to overview</a>\n",
    "\n",
    "This code has a mistake and won't run. Please fix the mistake and run it:\n",
    "\n",
    "    # Use mask to screen for real peaks\n",
    "    EPSC_peaks = []\n",
    "\n",
    "    for peak in all_peaks:\n",
    "        if mask[peak] = True:\n",
    "            EPSC_peaks.append(peak)\n",
    "        else:\n",
    "            pass\n"
   ]
  },
  {
   "cell_type": "code",
   "execution_count": null,
   "metadata": {},
   "outputs": [],
   "source": [
    "%load \"answers/answer_023.txt\""
   ]
  },
  {
   "cell_type": "markdown",
   "metadata": {},
   "source": [
    "<a name=\"#Exercise-21\"></a>\n",
    "### Exercise 21\n",
    "<a href=\"#Overview\">Return to overview</a>\n",
    "\n",
    "Plot this results to see if it makes any sense:\n",
    "* Plot `current1_filtered` in it's time axis in grey color\n",
    "* Plot `EPSC_peaks` as big red stars on top of it\n",
    "* Plot `all_peaks` as black dots on top of everything"
   ]
  },
  {
   "cell_type": "code",
   "execution_count": null,
   "metadata": {},
   "outputs": [],
   "source": [
    "%load \"answers/answer_024.txt\""
   ]
  },
  {
   "cell_type": "markdown",
   "metadata": {},
   "source": [
    "<a name=\"#Calculate-summary-statistic\"></a>\n",
    "## Calculate summary statistic\n",
    "<a href=\"#Overview\">Return to overview</a>\n"
   ]
  },
  {
   "cell_type": "markdown",
   "metadata": {},
   "source": [
    "<a name=\"#Exercise-22\"></a>\n",
    "### Exercise 22\n",
    "<a href=\"#Overview\">Return to overview</a>\n",
    "* Using **numpy.mean** and **numpy.std** functions, calculate and print mean and standard deviation of EPSC peak amplitude."
   ]
  },
  {
   "cell_type": "code",
   "execution_count": null,
   "metadata": {},
   "outputs": [],
   "source": [
    "%load \"answers/answer_025.txt\""
   ]
  },
  {
   "cell_type": "markdown",
   "metadata": {},
   "source": [
    "* calculate EPSC frequency as number of events in one second. Hint: `EPSC_peaks is a list`, you can get it's lenth using `len(EPSC_peaks)`"
   ]
  },
  {
   "cell_type": "code",
   "execution_count": null,
   "metadata": {},
   "outputs": [],
   "source": [
    "%load \"answers/answer_026.txt\""
   ]
  },
  {
   "cell_type": "markdown",
   "metadata": {},
   "source": [
    "<a name=\"#Summary\"></a>\n",
    "## Summary\n",
    "<a href=\"#Overview\">Return to overview</a>\n",
    "\n",
    "   * **pyabf** loads ABF files and presents data in `numpy` format\n",
    "   * Low-pass Butterworth filter works in two steps\n",
    "   * `argrelmin` from **scipy signal** works well but might require some additional tweaks to get it to work the way you want\n",
    "   \n",
    "**Thank you!** \n",
    "   "
   ]
  }
 ],
 "metadata": {
  "kernelspec": {
   "display_name": "Python 3",
   "language": "python",
   "name": "python3"
  },
  "language_info": {
   "codemirror_mode": {
    "name": "ipython",
    "version": 3
   },
   "file_extension": ".py",
   "mimetype": "text/x-python",
   "name": "python",
   "nbconvert_exporter": "python",
   "pygments_lexer": "ipython3",
   "version": "3.6.5"
  }
 },
 "nbformat": 4,
 "nbformat_minor": 2
}
