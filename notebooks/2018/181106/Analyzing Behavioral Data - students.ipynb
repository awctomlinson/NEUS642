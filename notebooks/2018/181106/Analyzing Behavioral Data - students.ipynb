{
 "cells": [
  {
   "cell_type": "markdown",
   "metadata": {},
   "source": [
    "<a href=\"#Overview\"></a>\n",
    "# Overview\n",
    "* <a href=\"#Introduction\">Introduction</a>\n",
    "  * <a href=\"#Vagus-nerve-stimulation-(VNS)\">Vagus nerve stimulation (VNS)</a>\n",
    "  * <a href=\"#Surgery\">Surgery</a>\n",
    "  * <a href=\"#Behavior-study\">Behavior study</a>\n",
    "* <a href=\"#Loading-the-data\">Loading the data</a>\n",
    "  * <a href=\"#Exercise-1\">Exercise 1</a>\n",
    "  * <a href=\"#Exercise-2\">Exercise 2</a>\n",
    "* <a href=\"#Organizing-the-data\">Organizing the data</a>\n",
    "  * <a href=\"#Tones-receiving-a-reward\">Tones receiving a reward</a>\n",
    "    * <a href=\"#Exercise-3\">Exercise 3</a>\n",
    "    * <a href=\"#Exercise-4\">Exercise 4</a>\n",
    "  * <a href=\"#Exercise-5\">Exercise 5</a>\n",
    "* <a href=\"#Non-rewarded-tones\">Non-rewarded tones</a>\n",
    "  * <a href=\"#Exercise-6\">Exercise 6</a>\n",
    "  * <a href=\"#Exercise-7\">Exercise 7</a>\n",
    "  * <a href=\"#Exercise-8\">Exercise 8</a>\n",
    "* <a href=\"#For-Loops\">For Loops</a>\n",
    "  * <a href=\"#Exercise-9\">Exercise 9</a>\n",
    "* <a href=\"#Exercise-10\">Exercise 10</a>\n",
    "* <a href=\"#Using-the-for-loop-to-calculate-hit-rates\">Using the for loop to calculate hit rates</a>\n",
    "  * <a href=\"#Exercise-11\">Exercise 11</a>\n",
    "  * <a href=\"#Exercise-12\">Exercise 12</a>\n",
    "  * <a href=\"#Exercise-13\">Exercise 13</a>\n",
    "  * <a href=\"#Exercise-14\">Exercise 14</a>\n",
    "  * <a href=\"#Exercise-15\">Exercise 15</a>\n",
    "* <a href=\"#Equilizing-bins-of-exposures-between-tones\">Equilizing bins of exposures between tones</a>\n",
    "  * <a href=\"#Exercise-16\">Exercise 16</a>\n",
    "  * <a href=\"#Exercise-17\">Exercise 17</a>\n",
    "* <a href=\"#Learning-Index\">Learning Index</a>\n",
    "  * <a href=\"#Combining-lists\">Combining lists</a>\n",
    "  * <a href=\"#Exercise-18\">Exercise 18</a>\n",
    "  * <a href=\"#Back-to-the-Learning-Index\">Back to the Learning Index</a>\n",
    "    * <a href=\"#Exercise-19\">Exercise 19</a>\n",
    "    * <a href=\"#Exercise-20\">Exercise 20</a>\n",
    "    * <a href=\"#Exercise-21\">Exercise 21</a>\n",
    "* <a href=\"#Creating-a-boxplot\">Creating a boxplot</a>\n",
    "  * <a href=\"#Exercise-22\">Exercise 22</a>\n",
    "* <a href=\"#Organizing-the-data-to-look-at-it-another-way\">Organizing the data to look at it another way</a>\n",
    "  * <a href=\"#Exercise-23\">Exercise 23</a>\n",
    "  * <a href=\"#List-comprehensions\">List comprehensions</a>\n",
    "    * <a href=\"#Exercise-24\">Exercise 24</a>\n",
    "  * <a href=\"#Exercise-25\">Exercise 25</a>\n",
    "  * <a href=\"#Plotting-the-results\">Plotting the results</a>\n",
    "    * <a href=\"#Exercise-26\">Exercise 26</a>\n",
    "* <a href=\"#Congratulations!\">Congratulations!</a>"
   ]
  },
  {
   "cell_type": "markdown",
   "metadata": {},
   "source": [
    "<a name=\"#Introduction\"></a>\n",
    "# Introduction\n",
    "<a href=\"#Overview\">Return to overview</a>\n",
    "\n",
    "<a name=\"#Vagus-nerve-stimulation-(VNS)\"></a>\n",
    "## Vagus nerve stimulation (VNS)\n",
    "<a href=\"#Overview\">Return to overview</a>\n",
    "The vagus nerve is a nerve that runs along the neck. It controls the functions of the heart, lungs and digestive tract, as well as sends updated sensory information regarding the state of these organs to the brain. \n",
    "\n",
    "The selectivity of neurons in sensory cortex, including the primary auditory cortex (A1), can be modified by pairing neuromodulator (acetylcholine and norepinephrine) release with sensory stimulation. Vagus nerve stimulation (VNS) is a safe and effective way to trigger the release of neuromodulators with a high degree of temporal control. By repeated pairing of tonal sounds (sensory stimulation) with VNS, for example, alters neurons' spectral tuning and induces specific and long-lasting plasticity in A1. Based on the capacity to drive specific changes in neural circuitry, VNS paired with experience has been successful in effectively ameliorating animal models of chronic tinnitus, stroke, and posttraumatic stress disorder. Although there are evidences showing VNS-tone pairing can promote A1 cortical plasticity, there is no data showing how VNS-tone pairing would affect behavioral performances, such as tone or sound recognition. Hence, the Stephen lab is interested in finding out whether VNS-tone pairing can increase the speed of learning to identify different tones.\n",
    "\n",
    "<img src = \"VNSmodel.jpg\" width=\"500\" >\n",
    "\n",
    "<a name=\"#Surgery\"></a>\n",
    "## Surgery\n",
    "<a href=\"#Overview\">Return to overview</a>\n",
    "In order to stimulate the vagus nerve, a cuff electrode was implanted into an animal (ferret). The cuff electrode wrapped around the animal's vagus nerve that runs along the neck. The cable connecting the cuff electrode and the leads were tunneled under the skin, and only the leads were exposed so that electrical stimulation of the cuff electrode can be performed outwardly. \n",
    "    \n",
    "<a name=\"#Behavior-study\"></a>\n",
    "## Behavior study\n",
    "<a href=\"#Overview\">Return to overview</a>\n",
    "After surgery, animals were trained to perform a tone-reward association task using classical conditioning method. In the behavioral task, two tones (either higher or lower frequency) and references (noise) were presented to animals. One out of the two tones was associated with a liquid reward while the other tone has no reward. In one training session, for example, we set the higher frequency tone to associate with a reward. In the next session, we set the lower frequency tone to have a reward. This is to train animals to identify which tone was associated with a reward within a training session. The below picture is a schematic showing how a trial of the tone-reward association task was carried out.      \n",
    "\n",
    "<img src = \"behavior_training.png\" width=\"600\" >\n",
    "\n",
    "In this exercise we will look at if VNS enhances discrimination learning between a tone associated with a reward and a tone associated with no reward. We will take raw data from actual behavioral experiments, organize these data into useful categories using 'for loops', analyze the data to determine hit rate values for VNS stimulation paired with a tone or unpaired with a tone, and visually represent this using a box plot and bar graph. "
   ]
  },
  {
   "cell_type": "code",
   "execution_count": null,
   "metadata": {},
   "outputs": [],
   "source": [
    "# Import libraries\n",
    "import pandas as pd\n",
    "import matplotlib.pyplot as plt\n",
    "\n",
    "pd.options.display.max_rows = 5"
   ]
  },
  {
   "cell_type": "markdown",
   "metadata": {},
   "source": [
    "<a name=\"#Loading-the-data\"></a>\n",
    "# Loading the data\n",
    "<a href=\"#Overview\">Return to overview</a>\n",
    "\n",
    "<a name=\"#Exercise-1\"></a>\n",
    "## Exercise 1\n",
    "<a href=\"#Overview\">Return to overview</a>\n",
    "\n",
    "Let's import the data we'll be using for this exercise. There are two files, one that has data from when the vagus nerve is stimulated and paired with tone presentation ('DataVNS.csv'). The other one is the data when the vagus nerve is stimulated but unpaired with tone presentation ('DataUN.csv'). Go ahead and import the data files, making the dataframes for both the paired vagus nerve stimulation trials and the unpaired trials as `dataVNS_raw` and `dataUN_raw`, respectively. Check out what the dataframes look like by displaying one of them below the cell."
   ]
  },
  {
   "cell_type": "code",
   "execution_count": null,
   "metadata": {},
   "outputs": [],
   "source": [
    "# Your answer here"
   ]
  },
  {
   "cell_type": "markdown",
   "metadata": {},
   "source": [
    "<a name=\"#Exercise-2\"></a>\n",
    "## Exercise 2\n",
    "<a href=\"#Overview\">Return to overview</a>\n",
    "\n",
    "Matlab exported the data using a different \"scale\" for each dataset. To fix this, we need to multiply all rows in the UN dataframe by 1,000 and all rows in the VNS dataframe by 10,000. Make sure to save the data into new variables, e.g. `dataVNS` and `dataUN`."
   ]
  },
  {
   "cell_type": "code",
   "execution_count": null,
   "metadata": {},
   "outputs": [],
   "source": [
    "# Your answer here"
   ]
  },
  {
   "cell_type": "markdown",
   "metadata": {},
   "source": [
    "In the above dataframes, each row represents a trial. The columns contain information of the trial conditions (e.g. tone frequency of target, reward type, paired or unpaired VNS, etc.) as well as the ferret's licking responses. During each trial, either a noise (0 under `Stim type`) or a tone (where any non-zero number represents the frequency of the target) is played. In the `VNS type` column, 1 represents that the sound stimulus was paired with a VNS and 0 is not. The column `Hit Count` provides information if the ferret licked (indicated by 1) or did not lick (indicated by 0) during that trial. The column `Reward Type` shows the if the tone (target) in that trial was rewarded (represented by 10) or not rewarded (represented by 1).    "
   ]
  },
  {
   "cell_type": "markdown",
   "metadata": {},
   "source": [
    "<a name=\"#Organizing-the-data\"></a>\n",
    "# Organizing the data\n",
    "<a href=\"#Overview\">Return to overview</a>\n",
    "\n",
    "<a name=\"#Tones-receiving-a-reward\"></a>\n",
    "## Tones receiving a reward\n",
    "<a href=\"#Overview\">Return to overview</a>\n",
    "\n",
    "<a name=\"#Exercise-3\"></a>\n",
    "### Exercise 3\n",
    "<a href=\"#Overview\">Return to overview</a>\n",
    "\n",
    "Next let's organize this data into specific reward types. Noise trials are coded as 0. We don't care about those. The tone that isn't rewarded is coded as 1.0, and the tone that is rewarded is coded as 10.   Remember masks? We can use a mask here to give boolean values that only list the values that we set as important to True, which we can then use to parse apart our data. Create a variable, `tone1_VNS_mask`, to search for trials where `Reward Type` equals to `10`. "
   ]
  },
  {
   "cell_type": "code",
   "execution_count": null,
   "metadata": {},
   "outputs": [],
   "source": [
    "# Your answer here"
   ]
  },
  {
   "cell_type": "markdown",
   "metadata": {},
   "source": [
    "<a name=\"#Exercise-4\"></a>\n",
    "### Exercise 4\n",
    "<a href=\"#Overview\">Return to overview</a>\n",
    "\n",
    "Use the mask to get the data that we want from `dataVNS` and save them as `tone1VNS`. Display `tone1VNS` to make sure it all looks alright.\n",
    "\n",
    "Hint: Remember `loc` and `iloc`? `loc` is used for indexing by row labels and boolean masks, and `iloc` is used for indexing by position (i.e., row number). Which should you use here?"
   ]
  },
  {
   "cell_type": "code",
   "execution_count": null,
   "metadata": {},
   "outputs": [],
   "source": [
    "# Your answer here"
   ]
  },
  {
   "cell_type": "markdown",
   "metadata": {},
   "source": [
    "<a name=\"#Exercise-5\"></a>\n",
    "## Exercise 5\n",
    "<a href=\"#Overview\">Return to overview</a>\n",
    "\n",
    "Repeat the prior two exercises, but using `dataUN` instead. You can save the data as `tone1UN`."
   ]
  },
  {
   "cell_type": "code",
   "execution_count": null,
   "metadata": {},
   "outputs": [],
   "source": [
    "# Your answer here"
   ]
  },
  {
   "cell_type": "markdown",
   "metadata": {},
   "source": [
    "<a name=\"#Non-rewarded-tones\"></a>\n",
    "# Non-rewarded tones\n",
    "<a href=\"#Overview\">Return to overview</a>\n",
    "\n",
    "Next, let's take a look at the non-rewarded tones for both the paired vagus nerve stimulation and the unpaired condition. Repeat the prior three exercises, but this time for the tones that were not rewarded. Store the values as `tone2VNS` and `tone2UN`. Remember that the `Reward Type` for non-rewarded trials are coded as 1."
   ]
  },
  {
   "cell_type": "markdown",
   "metadata": {},
   "source": [
    "<a name=\"#Exercise-6\"></a>\n",
    "## Exercise 6\n",
    "<a href=\"#Overview\">Return to overview</a>\n"
   ]
  },
  {
   "cell_type": "code",
   "execution_count": null,
   "metadata": {},
   "outputs": [],
   "source": [
    "# Your answer here"
   ]
  },
  {
   "cell_type": "markdown",
   "metadata": {},
   "source": [
    "<a name=\"#Exercise-7\"></a>\n",
    "## Exercise 7\n",
    "<a href=\"#Overview\">Return to overview</a>\n",
    "\n",
    "Please remember that the column `Hit Count` provides information about if the ferret licked (indicated by 1) or did not lick (indicated by 0) during that trial. This is not really a 'hit count', but a count that can be used to compute a hit count. If the ferret licked correctly during the rewarded tone, that is a HIT. On the other hand, if the ferret licked during the unrewarded tone, that is a MISS. Both cases are shown as `1` in the `Hit Count` column. \n",
    "    \n",
    "For now, let's store the data from the `Hit Count` column for each tone in it's own variable. Give them the names: `t1VNS_hit`, `t2VNS_hit`, `t1UN_hit`, and `t2UN_hit`. Display one of the variables to see what it looks like. "
   ]
  },
  {
   "cell_type": "code",
   "execution_count": null,
   "metadata": {},
   "outputs": [],
   "source": [
    "# Your answer here"
   ]
  },
  {
   "cell_type": "markdown",
   "metadata": {},
   "source": [
    "<a name=\"#Exercise-8\"></a>\n",
    "## Exercise 8\n",
    "<a href=\"#Overview\">Return to overview</a>\n",
    "\n",
    "Next we'll actually convert these numbers into a hit rate, or the sum of the correct hits divided by the total number. Let's look at the hit rate of the first five trials to Tone 1. Store the value as a variable: HR.\n",
    "\n",
    "Hint: We're extracting rows from a series. How can we do this? Why are we using this approach instead of the one we used previously?"
   ]
  },
  {
   "cell_type": "code",
   "execution_count": null,
   "metadata": {},
   "outputs": [],
   "source": [
    "# Your answer here"
   ]
  },
  {
   "cell_type": "markdown",
   "metadata": {},
   "source": [
    "<a name=\"#For-Loops\"></a>\n",
    "# For Loops\n",
    "<a href=\"#Overview\">Return to overview</a>\n",
    "\n",
    "For loops are great for taking items in a list and performing some kind of a function on each iteration within that list.  For example, imagine we had a bunch of numbers that we wanted to find the square of:"
   ]
  },
  {
   "cell_type": "code",
   "execution_count": null,
   "metadata": {},
   "outputs": [],
   "source": [
    "numbers = [43, 201, 323, 785, 92, 1, 10205]"
   ]
  },
  {
   "cell_type": "markdown",
   "metadata": {},
   "source": [
    "We could calculate all these out using our calculator, but that would be a pain. Python makes it easy. \n",
    "\n",
    "Let's use a 'for loop' to make this automatic!\n",
    "\n",
    "Here's the format for a for loop:\n",
    "\n",
    "    for x in list:\n",
    "        Do something\n",
    " \n",
    "Using for loops, you can easily perform a function on each iterable in a list! "
   ]
  },
  {
   "cell_type": "markdown",
   "metadata": {},
   "source": [
    "<a name=\"#Exercise-9\"></a>\n",
    "## Exercise 9\n",
    "<a href=\"#Overview\">Return to overview</a>\n",
    "\n",
    "Make a for loop that iterates through each item in `numbers` and prints the square of the item."
   ]
  },
  {
   "cell_type": "code",
   "execution_count": null,
   "metadata": {},
   "outputs": [],
   "source": [
    "# Your answer here"
   ]
  },
  {
   "cell_type": "markdown",
   "metadata": {},
   "source": [
    "<a name=\"#Exercise-10\"></a>\n",
    "# Exercise 10\n",
    "<a href=\"#Overview\">Return to overview</a>\n",
    "\n",
    "Imagine we had a list of names:"
   ]
  },
  {
   "cell_type": "code",
   "execution_count": null,
   "metadata": {},
   "outputs": [],
   "source": [
    "names = ['Robb', 'Jon', 'Sansa', 'Arya', 'Bran', 'Rickon', 'Jon again']"
   ]
  },
  {
   "cell_type": "markdown",
   "metadata": {},
   "source": [
    "\n",
    "Let's say we wanted to welcome back these individuals to their homeland, Winterfell, and bestow upon them their rightful rule over the North. Unfortunately, they keep dying. As a loyal Winterfellian and Pythonist, you want to make sure you can quickly welcome each of them home as the rightful ruler. \n",
    "\n",
    "Let's use a 'for loop' to print out each ruler as \"King of the North!\" "
   ]
  },
  {
   "cell_type": "code",
   "execution_count": null,
   "metadata": {},
   "outputs": [],
   "source": [
    "# Your answer here"
   ]
  },
  {
   "cell_type": "markdown",
   "metadata": {},
   "source": [
    "But wait, Sansa and Arya (especially Arya) will have your head if you call them \"King\". Let's write a function that prints out the appropriate sentence depending on whether the person is a girl or boy (e.g., `Robb is King in the North!`, `Sansa is Queen in the North!`). Test your function on `Robb` and `Sansa` to verify it works.\n",
    "\n",
    "Hint: All girls born into House Stark are given a name that end with 'a' for reasons that the creator, GRRM, may reveal to us within the next decade or five. "
   ]
  },
  {
   "cell_type": "code",
   "execution_count": null,
   "metadata": {},
   "outputs": [],
   "source": [
    "# Your answer here"
   ]
  },
  {
   "cell_type": "markdown",
   "metadata": {},
   "source": [
    "It worked! But those Starks are dying faster than expected. Let's use that function combined with a 'for loop' to rapid-fire announce our new lieges. Loop through each name and print the appropriate greeting."
   ]
  },
  {
   "cell_type": "code",
   "execution_count": null,
   "metadata": {},
   "outputs": [],
   "source": [
    "# Your answer here"
   ]
  },
  {
   "cell_type": "markdown",
   "metadata": {},
   "source": [
    "<a name=\"#Using-the-for-loop-to-calculate-hit-rates\"></a>\n",
    "# Using the for loop to calculate hit rates\n",
    "<a href=\"#Overview\">Return to overview</a>\n",
    "\n",
    "Good job! We're next going to use that 'for loop' knowledge to get the hit rate for every iteration of 5. But first we need to split our data into bins of 5."
   ]
  },
  {
   "cell_type": "markdown",
   "metadata": {},
   "source": [
    "<a name=\"#Exercise-11\"></a>\n",
    "## Exercise 11\n",
    "<a href=\"#Overview\">Return to overview</a>\n",
    "\n",
    "Make a variable that represents the total number of rows we have in our data, let's start with `t1VNS_hit`. Label the variable `n_rows`. "
   ]
  },
  {
   "cell_type": "code",
   "execution_count": null,
   "metadata": {},
   "outputs": [],
   "source": [
    "# Your answer here"
   ]
  },
  {
   "cell_type": "markdown",
   "metadata": {},
   "source": [
    "Next, create a sequence of integers from 0 to `n_rows` with a spacing of 5, name it `row_steps`. Remember the `range` function? How can we use that here?\n",
    "\n",
    "Show what row_steps looks like by converting it to a list and displaying the list. To find out why converting to a list is necessary for the purpose of printing the contents, try `print(row_steps)` and see what you get."
   ]
  },
  {
   "cell_type": "code",
   "execution_count": null,
   "metadata": {},
   "outputs": [],
   "source": [
    "# Your answer here"
   ]
  },
  {
   "cell_type": "markdown",
   "metadata": {},
   "source": [
    "<a name=\"#Exercise-12\"></a>\n",
    "## Exercise 12\n",
    "<a href=\"#Overview\">Return to overview</a>\n",
    "\n",
    "Now that we have the steps we want, we can use the sequence to calculate the hit rate for each group of 5 trials. Initialize an empty list called `HR_t1VNS`. Use a 'for loop' to go through each iteration in `row_steps`, summing the hits from each group of 5 (from `t1VNS_hit`) and dividing them by 5. Don't forget to append the calculated hit rate to list!\n",
    "\n",
    "Print out `HR_t1VNS` to make sure everything looks alright."
   ]
  },
  {
   "cell_type": "code",
   "execution_count": null,
   "metadata": {},
   "outputs": [],
   "source": [
    "# Your answer here"
   ]
  },
  {
   "cell_type": "markdown",
   "metadata": {},
   "source": [
    "Does this look right? What might be wrong? What if the total number of calculations isn't divisible by 5? Let's see how many observations were present in our data sample."
   ]
  },
  {
   "cell_type": "markdown",
   "metadata": {},
   "source": [
    "<a name=\"#Exercise-13\"></a>\n",
    "## Exercise 13\n",
    "<a href=\"#Overview\">Return to overview</a>\n"
   ]
  },
  {
   "cell_type": "code",
   "execution_count": null,
   "metadata": {},
   "outputs": [],
   "source": [
    "# Your answer here"
   ]
  },
  {
   "cell_type": "markdown",
   "metadata": {},
   "source": [
    "We need to figure out some way to account for extra observations that aren't multiples of 5. Let's create a new blank list and call it `HR_t1VNS` again. How can we remove any divisors that aren't equal to 5? What can we add to our 'for loop' to do this? \n",
    "\n",
    "Hint: You can use an `if` statement to selectively add to the list!"
   ]
  },
  {
   "cell_type": "markdown",
   "metadata": {},
   "source": [
    "<a name=\"#Exercise-14\"></a>\n",
    "## Exercise 14\n",
    "<a href=\"#Overview\">Return to overview</a>\n"
   ]
  },
  {
   "cell_type": "code",
   "execution_count": null,
   "metadata": {},
   "outputs": [],
   "source": [
    "# Your answer here"
   ]
  },
  {
   "cell_type": "markdown",
   "metadata": {},
   "source": [
    "We're getting through it! Now we have 3 other variables that we want to calculate the hit rates for `t2VNS_hit`, `t1UN_hit`, and `t2UN_hit`. Sure, we could manually go through all that we did for tone 1 VNS again, but wouldn't it be much more efficient to make a function that will take care of this for us? \n",
    "\n",
    "Write a function based on what you set up above, but make it able to calculate the hit data and step size for any of those variables we care about. \n",
    "\n",
    "Test out your function on those variables (`t2VNS_hit`, `t1UN_hit`, and `t2UN_hit`) and save them to `HR_t2VNS`, `HR_t1UN`, and `HR_t2UN`, respectively."
   ]
  },
  {
   "cell_type": "markdown",
   "metadata": {},
   "source": [
    "<a name=\"#Exercise-15\"></a>\n",
    "## Exercise 15\n",
    "<a href=\"#Overview\">Return to overview</a>\n"
   ]
  },
  {
   "cell_type": "code",
   "execution_count": null,
   "metadata": {},
   "outputs": [],
   "source": [
    "# Your answer here"
   ]
  },
  {
   "cell_type": "markdown",
   "metadata": {},
   "source": [
    "<a name=\"#Equilizing-bins-of-exposures-between-tones\"></a>\n",
    "# Equilizing bins of exposures between tones\n",
    "<a href=\"#Overview\">Return to overview</a>\n",
    "\n",
    "<a name=\"#Exercise-16\"></a>\n",
    "## Exercise 16\n",
    "<a href=\"#Overview\">Return to overview</a>\n",
    "\n",
    "Next we want to compare the hit rates of the two tones during VNS. But what if the total number of observations aren't the same? What can we do? Make the total number of bins for tone 1 and tone 2 VNS stimulation the same. \n",
    "\n",
    "Hint: Is there some way you can use the `len` function for this? "
   ]
  },
  {
   "cell_type": "code",
   "execution_count": null,
   "metadata": {},
   "outputs": [],
   "source": [
    "# Your answer here"
   ]
  },
  {
   "cell_type": "markdown",
   "metadata": {},
   "source": [
    "Next let's do the same thing for the unpaired condition.\n",
    "\n",
    "<a name=\"#Exercise-17\"></a>\n",
    "## Exercise 17\n",
    "<a href=\"#Overview\">Return to overview</a>\n"
   ]
  },
  {
   "cell_type": "code",
   "execution_count": null,
   "metadata": {},
   "outputs": [],
   "source": [
    "# Your answer here"
   ]
  },
  {
   "cell_type": "markdown",
   "metadata": {},
   "source": [
    "<a name=\"#Learning-Index\"></a>\n",
    "# Learning Index\n",
    "<a href=\"#Overview\">Return to overview</a>\n",
    "\n",
    "Now we're finally close to really seeing how these compare to each other. We're going to look at this in terms of a \"Learning Index\". The Learning Index is defined as:\n",
    "\n",
    "$$\n",
    "LI = \\frac{HR_{tone1} - HR_{tone2}}{0.5 \\times (HR_{tone1} + HR_{tone2})}\n",
    "$$\n",
    "\n",
    "A value of 2 is a perfect score. They always lick during the correct tone, and never lick during the wrong tone. A score of -2 is the opposite, indicative of the ferret was learning to lick at the wrong tone. A value of 0 indicates the ferret was either licking or not licking during both tones, indicative of a lack of discrimination.  \n",
    "\n",
    "Since we're interested in how this looks over the course of the trials, we want to look at each compared block of 5 (already performed in our hit rate analysis). How can we do this? \n",
    "\n",
    "\n",
    "\n"
   ]
  },
  {
   "cell_type": "markdown",
   "metadata": {},
   "source": [
    "<a name=\"#Combining-lists\"></a>\n",
    "## Combining lists\n",
    "<a href=\"#Overview\">Return to overview</a>\n"
   ]
  },
  {
   "cell_type": "markdown",
   "metadata": {},
   "source": [
    "Say we have two lists:"
   ]
  },
  {
   "cell_type": "code",
   "execution_count": null,
   "metadata": {},
   "outputs": [],
   "source": [
    "list1 = ['red', 'green', 'blue']\n",
    "list2 = ['Sal', 'Ted', 'Ned']"
   ]
  },
  {
   "cell_type": "markdown",
   "metadata": {},
   "source": [
    "We can combine these lists with the zip command:"
   ]
  },
  {
   "cell_type": "code",
   "execution_count": null,
   "metadata": {},
   "outputs": [],
   "source": [
    "combined = list(zip(list1, list2))\n",
    "print(combined)"
   ]
  },
  {
   "cell_type": "markdown",
   "metadata": {},
   "source": [
    "<a name=\"#Exercise-18\"></a>\n",
    "## Exercise 18\n",
    "<a href=\"#Overview\">Return to overview</a>\n",
    "\n",
    "How do you index the first object in this combined list?"
   ]
  },
  {
   "cell_type": "code",
   "execution_count": null,
   "metadata": {},
   "outputs": [],
   "source": [
    "# Your answer here"
   ]
  },
  {
   "cell_type": "markdown",
   "metadata": {},
   "source": [
    "You can also unpack the two elements of the `item` tuple into separate variables."
   ]
  },
  {
   "cell_type": "code",
   "execution_count": null,
   "metadata": {},
   "outputs": [],
   "source": [
    "color, name = item\n",
    "print(color)\n",
    "print(name)"
   ]
  },
  {
   "cell_type": "markdown",
   "metadata": {},
   "source": [
    "Next, we can combine list indexing with tuple unpacking:"
   ]
  },
  {
   "cell_type": "code",
   "execution_count": null,
   "metadata": {},
   "outputs": [],
   "source": [
    "color, name = combined[0]"
   ]
  },
  {
   "cell_type": "markdown",
   "metadata": {},
   "source": [
    "You can use this in a 'for loop' as well:"
   ]
  },
  {
   "cell_type": "code",
   "execution_count": null,
   "metadata": {},
   "outputs": [],
   "source": [
    "for item in combined:\n",
    "    color, name = item\n",
    "    print(f'{name} likes {color}')"
   ]
  },
  {
   "cell_type": "markdown",
   "metadata": {},
   "source": [
    "We can make this shorter:"
   ]
  },
  {
   "cell_type": "code",
   "execution_count": null,
   "metadata": {},
   "outputs": [],
   "source": [
    "for (color, name) in combined:\n",
    "    print(f'{name} likes {color}')"
   ]
  },
  {
   "cell_type": "markdown",
   "metadata": {},
   "source": [
    "<a name=\"#Back-to-the-Learning-Index\"></a>\n",
    "## Back to the Learning Index\n",
    "<a href=\"#Overview\">Return to overview</a>\n"
   ]
  },
  {
   "cell_type": "markdown",
   "metadata": {},
   "source": [
    "$HR_{tone1}$ and $HR_{tone2}$ are values in `HR_t1VNS` and `HR_t2VNS`. We need to calculate the learning index for each pair of values. To get started, let's calculate the learning index for the first element in each list. Remember that learning index is defined as:\n",
    "\n",
    "$$\n",
    "LI = \\frac{HR_{tone1} - HR_{tone2}}{0.5 \\times (HR_{tone1} + HR_{tone2})}\n",
    "$$\n",
    "\n",
    "<a name=\"#Exercise-19\"></a>\n",
    "### Exercise 19\n",
    "<a href=\"#Overview\">Return to overview</a>\n",
    "\n",
    "Given the hit rates for tone 1 and tone 2, calculate the learning index and save it as `LI`."
   ]
  },
  {
   "cell_type": "code",
   "execution_count": null,
   "metadata": {},
   "outputs": [],
   "source": [
    "i = 0\n",
    "HR_tone1 = HR_t1VNS[i]\n",
    "HR_tone2 = HR_t2VNS[i]\n",
    "\n",
    "# Your answer here"
   ]
  },
  {
   "cell_type": "markdown",
   "metadata": {},
   "source": [
    "Now, how can we use 'zip' and a 'for loop' to quickly calculate the learning index for each pair of values in the lists? Remember how we did this in our colors example:\n",
    "\n",
    "    for (color, name) in combined:\n",
    "        print(f'{name} likes {color}')\n",
    "    \n",
    "Don't forget to initialize an empty list, `LI_VNS` that you append the calculated learning index for each pair to.\n",
    "\n",
    "<a name=\"#Exercise-20\"></a>\n",
    "### Exercise 20\n",
    "<a href=\"#Overview\">Return to overview</a>\n"
   ]
  },
  {
   "cell_type": "code",
   "execution_count": null,
   "metadata": {},
   "outputs": [],
   "source": [
    "# Your answer here"
   ]
  },
  {
   "cell_type": "markdown",
   "metadata": {},
   "source": [
    "Great job! Now find the Learning Index of the unpaired hit rates (`HR_t1UN` and `HR_t2UN`)!"
   ]
  },
  {
   "cell_type": "markdown",
   "metadata": {},
   "source": [
    "<a name=\"#Exercise-21\"></a>\n",
    "### Exercise 21\n",
    "<a href=\"#Overview\">Return to overview</a>\n"
   ]
  },
  {
   "cell_type": "code",
   "execution_count": null,
   "metadata": {},
   "outputs": [],
   "source": [
    "# Your answer here"
   ]
  },
  {
   "cell_type": "markdown",
   "metadata": {},
   "source": [
    "<a name=\"#Creating-a-boxplot\"></a>\n",
    "# Creating a boxplot\n",
    "<a href=\"#Overview\">Return to overview</a>\n",
    "\n",
    "Now we're ready to do some plotting! Let's work with a boxplot. How would we go about plotting the Learning Index for paired VNS and for unpaired? Be sure to set the axes labels and axes titles. The x-axis ticks should be labled `VNS` and `UN`, respectively (instead of the default of 0 and 1).\n",
    "\n",
    "<a name=\"#Exercise-22\"></a>\n",
    "## Exercise 22\n",
    "<a href=\"#Overview\">Return to overview</a>\n"
   ]
  },
  {
   "cell_type": "code",
   "execution_count": null,
   "metadata": {},
   "outputs": [],
   "source": [
    "# Your answer here"
   ]
  },
  {
   "cell_type": "markdown",
   "metadata": {},
   "source": [
    "<a name=\"#Organizing-the-data-to-look-at-it-another-way\"></a>\n",
    "# Organizing the data to look at it another way\n",
    "<a href=\"#Overview\">Return to overview</a>\n",
    "\n",
    "It certainly looks like there's an effect based on the box plot, where vagus nerve stimulation seems to enhance learning about discriminating between two tones. But could there be a more clear way of seeing the relationship between VNS and successful discrimination? Let's convert our Learning Index information into a binary matrix of \"shows discrimination\" versus \"doesn't show discrimination\". How can we do that? \n",
    "\n",
    "<a name=\"#Exercise-23\"></a>\n",
    "## Exercise 23\n",
    "<a href=\"#Overview\">Return to overview</a>\n",
    "\n",
    "Let's start with making variables for all positive values in `LI_VNS` and `LI_UN`. Label these variables `LI_VNS_pos` and `LI_UN_pos`. We can use for loops to do this. For each element in `LI_VNS`, create a list that indicates whether that element is greater than 0 or not. For example, if `LI_VNS` is:\n",
    "\n",
    "    [-1, 1, 0, 2, -2]\n",
    "    \n",
    "Then `LI_VNS_pos` should be:\n",
    "\n",
    "    [False, True, False, True, False]"
   ]
  },
  {
   "cell_type": "code",
   "execution_count": null,
   "metadata": {},
   "outputs": [],
   "source": [
    "# Your answer here"
   ]
  },
  {
   "cell_type": "markdown",
   "metadata": {},
   "source": [
    "<a name=\"#List-comprehensions\"></a>\n",
    "## List comprehensions\n",
    "<a href=\"#Overview\">Return to overview</a>\n",
    "\n",
    "There's a much simpler way to do the same thing. Python has something known as list comprehensions. It's simply a very succint syntax for writing for loops that create a new list:\n",
    "\n",
    "    new_list = [<python expression> for e in old_list]\n",
    "    \n",
    "For example, your `<Python expression>` can be to multiply `e` by 2."
   ]
  },
  {
   "cell_type": "code",
   "execution_count": null,
   "metadata": {},
   "outputs": [],
   "source": [
    "old_list = [1, 2, 3, 4]\n",
    "new_list = [2*e for e in old_list]\n",
    "new_list"
   ]
  },
  {
   "cell_type": "markdown",
   "metadata": {},
   "source": [
    "You can use just about any Python expression."
   ]
  },
  {
   "cell_type": "code",
   "execution_count": null,
   "metadata": {},
   "outputs": [],
   "source": [
    "new_list = [e > 2 for e in old_list]\n",
    "new_list"
   ]
  },
  {
   "cell_type": "markdown",
   "metadata": {},
   "source": [
    "You can also use a different variable name."
   ]
  },
  {
   "cell_type": "code",
   "execution_count": null,
   "metadata": {},
   "outputs": [],
   "source": [
    "new_list = [my_variable > 2 for my_variable in old_list]\n",
    "new_list"
   ]
  },
  {
   "cell_type": "markdown",
   "metadata": {},
   "source": [
    "<a name=\"#Exercise-24\"></a>\n",
    "### Exercise 24\n",
    "<a href=\"#Overview\">Return to overview</a>\n",
    "\n",
    "Rewrite your answer for the previous exercise to use list comprehensions."
   ]
  },
  {
   "cell_type": "code",
   "execution_count": null,
   "metadata": {},
   "outputs": [],
   "source": [
    "# Your answer here"
   ]
  },
  {
   "cell_type": "markdown",
   "metadata": {},
   "source": [
    "Next, let's convert that information into a percentage. "
   ]
  },
  {
   "cell_type": "markdown",
   "metadata": {},
   "source": [
    "<a name=\"#Exercise-25\"></a>\n",
    "## Exercise 25\n",
    "<a href=\"#Overview\">Return to overview</a>\n"
   ]
  },
  {
   "cell_type": "code",
   "execution_count": null,
   "metadata": {},
   "outputs": [],
   "source": [
    "# Your answer here"
   ]
  },
  {
   "cell_type": "markdown",
   "metadata": {},
   "source": [
    "<a name=\"#Plotting-the-results\"></a>\n",
    "## Plotting the results\n",
    "<a href=\"#Overview\">Return to overview</a>\n",
    "\n",
    "We're ready to plot it! Let's make a bar graph of the data. "
   ]
  },
  {
   "cell_type": "markdown",
   "metadata": {},
   "source": [
    "<a name=\"#Exercise-26\"></a>\n",
    "### Exercise 26\n",
    "<a href=\"#Overview\">Return to overview</a>\n"
   ]
  },
  {
   "cell_type": "code",
   "execution_count": null,
   "metadata": {},
   "outputs": [],
   "source": [
    "# Your answer here"
   ]
  },
  {
   "cell_type": "markdown",
   "metadata": {},
   "source": [
    "<a name=\"#Congratulations!\"></a>\n",
    "# Congratulations!\n",
    "<a href=\"#Overview\">Return to overview</a>\n",
    "\n",
    "Well done! VNS stimulation seems to improve learning outcomes. Thanks for working through this data set with us! "
   ]
  }
 ],
 "metadata": {
  "kernelspec": {
   "display_name": "Python 3",
   "language": "python",
   "name": "python3"
  },
  "language_info": {
   "codemirror_mode": {
    "name": "ipython",
    "version": 3
   },
   "file_extension": ".py",
   "mimetype": "text/x-python",
   "name": "python",
   "nbconvert_exporter": "python",
   "pygments_lexer": "ipython3",
   "version": "3.6.5"
  }
 },
 "nbformat": 4,
 "nbformat_minor": 2
}
