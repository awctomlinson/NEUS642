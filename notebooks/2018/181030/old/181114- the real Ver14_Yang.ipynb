{
 "cells": [
  {
   "cell_type": "markdown",
   "metadata": {},
   "source": [
    "# Making a histogram with electrophysiology data. "
   ]
  },
  {
   "cell_type": "markdown",
   "metadata": {},
   "source": [
    "Today we will be using electrophysiology data to better understand how a particular set of drugs effect GABA release onto a specific subset of cells. Electrophysiology is a technique that is used to measure electrical changes in cells. In this particular example, we will be using whole-cell voltage clamp recording data. With this technique, we lower a glass pipette down to the surface of the cell membrane and develop a tight seal with the cell membrane. Then we \"break in\" to the cell membrane, meaning that the fluid within our pipette tip is continuous with the intracellular fluid within the cell. This allows us electrical access to the cell. \n",
    "\n",
    "Utilizing this electical access, we can inject current to maintain a specific voltage within our cell of interest. For this experiment, we inject current to keep the cell membrane at -70mV, the resting membrane potential of neurons in this area of the brain. Fluctuations from this 'baseline' represent changes in voltage and can tell us about cellular signaling and channel activy within the cell. \n",
    "\n",
    "In this experiment, we were interested in assessing the GABAergic miniature inhibitory post-synaptic current (mIPSC).\n",
    "############ It's a mIPSC, you were right :) Also, it's an inward current because of the driving force when we hold our membrane at -70mV, with the external and internal solutions that we're using, Cl- flows out of the neuron at -70mV, so when the GABA binds to and opens the GABA-A channel Cl- flows out of the neuron. Minus charge flowing out of the cell is inward current. I'm not really sure how it hyperpolarizes the cell... so that confuses me but that's what Minghua said :) \n",
    "\n",
    "GABA is an inhibitory neurotransmitter whose transmission hyperpolarizes the neuron (through chloride and potassium channels). GABAergic mIPSCs are a way to investigate spontaneous GABA release, by blocking action potentials and glutamate signaling we can sequester GABA spontaneous release through these recordings. \n",
    "\n",
    "Each of the downward reflections in a recording represents GABA release onto our recording cell, as we are measureing the post-synaptic effect, or the change in post-synaptic potential. Drugs can have a major effect on neural signaling processes, the goal of this experiment to examine the effect of two different drugs on GABAergic mIPSP characteristics. The characteristics that we are interested in are the input current, the rise time, the decay, and the inter-event intervals, as well as the frequency of the events within a condition (drug vs no drug). \n",
    "\n",
    "<font color=\"blue\">The above looks good. If you want to include some images, you can do so. Just use the syntax:</font>\n",
    "    \n",
    "    <img src=\"file.jpg\" width=\"200\" />\n",
    "    "
   ]
  },
  {
   "cell_type": "markdown",
   "metadata": {},
   "source": [
    "First, we need to import the libraries that we will be using to quantify these data. Today, we will be using pandas and numpy, two libraries that we have seen recently. We will also be utilizing matplotlib.pyplot to create our histograms. "
   ]
  },
  {
   "cell_type": "code",
   "execution_count": null,
   "metadata": {},
   "outputs": [],
   "source": [
    "# Import the libraries \n",
    "import pandas as pd\n",
    "import numpy as np\n",
    "import matplotlib.pyplot as plt\n",
    "# This ensures that plots are shown below each code cell\n",
    "%matplotlib inline"
   ]
  },
  {
   "cell_type": "markdown",
   "metadata": {},
   "source": [
    "## Exercise 1:"
   ]
  },
  {
   "cell_type": "markdown",
   "metadata": {},
   "source": [
    "First, let's import our data <font color=\"red\">from `minis data.csv` and store in in a variable, `minis_data`</font>.\n",
    "\n",
    "Hint:   \n",
    "Recall that we have already imported the pandas library, which has a function that we can use to read a csv file. \n",
    "\n",
    "<font color=\"blue\">This is great. Good to include a warmup portion. The correct syntax for the \"answer\" cells is:</font>\n",
    "\n",
    "    (optional code and/or comments go here)\n",
    "    \n",
    "    # Answer\n",
    "    code for the answer\n",
    "    \n",
    "<font color=\"blue\">When I generate the student version of the notebook, everything above the `# Answer` line remains. Everything below gets stripped out.</font>\n",
    "\n",
    "<font color=\"blue\">Use the relative path to the file, not the full path. So, in the example below since the notebook and the file are in the same folder, you can just pass `minis data.csv` to the function rather than the full path of `/home/users/Yang/etc/.../minis data.csv`</font>."
   ]
  },
  {
   "cell_type": "code",
   "execution_count": null,
   "metadata": {},
   "outputs": [],
   "source": [
    "### I renamed some of the columns in the .csv file to make them more intuitive. \n",
    "### _Event Number --> Event Number\n",
    "### Analog Input #0 (pA) --> amplitude (pA)\n",
    "### I'll upload a new .csv file with the new column names to box. It's call minis data.csv. \n",
    "### IMPOOOOOOOORTANT MESSAGE:\n",
    "### Import this file instead of CAB1 analysis.csv so that codes that use the new names can function properly.\n",
    "\n",
    "\n",
    "# Exercise 1:\n",
    "### Agree. This should be a 30-second warm-up exercise.\n",
    "minis_data = pd.read_csv('minis data.csv') "
   ]
  },
  {
   "cell_type": "markdown",
   "metadata": {},
   "source": [
    "Now let's take a look at the dataframe."
   ]
  },
  {
   "cell_type": "code",
   "execution_count": null,
   "metadata": {},
   "outputs": [],
   "source": [
    "# For brevity, limit the number of rows displayed. Code borrowed from Brad's first lecture.\n",
    "pd.options.display.max_rows = 7\n",
    "minis_data"
   ]
  },
  {
   "cell_type": "code",
   "execution_count": null,
   "metadata": {},
   "outputs": [],
   "source": [
    "c = minis_data['Cell '].fillna"
   ]
  },
  {
   "cell_type": "code",
   "execution_count": null,
   "metadata": {},
   "outputs": [],
   "source": [
    "minis_data['Cell '].fillna"
   ]
  },
  {
   "cell_type": "code",
   "execution_count": null,
   "metadata": {},
   "outputs": [],
   "source": [
    "minis_data['Cell '].fillna"
   ]
  },
  {
   "cell_type": "code",
   "execution_count": null,
   "metadata": {},
   "outputs": [],
   "source": [
    "minis_data['Cell '].ffill"
   ]
  },
  {
   "cell_type": "markdown",
   "metadata": {},
   "source": [
    "<font color=\"blue\">What's up with the `NaN` values in the `Cell` column? Also, note that the name of the `Cell` column is actually `Cell ` (with a whitespace in front of it). I would edit the CSV file to remove this extra space as it gets confusing otherwise. `print(minis_data.columns)` will show you that there's a whitespace. If the `NaN` values are because the program that generates the CSV is \"lazy\" about filling in repeated values, then the simple solution is to run the following code to fill in the missing values by \"forward-filling\" the last cell found:</font>\n",
    "\n",
    "    minis_data['Cell '].fillna(method='ffill', inplace=True)\n",
    "\n",
    "    \n",
    "Now we want to save the data from the 'TTX + NBQX' condition into a new variable called minis_baseline. How can we use the information from a column to create a new variable with a subset of the data? \n",
    "\n",
    "<font color=\"blue\">This is good, but break it down a bit:</font>\n",
    "\n",
    "    mask = minis_data['Drug'] == 'TTX + NBQX'\n",
    "    minis_data.loc[mask]\n",
    "    \n",
    "<font color=\"blue\">While you can do `minis_data[mask]`, this is a bit confusing since it's normally used to specify the columns you want, not the rows you want (Pandas tries to guess whether you're asking for columns or rows). I always encourage the use of the `.loc[rows, cols]` approach since it is much less ambiguous and it's explicit whether you're trying to extract rows or columns. As for the notes in the comments below, I agree that it's best to use the `df[column]` syntax as opposed to the `df.column` syntax. While either is fine, if your column name is `mean`, this conflicts with a method that already exists on dataframes called `mean` (and therefore, you'd have to access that column using the `df[mean]` syntax). Since there are many, many methods on a dataframe that may conflict wiht column names, being consistent and always using the square brackets approach, you don't need to worry about whether `df.column` is actually a method or the column values.</font>"
   ]
  },
  {
   "cell_type": "code",
   "execution_count": null,
   "metadata": {},
   "outputs": [],
   "source": [
    "### exercise? \n",
    "\n",
    "### I think we can show them how to extract baseline data, \n",
    "### and ask them to extract 'TTX+NBQX+Cd' and 'TTX+NBQX+Cd_RIM' for the next exercise.\n",
    "### We should explain the == operater. Here's good explain I found online:https://dbader.org/blog/difference-between-is-and-equals-in-python\n",
    "### == checks for equility. The line below looks for all elements in the Drug column, and includes all rows whose \n",
    "### Drug elements equals 'TTX+NBQX'.\n",
    "###\n",
    "minis_baseline = minis_data[minis_data['Drug'] =='TTX + NBQX'] \n",
    "\n",
    "### I changed minis_baseline = minis_data[minis_data.Drug =='TTX + NBQX'] to the line above. Cuz I personally think\n",
    "### it's more intuitive to use [] for a column in a dataframe. \n",
    "### Python probably would agree with me, because if you run minis_data.Drug in a new cell, python spits an error. \n",
    "### But minis_['Drug'] prints the drug column. :DDDD\n",
    "minis_baseline"
   ]
  },
  {
   "cell_type": "markdown",
   "metadata": {},
   "source": [
    "## Exercise 2"
   ]
  },
  {
   "cell_type": "markdown",
   "metadata": {},
   "source": [
    "<font color=\"blue\">Use backticks around variable names, \\`variable_name\\`. The backtick can be found on your keyboard just to the left of the `1` key.</font>\n",
    "\n",
    "How would you extract the other two conditions, 'TTX + NBQX + Cd' and 'TTX + NBQX + Cd + RIM'? Store them in two separate dataframes, minis_drug1 and minis_drug2.\n",
    "\n",
    "Hint:   \n",
    "Space is considered when you check for equility using ==. 'TTX + NBQX' and 'TTX+NBQX' are NOT equivalent!\n",
    "\n",
    "<font color=\"blue\">Use `display` when you want to show the contents of more than one dataframe below the cell.</font>"
   ]
  },
  {
   "cell_type": "code",
   "execution_count": null,
   "metadata": {},
   "outputs": [],
   "source": [
    "minis_drug1 = minis_data[minis_data['Drug'] =='TTX + NBQX + Cd']\n",
    "minis_drug2 = minis_data[minis_data['Drug'] =='TTX + NBQX + Cd + RIM']\n",
    "display(minis_drug1)\n",
    "display(minis_drug2)"
   ]
  },
  {
   "cell_type": "markdown",
   "metadata": {},
   "source": [
    "Now we are almost ready to plot some histograms! Let's first look at the mIPSC amplitude of the baseline condition. The code below extracts the amplitude data and stores it in a new parameter named Amp_baseline. <font color=\"blue\">Is this a Series or Dataframe? This is a good point to discuss with the class.</font>"
   ]
  },
  {
   "cell_type": "code",
   "execution_count": null,
   "metadata": {},
   "outputs": [],
   "source": [
    "Amp_baseline = minis_baseline ['mIPSC amplitude (pA)']"
   ]
  },
  {
   "cell_type": "markdown",
   "metadata": {},
   "source": [
    "## Exercise 3"
   ]
  },
  {
   "cell_type": "markdown",
   "metadata": {},
   "source": [
    "To plot a histogram, we will use a function from matplotlib.pyplot called plt.hist.\n",
    "What data type is Amp_baseline? What data type does plt.hist take?\n",
    "\n",
    "Hint: plt.hist? brings out the documentation.   \n",
    "type(parameter of interest) checks the data type."
   ]
  },
  {
   "cell_type": "code",
   "execution_count": null,
   "metadata": {},
   "outputs": [],
   "source": [
    "# Exercise: \n",
    "plt.hist?\n",
    "type (Amp_baseline)"
   ]
  },
  {
   "cell_type": "code",
   "execution_count": null,
   "metadata": {},
   "outputs": [],
   "source": [
    "# Answer: Amp_baseline is a pandas series. But plt.hist takes array(s). \n",
    "# Therefore, we need to convert Amp_baseline to an array."
   ]
  },
  {
   "cell_type": "code",
   "execution_count": null,
   "metadata": {},
   "outputs": [],
   "source": [
    "Amp_baseline_arr =  Amp_baseline.values"
   ]
  },
  {
   "cell_type": "markdown",
   "metadata": {},
   "source": [
    "## Exercise 4\n",
    "\n",
    "<font color=\"blue\">I understand why you think you need to convert from a series to an array (and it's good to point out that you can extract the values as an array using `series.values`. However, it's worthwhile to note that `matplotlib` works very well with DataFrames and Series. Many functions that take arrays are smart enough to be able to accept an array-like object. That means an object that can *behave* like an array is acceptable.</font>"
   ]
  },
  {
   "cell_type": "markdown",
   "metadata": {},
   "source": [
    "Now it's time to plot the histogram! Read the documentation of plt.hist and find out how to specify the number of bars in your histogram. \n",
    "\n",
    "Plot a histogram of Amp_baseline_arr that has 8 bars."
   ]
  },
  {
   "cell_type": "code",
   "execution_count": null,
   "metadata": {},
   "outputs": [],
   "source": [
    "plt.hist (Amp_baseline_arr, bins = 8)"
   ]
  },
  {
   "cell_type": "markdown",
   "metadata": {},
   "source": [
    "## Exercise 5a"
   ]
  },
  {
   "cell_type": "markdown",
   "metadata": {},
   "source": [
    "Next we want to compare the mIPSC amplitude distribution of different conditions by stacking their histograms on the same axes.\n",
    "\n",
    "So we already have Amp_baseline_arr. We also need to extract the amplitude data from minis_drug1 and minis_drug2 and convert them from padas series to arrays. Recall the column is named 'mIPSC amplitude (pA)'.\n",
    "\n",
    "Save the arrays in parameters called Amp_drug1_arr and Amp_drug2_arr."
   ]
  },
  {
   "cell_type": "code",
   "execution_count": null,
   "metadata": {},
   "outputs": [],
   "source": [
    "# Exercise: \n",
    "Amp_drug1_arr = minis_drug1['mIPSC amplitude (pA)'].values\n",
    "Amp_drug2_arr = minis_drug2['mIPSC amplitude (pA)'].values"
   ]
  },
  {
   "cell_type": "markdown",
   "metadata": {},
   "source": [
    "## Exercise 5b"
   ]
  },
  {
   "cell_type": "markdown",
   "metadata": {},
   "source": [
    "Now plot the histograms of Amp_baseline_arr,Amp_drug1_arr and Amp_drug2_arr on the same axes;\n",
    "specify their colors to be grey, blue and red respectively;\n",
    "and set the number of bins to 50.\n",
    "\n",
    "\n",
    "Hint:   \n",
    "######### To Courtney and Brad: to display the images, please save 'correct hist_small.png' and 'wrong hist_small.png' to the fold of this .ipynb file. The two images are in my latest email and box upload.  \n",
    "<font color=\"blue\">Markdown doesn't like spaces in filenames. So, I converted `correct hist_small.png` to `correct_hist_small.png`.</font>\n",
    "\n",
    "The end product should look like this\n",
    "\n",
    "![](correct_hist_small.png)\n",
    "\n",
    "If you see the image below, you are only one step away from the correct answer!\n",
    "\n",
    "![](wrong_hist_small.png)\n",
    "\n",
    "<font color=\"blue\">This is good, but I would break it down into several steps:</font>\n",
    "    \n",
    "    data = [Amp_baseline, Amp_drug1, Ampd_drug2]\n",
    "    color = ['grey', 'blue', 'red']\n",
    "    plt.hist(data, color, bins=50, histtype='barstacked')\n",
    "    \n",
    "<font color=\"blue\">Also, `plt.show` is not needed in Jupyter notebooks if you invoked `%matplotlib inline` at the beginning of the notebook.</font>"
   ]
  },
  {
   "cell_type": "code",
   "execution_count": null,
   "metadata": {},
   "outputs": [],
   "source": [
    "#Exercise:\n",
    "plt.hist ([Amp_baseline_arr,Amp_drug1_arr,Amp_drug2_arr], color = ['grey','blue','red'], bins = 50, histtype = 'barstacked')\n",
    "plt.show()"
   ]
  },
  {
   "cell_type": "code",
   "execution_count": null,
   "metadata": {},
   "outputs": [],
   "source": [
    "# There's an alternative way to make the histogram stacked.\n",
    "plt.hist ([Amp_baseline_arr,Amp_drug1_arr,Amp_drug2_arr], color = ['grey','blue','red'], bins = 50, stacked = True)\n",
    "plt.show()"
   ]
  },
  {
   "cell_type": "code",
   "execution_count": null,
   "metadata": {},
   "outputs": [],
   "source": [
    "### We don't have to show this cell for the lecture.\n",
    "### This is me attemping to shrink the figure so it'll appear smaller in markdown. \n",
    "### This is something useful if you want you rescale your figure :D\n",
    "### There is more black color in the shrinked image than the normal sized one\n",
    "### because the bars are so squeezed that you can only see the outlines.\n",
    "### If you scale the size up, the colors are preserved!\n",
    "\n",
    "#### Brad's comment: set edge color, ec, to None to remove black lines\n",
    "plt.hist ([Amp_baseline_arr,Amp_drug1_arr,Amp_drug2_arr], color = ['grey','blue','red'], bins = 50, ec=None)\n",
    "Figure = plt.gcf()\n",
    "DefaultSize = Figure.get_size_inches()\n",
    "print(DefaultSize)\n",
    "Figure.set_size_inches((DefaultSize[0]/1.5, DefaultSize[1]/1.5))\n",
    "#Figure.savefig ('wrong_hist_small.png')\n"
   ]
  },
  {
   "cell_type": "markdown",
   "metadata": {},
   "source": [
    "## Exercise 6"
   ]
  },
  {
   "cell_type": "markdown",
   "metadata": {},
   "source": [
    "To make this a more discriptive figure, add x y labels, figure title and color lengend that specifies experimental condition.\n",
    "\n",
    "Hint: Some useful functions are:   \n",
    "plt.xlabel(what goes in here?)   \n",
    "plt.ylabel(what goes in here?)   \n",
    "plt.title (??)  \n",
    "plt.legend()   \n",
    "plt.legend can take 0 parameter, that is, you don't have to type anything within the parenthesis. Instead, plt.legend() looks for \"labelled objects\" in the figure; therefore, you need to add another parameter in plt.hist () to specify the lables of three experimental conditions.\n"
   ]
  },
  {
   "cell_type": "code",
   "execution_count": null,
   "metadata": {},
   "outputs": [],
   "source": [
    "# Exercise: \n",
    "plt.hist ([Amp_baseline_arr,Amp_drug1_arr,Amp_drug2_arr], bins = 50, color = ['grey','blue','red'],stacked = True, label = ['Baseline','Drug1','Drug2'])\n",
    "plt.legend()\n",
    "plt.xlabel('Amplitude (pA)')\n",
    "plt.ylabel('Frequency')\n",
    "plt.title('Amplitude Histogram')\n",
    "\n"
   ]
  },
  {
   "cell_type": "markdown",
   "metadata": {},
   "source": [
    "<font color=\"blue\">I like the fitting you're doing here. I've fixed your code so the below should work. I would definitely start with a normal fit then show the results of that. Ask the class what distribution might fit the data better. Then, have them work out how to do it on their own in an exercise.</font>"
   ]
  },
  {
   "cell_type": "code",
   "execution_count": null,
   "metadata": {},
   "outputs": [],
   "source": [
    "##Trying to put in a line of best fit... but it's not working!!! Ack! \n",
    "\n",
    "\n",
    "#import matplotlib.mlab as mlab\n",
    "#from scipy.stats import norm\n",
    "#norm.fit('Amp_drug1_arr')\n",
    "#y = mlab.normpdf( bins, mu, sigma)\n",
    "#l = plt.plot(bins, y, 'r--', linewidth=2)\n",
    "\n",
    "# Brad's comment. This is how you do it.\n",
    "\n",
    "from scipy.stats import norm\n",
    "\n",
    "# The various distributions have a `fit` method that returns the fitted parameters. \n",
    "# norm has two parameters, loc and scale. These translate to mu and sigma (mean and standard deviation)\n",
    "# scipy.stats has a formulation for the various distributions that do not map well to more common\n",
    "# formulations used in biological sciencies. I think the parameter names of the scipy.stats tend\n",
    "# to be oriented towards the ones used by statisticians and mathematicians, so I always have to Google to\n",
    "# find out the correct mapping of loc, scale, etc. to the values I want.\n",
    "mu, sigma = norm.fit(Amp_baseline_arr)\n",
    "\n",
    "# density=True gives us an estimate of the PDF (i.e., the fraction of observations for that bin).\n",
    "counts, bins, _ = plt.hist(Amp_baseline_arr, bins=50, density=True)\n",
    "bin_size = bins[1]-bins[0]\n",
    "n_values = len(Amp_baseline_arr)\n",
    "\n",
    "x_fit = np.arange(0, 200)\n",
    "y_pdf = norm.pdf(x_fit, mu, sigma)\n",
    "\n",
    "plt.plot(x_fit, y_pdf)"
   ]
  },
  {
   "cell_type": "code",
   "execution_count": null,
   "metadata": {},
   "outputs": [],
   "source": [
    "# Gaussian doesn't fit this data well. What about gamma? \n",
    "from scipy.stats import gamma\n",
    "gamma.fit?\n",
    "\n",
    "# You'll see it returns shape, location and scale parameters."
   ]
  },
  {
   "cell_type": "code",
   "execution_count": null,
   "metadata": {},
   "outputs": [],
   "source": [
    "from scipy.stats import gamma\n",
    "\n",
    "# I got lazy and assigned the tuple of three values to `parms` (instead of doing `shape, loc, scale = gamma.fit(...)`)\n",
    "parms = gamma.fit(Amp_baseline_arr)\n",
    "\n",
    "counts, bins, _ = plt.hist(Amp_baseline_arr, bins=50, density=True)\n",
    "bin_size = bins[1]-bins[0]\n",
    "n_values = len(Amp_baseline_arr)\n",
    "\n",
    "x_fit = np.arange(0, 200)\n",
    "# Note that I'm \"unpacking\" the tuple.\n",
    "y_pdf = gamma.pdf(x_fit, *parms)\n",
    "\n",
    "# This translates to `y_pdf = gamma.pdf(x_fit, params[0], params[1], params[2])`. Or, if I hadn't been so lazy and done:\n",
    "## shape, loc, scale = gamma.fit(...)\n",
    "# Then I could have done:\n",
    "## y_pdf = gamma.pdf(x_fit, shape, loc, scale)\n",
    "\n",
    "plt.plot(x_fit, y_pdf)"
   ]
  },
  {
   "cell_type": "markdown",
   "metadata": {},
   "source": [
    "## Bonus exercises\n",
    "\n",
    "## Exercise 7"
   ]
  },
  {
   "cell_type": "code",
   "execution_count": null,
   "metadata": {},
   "outputs": [],
   "source": [
    "# plotByType takes one parameter, the summary dataframe,\n",
    "# extracts mini amplitude/rise-time/decay-time/Inter-event Interval basing on user inputs, \n",
    "# and plots out three histograms by drug type\n",
    "\n",
    "# Helper function plotHisto plots a stacked histogram specified by paramType. \n",
    "# plotHisto takes two parameters, histList, a list of arrays, and paramType, a string that specifies the parameter of interest.\n",
    "\n",
    "def plotByType (histList, paramType):\n",
    "    plt.hist (histList, bins = 50, color = ['grey','blue','red'],stacked = True, label = ['Baseline','Drug1','Drug2'])\n",
    "    plt.legend()\n",
    "    plt.xlabel(paramType)\n",
    "    plt.ylabel('Frequency')\n",
    "    plt.title(paramType + ' Histogram')\n",
    "    \n",
    "# Helper function extractArrays returns a list of arrays basing on paramType. \n",
    "# This function creates the list of arrays that plotByType takes as histList\n",
    "# The first three parameters baselineDf, drug1Df and drug2Df are the subset dataframes of each experimental condition.\n",
    "# The last parameter, paramType, is the same as in plotByType.\n",
    "def extractArrays (baselineDf, drug1Df, drug2Df, paramType):\n",
    "    baseline_arr = baselineDf[paramType].values\n",
    "    drug1_arr =drug1Df[paramType].values\n",
    "    drug2_arr =drug2Df[paramType].values\n",
    "    return [baseline_arr,drug1_arr,drug2_arr]\n",
    "    \n",
    "    \n",
    "def plotHisto (dataframe):\n",
    "    minis_baseline = minis_data[minis_data['Drug'] =='TTX + NBQX'] \n",
    "    minis_drug1 = minis_data[minis_data['Drug'] =='TTX + NBQX + Cd']\n",
    "    minis_drug2 = minis_data[minis_data['Drug'] =='TTX + NBQX + Cd + RIM']\n",
    "    choice = input ('Which parameter should I plot (please specify by letter)?\\nA.amplitude B.rise-time C.decay-time D.IEI\\n')\n",
    "    if choice.upper() == 'A':\n",
    "        colName = 'mIPSC amplitude (pA)'   \n",
    "    elif choice.upper() == 'B':\n",
    "        colName = 'Rise-Time (ms)'\n",
    "    elif choice.upper() == 'C':\n",
    "        colName = 'Decay (ms)'\n",
    "    elif choice.upper() == 'D':\n",
    "        colName = 'Inter-Event Intervals (s)'\n",
    "    else:\n",
    "        print ('Please specify by a single letter: A/B/C/D.')\n",
    "        return\n",
    "    arrList =  extractArrays (minis_baseline, minis_drug1,minis_drug2,colName)\n",
    "    plotByType (arrList, colName) \n",
    "\n",
    "    "
   ]
  },
  {
   "cell_type": "code",
   "execution_count": null,
   "metadata": {},
   "outputs": [],
   "source": [
    "plotHisto (minis_data)"
   ]
  },
  {
   "cell_type": "markdown",
   "metadata": {},
   "source": [
    "# Brad's suggestion for breaking down exercise\n",
    "\n",
    "First, many of your if-else statements can be made a bit more \"Pythonic\". For example, instead of doing:\n",
    "\n",
    "    if choice.upper() == 'A':\n",
    "        colName = 'mIPSC amplitude (pA)'   \n",
    "    elif choice.upper() == 'B':\n",
    "        colName = 'Rise-Time (ms)'\n",
    "    elif choice.upper() == 'C':\n",
    "        colName = 'Decay (ms)'\n",
    "    elif choice.upper() == 'D':\n",
    "        colName = 'Inter-Event Intervals (s)'\n",
    "    else:\n",
    "        print ('Please specify by a single letter: A/B/C/D.')\n",
    "        return\n",
    "\n",
    "I would do:\n",
    "\n",
    "    choice_map = {\n",
    "        'A': 'mIPSC amplitude (pA)',\n",
    "        'B': 'Rise-Time (ms)',\n",
    "        'C': 'Decay (ms)',\n",
    "        'D': 'Inter-Event Intervals (s)'\n",
    "    }\n",
    "    try:\n",
    "        colName = choice_map[choice.upper()]\n",
    "    except KeyError:\n",
    "        print('Please specify a letter: A/B/C/D')\n",
    "\n",
    "This exercise is all about automation. So, let's start with some very basic for-loops first. For example:\n",
    "\n",
    "    minis_baseline = minis_data[minis_data['Drug'] =='TTX + NBQX'] \n",
    "    minis_drug1 = minis_data[minis_data['Drug'] =='TTX + NBQX + Cd']\n",
    "    minis_drug2 = minis_data[minis_data['Drug'] =='TTX + NBQX + Cd + RIM']\n",
    "\n",
    "Can be simplified by doing:"
   ]
  },
  {
   "cell_type": "code",
   "execution_count": null,
   "metadata": {},
   "outputs": [],
   "source": [
    "drug_map = {\n",
    "    'TTX + NBQX': 'baseline',\n",
    "    'TTX + NBQX + Cd': 'Drug 1',\n",
    "    'TTX + NBQX + Cd + RIM': 'Drug 2',\n",
    "}\n",
    "\n",
    "column = 'mIPSC amplitude (pA)'\n",
    "drug_data = []\n",
    "drug_labels = []\n",
    "for drug_name, drug_label in drug_map.items():\n",
    "    mask = minis_data['Drug'] == drug_name\n",
    "    subset = minis_data.loc[mask, column]\n",
    "    drug_data.append(subset)\n",
    "    drug_labels.append(drug_label)\n",
    "\n",
    "plt.hist(drug_data, label=drug_labels, stacked=True, bins=50)\n",
    "plt.legend()"
   ]
  },
  {
   "cell_type": "markdown",
   "metadata": {},
   "source": [
    "To get them started, I would provide them with a cell where `drug_map` is defined. Show them the basic syntax of looping through the key/value pairs of the dictionary."
   ]
  },
  {
   "cell_type": "code",
   "execution_count": null,
   "metadata": {},
   "outputs": [],
   "source": [
    "drug_map = {\n",
    "    'TTX + NBQX': 'baseline',\n",
    "    'TTX + NBQX + Cd': 'Drug 1',\n",
    "    'TTX + NBQX + Cd + RIM': 'Drug 2',\n",
    "}\n",
    "\n",
    "for key, value in drug_map.items():\n",
    "    print(f'The drug name is \"{key}\" and the label for the plot is \"{value}\"')"
   ]
  },
  {
   "cell_type": "markdown",
   "metadata": {},
   "source": [
    "Now, make an exercise where they need to fill in the `...` to create the information needed for the histogram (they will plot the `mIPSC amplitude (pA)` column:\n",
    "\n",
    "    hist_data = []\n",
    "    hist_labels = []\n",
    "    column = 'mIPSC amplitude (pA)'\n",
    "    \n",
    "    for key, value in drug_map.items():\n",
    "        ...\n",
    "        \n",
    "    plt.hist(hist_data, label=hist_labels, stacked=True, bins=50)\n",
    "    \n",
    "Remind them that they can extract the subset of the data they want by making a mask and then doing:\n",
    "\n",
    "    subset = minis_data.loc[rows, cols]\n",
    "    "
   ]
  },
  {
   "cell_type": "markdown",
   "metadata": {},
   "source": [
    "Once they manage to do that, the next step is to wrap this inside a function that takes column as a parameter. Give them the basic function signature and ask them to fill in the `...`:\n",
    "\n",
    "    def plot_data(data, column, drugs):\n",
    "        ...\n",
    "        \n",
    "Remind them about variable scoping (i.e., a function can access variables outside the definition, so it's impotant to pass in all variables needed). \n",
    "\n",
    "Once they've successfully done that, the next step is to create the interactive choice option. I would simply tell them:\n",
    "\n",
    "    'A' selects 'mIPSC amplitude (pA)'\n",
    "    'B' selects 'Rise-time (ms)'\n",
    "    \n",
    "Ask them to write the code that requests keyboard input and prints out the corresponding column name. Remind them that they can use `input`:\n",
    "\n",
    "    response = input(text_to_display)\n",
    "    \n",
    "Many of them will probably use if-else statement. Once the exercise is over, show them how they could use the response_map approach I showed you earlier. Now, the next step will simply be to combine this code with `plot_data`."
   ]
  },
  {
   "cell_type": "code",
   "execution_count": null,
   "metadata": {},
   "outputs": [],
   "source": []
  }
 ],
 "metadata": {
  "kernelspec": {
   "display_name": "Python 3",
   "language": "python",
   "name": "python3"
  },
  "language_info": {
   "codemirror_mode": {
    "name": "ipython",
    "version": 3
   },
   "file_extension": ".py",
   "mimetype": "text/x-python",
   "name": "python",
   "nbconvert_exporter": "python",
   "pygments_lexer": "ipython3",
   "version": "3.6.5"
  }
 },
 "nbformat": 4,
 "nbformat_minor": 2
}
