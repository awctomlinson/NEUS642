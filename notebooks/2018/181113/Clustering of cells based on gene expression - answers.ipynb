{
 "cells": [
  {
   "cell_type": "markdown",
   "metadata": {},
   "source": [
    "<a href=\"#Overview\"></a>\n",
    "# Overview\n",
    "* <a href=\"#Unsupervised-Clustering-of-Single-Cells-Based-on-Gene-Expression\">Unsupervised Clustering of Single Cells Based on Gene Expression</a>\n",
    "* <a href=\"#Introduction\">Introduction</a>\n",
    "* <a href=\"#Scanpy:-A-Python-package-for-analyzing-single-cell-gene-expression-data.\">Scanpy: A Python package for analyzing single cell gene expression data.</a>\n",
    "  * <a href=\"#Exercise-1\">Exercise 1</a>\n",
    "  * <a href=\"#Loading-our-data\">Loading our data</a>\n",
    "    * <a href=\"#Exercise-2\">Exercise 2</a>\n",
    "    * <a href=\"#Exercise-3\">Exercise 3</a>\n",
    "    * <a href=\"#Exercise-4\">Exercise 4</a>\n",
    "    * <a href=\"#Exercise-5\">Exercise 5</a>\n",
    "    * <a href=\"#Exercise-6\">Exercise 6</a>\n",
    "    * <a href=\"#Exercise-7\">Exercise 7</a>\n",
    "  * <a href=\"#Processing-our-data\">Processing our data</a>\n",
    "    * <a href=\"#Exercise-8\">Exercise 8</a>\n",
    "    * <a href=\"#Exercise-9\">Exercise 9</a>\n",
    "    * <a href=\"#Exercise-10\">Exercise 10</a>\n",
    "    * <a href=\"#Exercise-11\">Exercise 11</a>\n",
    "    * <a href=\"#Exercise-12\">Exercise 12</a>\n",
    "  * <a href=\"#Plotting-our-Data\">Plotting our Data</a>\n",
    "    * <a href=\"#Exercise-13\">Exercise 13</a>\n",
    "    * <a href=\"#Exercise-14\">Exercise 14</a>\n",
    "  * <a href=\"#Clustering-our-data\">Clustering our data</a>\n",
    "    * <a href=\"#Exercise-15\">Exercise 15</a>\n",
    "    * <a href=\"#Exercise-16\">Exercise 16</a>\n",
    "    * <a href=\"#Exercise-17\">Exercise 17</a>\n",
    "    * <a href=\"#Exercise-18\">Exercise 18</a>\n",
    "* <a href=\"#Summary\">Summary</a>"
   ]
  },
  {
   "cell_type": "markdown",
   "metadata": {},
   "source": [
    "<a name=\"#Unsupervised-Clustering-of-Single-Cells-Based-on-Gene-Expression\"></a>\n",
    "# Unsupervised Clustering of Single Cells Based on Gene Expression\n",
    "<a href=\"#Overview\">Return to overview</a>\n",
    "\n"
   ]
  },
  {
   "cell_type": "markdown",
   "metadata": {},
   "source": [
    "<a name=\"#Introduction\"></a>\n",
    "# Introduction\n",
    "<a href=\"#Overview\">Return to overview</a>\n",
    "\n",
    "Unsupervised clustering is a data analysis method to cluster groups of similar objects (in our example, cells) without any apriori knowledge of the data.  Single-cell RNA seq is a technology that sequences RNA transcripts from individual cells. This allows for clustering of cells depending on their gene expression profiles. It can be used in a number of ways, for example to determine new cell types or determine gene expression changes after a maniupulation only within a specific cell type.\n",
    "\n",
    "Research Question: Gastrulation is the formation of the three germ layers (ectoderm, mesoderm and endoderm) which is critical for the development of all the organs in the body. In the mouse, this process starts as early as 6 days after fertilization and is co-ordinated by multiple distinct cell types. We sought to identify and understand these various cell types using single cell RNA analysis.\n",
    "\n",
    "Experiment: We isolated ~1040 cells from various gastrulating embryos and sequenced each cell individually using the Fluidigm Single Cell Sequencing Platform. After alignment and preprocessing, our data contained 1040 cells (columns) and 8760 genes (rows). \n",
    "\n",
    "The values within the data are the gene expression levels for each cell based upon the number of reads of a transcript per cell. These are called \"read counts\" or \"mapped counts\" becasue they refer to the number of RNA transcripts of a specific gene a particular cell had. So we have a 8760 by 1040 matrix with the values within it being read counts.\n",
    "\n",
    "WORK FLOW\n",
    "<img src=\"Workflow.png\">\n",
    "\n",
    "Data Analysis: To identify the different cell types that are present during gastrulation , we will be performing an unsupervised clustering of the single cells based on similar gene expression. \n",
    "\n",
    "\n",
    "CARTOON ILLUSTRATION OF UNSUPERVISED CLUSTERING RESULT\n",
    "                                         <img src=\"Example2.png\"> \n",
    "                                         \n",
    "                                    Adapted from Sandberg et al. Nature Methods 2014\n"
   ]
  },
  {
   "cell_type": "markdown",
   "metadata": {},
   "source": [
    "<a name=\"#Scanpy:-A-Python-package-for-analyzing-single-cell-gene-expression-data.\"></a>\n",
    "# Scanpy: A Python package for analyzing single cell gene expression data.\n",
    "<a href=\"#Overview\">Return to overview</a>\n",
    "Genome Biology 2018 19:15 https://scanpy.readthedocs.io/en/latest \n",
    "\n",
    "THE BASIC DATA STRUCTURE OF SCANPY : Scanpy stores data in the AnnData class. This class is composed of three dataframes described as X, obs and var. \n",
    "\n",
    ".X = This is a numpy array that contains all the measurements from the observations. For instance, for single cell RNA experiment this would be all the gene expression measurements. This is also called the data matrix.\n",
    "\n",
    ".obs = This is a pandas dataframe that contains the names of each observation from which the measurements are made. For instance, in our data, this would be unique identifiers for each cell measured aka cell names. \n",
    "\n",
    ".var = This is also a pandas dataframe containing the type, kind, or names of each measurement taken. You can think of these as the features or variables of an experiment. In our data, these are the names of the genes that were quantified in the cells. \n",
    "\n",
    ".uns = This is an \"unstructured\" dictionary-like annotation that starts off empty, but can hold information that we put into it. Some methods will put information into this dataframe when we run them.\n",
    "\n",
    "To summarize: .X is gene expression, .obs is cell names, .var is gene names, and .uns is unstructured and empty (to start).\n",
    "<img src=\"DataStructure.png\">\n",
    "\n",
    "Once you make a scanpy object of your data, all the methods in scanpy are available to you to manipulate your data. \n",
    "\n",
    "It's worth noting that Scanpy is using pandas dataframes and also has Matplotlib and Seaborn built-in for data visualization. The methods in Scanpy are built specifically for single cell analysis to increase efficiency of the workflow.\n",
    "\n",
    "Much more information about methods in scanpy @ https://anndata.readthedocs.io/en/latest/api.html. You may want to have this open to reference during the lesson. "
   ]
  },
  {
   "cell_type": "code",
   "execution_count": null,
   "metadata": {},
   "outputs": [],
   "source": [
    "# Load libraries needed for analysis\n",
    "\n",
    "# Scanpy \n",
    "import scanpy.api as sc\n",
    "# This prints out the status of some scanpy operations\n",
    "sc.logging.print_versions()\n",
    "\n",
    "# Pandas\n",
    "import pandas as pd"
   ]
  },
  {
   "cell_type": "markdown",
   "metadata": {},
   "source": [
    "<a name=\"#Exercise-1\"></a>\n",
    "## Exercise 1\n",
    "<a href=\"#Overview\">Return to overview</a>\n",
    "Take a moment to explore methods in scanpy. Note that we loaded the library as sc. \n",
    "Hint: The library name and a dot and the tab function will display methods in the library\n"
   ]
  },
  {
   "cell_type": "code",
   "execution_count": null,
   "metadata": {},
   "outputs": [],
   "source": [
    "# Answer"
   ]
  },
  {
   "cell_type": "markdown",
   "metadata": {},
   "source": [
    "<a name=\"#Loading-our-data\"></a>\n",
    "## Loading our data\n",
    "<a href=\"#Overview\">Return to overview</a>\n",
    "<a name=\"#Exercise-2\"></a>\n",
    "### Exercise 2\n",
    "<a href=\"#Overview\">Return to overview</a>\n",
    "\n",
    "Let's load our data now. We will use a similar method that we've used before, except we want to use the Scanpy module to load our file (rather than pandas like we've done before). The name of the file with our data is called \"SingleCellGeneExpression.csv\" and this contains the gene expression levels for every gene that was sequenced within an individual cell. "
   ]
  },
  {
   "cell_type": "markdown",
   "metadata": {},
   "source": [
    "Create an object called \"expr_data\" and read in our raw data csv file as an AnnData object using the scanpy library. \n",
    "\n",
    "Hint: This will take a second argument for what the \"delimiter\" is. A delimiter is a character that marks the boundary between our data. In this case, we will use \"tab\" designated `'\\t'`. "
   ]
  },
  {
   "cell_type": "code",
   "execution_count": null,
   "metadata": {},
   "outputs": [],
   "source": [
    "# Answer\n",
    "expr_data = sc.read_csv('SingleCellGeneExpression.csv', delimiter='\\t')"
   ]
  },
  {
   "cell_type": "code",
   "execution_count": null,
   "metadata": {},
   "outputs": [],
   "source": [
    "print(expr_data)"
   ]
  },
  {
   "cell_type": "markdown",
   "metadata": {},
   "source": [
    "Good job! You have now created a scanpy object named expr_data which contains gene expression data as .X, gene names\n",
    "as .var and cell names as .obs. "
   ]
  },
  {
   "cell_type": "markdown",
   "metadata": {},
   "source": [
    "<a name=\"#Exercise-3\"></a>\n",
    "### Exercise 3\n",
    "<a href=\"#Overview\">Return to overview</a>\n",
    "Now we want to get familiar with how to access our data. We want to emphasize here that though we are working with an AnnData object, it is sort of built with object types we already know, such as pandas dataframes or numpy arrays.\n",
    "\n",
    "Use the above information to extract the gene expression data.\n",
    "\n",
    "Hint : This is contained in the .X variable of the scanpy object you just created.\n",
    "\n",
    "What kind of object is this?"
   ]
  },
  {
   "cell_type": "code",
   "execution_count": null,
   "metadata": {},
   "outputs": [],
   "source": [
    "# Answer\n",
    "expr_data.X\n",
    "# It's a numpy array!"
   ]
  },
  {
   "cell_type": "markdown",
   "metadata": {},
   "source": [
    "<a name=\"#Exercise-4\"></a>\n",
    "### Exercise 4\n",
    "<a href=\"#Overview\">Return to overview</a>\n",
    "\n",
    "Extract the first two rows of the gene expression data.\n",
    "\n",
    "Hint: Remember the X data is a numpy array. Do this in the way you would slice a numpy array."
   ]
  },
  {
   "cell_type": "code",
   "execution_count": null,
   "metadata": {},
   "outputs": [],
   "source": [
    "# Answer\n",
    "expr_data.X[1:3]"
   ]
  },
  {
   "cell_type": "markdown",
   "metadata": {},
   "source": [
    "<a name=\"#Exercise-5\"></a>\n",
    "### Exercise 5\n",
    "<a href=\"#Overview\">Return to overview</a>\n",
    "Can you compute the size of this expression data? \n",
    "\n",
    "Hint: Again the expression data is contained in a numpy array called\n",
    "X. How do you find the dimension of a numpy array? Would shape help?"
   ]
  },
  {
   "cell_type": "code",
   "execution_count": null,
   "metadata": {},
   "outputs": [],
   "source": [
    "expr_data.X.shape"
   ]
  },
  {
   "cell_type": "markdown",
   "metadata": {},
   "source": [
    "So once again, `.X` is a 2D array where X[i_cell, i_gene] gives us the transcription level (read count) for that particular cell and gene."
   ]
  },
  {
   "cell_type": "markdown",
   "metadata": {},
   "source": [
    "<a name=\"#Exercise-6\"></a>\n",
    "### Exercise 6\n",
    "<a href=\"#Overview\">Return to overview</a>\n",
    "1) Extract the gene names from the expr_data object. Hint: This is the .var option\n",
    "\n",
    "2) Extract the cell names. Hint : This is the .obs option\n",
    "\n",
    "Reminder: Most methods have options for multiple parameters and you can view those options by hitting the tab button eg\n",
    "expr_data.obs plus a tab will display all the functionalities in the obs method. "
   ]
  },
  {
   "cell_type": "code",
   "execution_count": null,
   "metadata": {},
   "outputs": [],
   "source": [
    "# Answer\n",
    "# Gene names\n",
    "expr_data.var_names"
   ]
  },
  {
   "cell_type": "code",
   "execution_count": null,
   "metadata": {},
   "outputs": [],
   "source": [
    "# Answer\n",
    "# Cell names\n",
    "expr_data.obs_names"
   ]
  },
  {
   "cell_type": "markdown",
   "metadata": {},
   "source": [
    "Notice that the cell names are just sequential numbers, which for our purposes is okay since each cell is uniquely identified by a number. If you had a unique name for each cell, you could assign it to `.obs` and continue with your analysis. "
   ]
  },
  {
   "cell_type": "markdown",
   "metadata": {},
   "source": [
    "<a name=\"#Exercise-7\"></a>\n",
    "### Exercise 7\n",
    "<a href=\"#Overview\">Return to overview</a>\n",
    "Let's just see what the top 20 highest expressed genes are in our dataset.  Scanpy has a function that will show us the highest expressed genes. In order to plot this, use \"sc.pl.\" and then you can hit \"tab\" to find the correct method to use. \n",
    "\n",
    "Use the `?` to determine what the parameters for your chosen method you should include."
   ]
  },
  {
   "cell_type": "code",
   "execution_count": null,
   "metadata": {},
   "outputs": [],
   "source": [
    "# Answer\n",
    "sc.pl.highest_expr_genes(expr_data, n_top=20)"
   ]
  },
  {
   "cell_type": "markdown",
   "metadata": {},
   "source": [
    "This method showed us the top genes in our data set as measured by what percent this gene was of the total counts--across all of the cells. \n",
    "\n",
    "Is this information useful to us? Why or why not?\n",
    "\n",
    "We can easily see the top 20 highest expressed genes, but this is not necesaryily useful information to us. The top 20 highest expressed genes across all cells may not actually be all that interesting because they could be housekeeping genes that all the cells express or ones that just a few cells express at very high levels. We need to filter our data to account for the differences in the overall \"transcriptional activity\" of our cells in that some of them will have many more read counts than others. Without this, a rare cell type with low, but important, gene expression levels would be left out."
   ]
  },
  {
   "cell_type": "markdown",
   "metadata": {},
   "source": [
    "<a name=\"#Processing-our-data\"></a>\n",
    "## Processing our data\n",
    "<a href=\"#Overview\">Return to overview</a>\n",
    "<a name=\"#Exercise-8\"></a>\n",
    "### Exercise 8\n",
    "<a href=\"#Overview\">Return to overview</a>\n",
    "Now we are going to do some processing that will analyze cells by accounting for the fact that some cells are going to have many many more read counts than others. When we do our analysis, we will want it to cluster our data based on some biologically meaningful gene expression--not just the fact that some cells express a lot of genes at high levels and some don't. \n",
    "\n",
    "To do this, we will normalize our data and perform a regression analysis that will eliminate the influence of transcriptional activity of a given cell on our analysis. \n",
    "\n",
    "First, we want to sum all of the counts per cell across all of the genes and add the total counts per cell as observations-annotation to our data-set. This can all be done in one step. We are adding a column to the obs dataframe, which is giving an annotation to our data without changing anything in the expr_data.X dataframe. Run the cell below to perform this step."
   ]
  },
  {
   "cell_type": "code",
   "execution_count": null,
   "metadata": {},
   "outputs": [],
   "source": [
    "expr_data.obs['n_counts'] = expr_data.X.sum(axis=1)\n",
    "expr_data.obs[0:5]"
   ]
  },
  {
   "cell_type": "markdown",
   "metadata": {},
   "source": [
    "You may notice that the sum of all read counts for a cell has a decimal. This does not mean that this cell expressed a fraction of a gene. It is the result of approximation used when the raw data is generated.\n",
    "\n",
    "So now in `.obs` we have a column for the cell number and a column for all of the read counts for that cell across all genes."
   ]
  },
  {
   "cell_type": "markdown",
   "metadata": {},
   "source": [
    "<a name=\"#Exercise-9\"></a>\n",
    "### Exercise 9\n",
    "<a href=\"#Overview\">Return to overview</a>\n",
    "\n",
    "Now we also want to filter our set to get rid of any cells included as an error. We want to make sure each cell expresses at least 200 genes. \n",
    "\n",
    "We will use a `sc.pp.` method to do this. Use the tab to figure out which method and parameter to use.\n",
    "\n",
    "Hint: The key word is filter, but remember what exactly we are trying to filter out to choose the correct method."
   ]
  },
  {
   "cell_type": "code",
   "execution_count": null,
   "metadata": {},
   "outputs": [],
   "source": [
    "# Answer\n",
    "sc.pp.filter_cells(expr_data, min_genes=200)"
   ]
  },
  {
   "cell_type": "markdown",
   "metadata": {},
   "source": [
    "Now let's look at `.obs` again. We can see now that it includes the number of genes expressed by each cell. This is a built-in part of the method for `filter_cells`. "
   ]
  },
  {
   "cell_type": "code",
   "execution_count": null,
   "metadata": {},
   "outputs": [],
   "source": [
    "expr_data.obs[0:5]"
   ]
  },
  {
   "cell_type": "markdown",
   "metadata": {},
   "source": [
    "We can use violin plots to see the different kinds of spreads within our data. "
   ]
  },
  {
   "cell_type": "code",
   "execution_count": null,
   "metadata": {},
   "outputs": [],
   "source": [
    "sc.pl.violin(expr_data, ['n_genes', 'n_counts'], jitter=0.4, multi_panel=True)"
   ]
  },
  {
   "cell_type": "markdown",
   "metadata": {},
   "source": [
    "This shows us that the number of genes expressed by various cells mostly falls betwen 4000 and 8000. We also know that most cells have read counts of a little less than 1 million. \n",
    " \n",
    "So how is this helpful? We can use these plots to determine what cutoffs we should use to filter our data. The dataset we are working with already underwent some pre-processing and filtering. If you were using a truly raw data set, you could use plots like these to figure out cutoffs to exclude outliers."
   ]
  },
  {
   "cell_type": "markdown",
   "metadata": {},
   "source": [
    "<a name=\"#Exercise-10\"></a>\n",
    "### Exercise 10\n",
    "<a href=\"#Overview\">Return to overview</a>\n",
    "\n",
    "Now we want to create a simple scatter plot to see how our cells are grouped based on the number of genes they express and the number of read counts per cell. This can also help us identify outliers. Use a `sc.pl.` method for this.\n",
    "\n",
    "Plot the counts on the x axis and the genes on the y axis."
   ]
  },
  {
   "cell_type": "code",
   "execution_count": null,
   "metadata": {},
   "outputs": [],
   "source": [
    "# Answer\n",
    "sc.pl.scatter(expr_data, x='n_counts', y='n_genes')"
   ]
  },
  {
   "cell_type": "markdown",
   "metadata": {},
   "source": [
    "The above visual representation can guide more filtering if necessary to remove outliers. From this graph we can see that most of the cells express between 4000 and 8000 genes, let's remove cells that express fewer than 2000 genes. (This number is somewhat arbitrary because each person working with their own dataset would select what cutoffs they will use to exclude outliers.\n",
    "\n",
    "Create an object `filt_expr_data` and assign it to the result of your filter.\n",
    "\n",
    "Hint: You can do this by slicing `expr_data`."
   ]
  },
  {
   "cell_type": "code",
   "execution_count": null,
   "metadata": {},
   "outputs": [],
   "source": [
    "# Answer\n",
    "filt_expr_data = expr_data[expr_data.obs['n_genes'] > 2000, :]"
   ]
  },
  {
   "cell_type": "code",
   "execution_count": null,
   "metadata": {},
   "outputs": [],
   "source": [
    "# Review the data after this filtration\n",
    "sc.pl.scatter(filt_expr_data, x='n_counts', y='n_genes')"
   ]
  },
  {
   "cell_type": "markdown",
   "metadata": {},
   "source": [
    "<a name=\"#Exercise-11\"></a>\n",
    "### Exercise 11\n",
    "<a href=\"#Overview\">Return to overview</a>\n",
    "\n",
    "Now we are going to normalize the counts for each cell. You could imagine some genes may have expression levels from 0 to 100 and another gene has expression from 100 to 1000. We want to scale these the same to make a uniform distribution. That also allows for proper statistical testing.\n",
    "\n",
    "This is really easy since there is a Scanpy module that will do this for us. \n",
    "\n",
    "This method scales the expression matrix so that the total counts of all the genes are the same for every cell. It does this by finding the median value of the n_counts column and then rescales all the data so that all the n_counts for all cells is equal to this median value.\n",
    "\n",
    "From now on, we want to perform our analyses on `filt_expr_data`."
   ]
  },
  {
   "cell_type": "code",
   "execution_count": null,
   "metadata": {},
   "outputs": [],
   "source": [
    "# Answer\n",
    "sc.pp.normalize_per_cell(filt_expr_data)"
   ]
  },
  {
   "cell_type": "markdown",
   "metadata": {},
   "source": [
    "We also want to perform a log transformation of our data. Log transformations offer \"numerical stability\" during our analyses. \"In a numerically stable algorithm, errors in the input lessen in significance as the algorithm executes, having little effect on the final output\" (Wolfram Mathworld). Just remember, log transformations depend on the fitting problem and are not going to be required for every dataset.\n",
    "\n",
    "\n",
    "The method we will use takes the natural logarithm of the normalized values (log2.7). Use a sc.pp. method for this and apply it to our filtered dataset. Use `sc.pp.?` to find which method you should use. "
   ]
  },
  {
   "cell_type": "code",
   "execution_count": null,
   "metadata": {},
   "outputs": [],
   "source": [
    "# Answer\n",
    "sc.pp.log1p(filt_expr_data)"
   ]
  },
  {
   "cell_type": "markdown",
   "metadata": {},
   "source": [
    "<a name=\"#Exercise-12\"></a>\n",
    "### Exercise 12\n",
    "<a href=\"#Overview\">Return to overview</a>\n",
    "\n",
    "We can now perform a regression on our data, which will eliminate the effects of \"transcriptional activity\". Like stated before, this will remove the influence of the number of counts per cell on our clustering. Use a preprocessing method to do this."
   ]
  },
  {
   "cell_type": "code",
   "execution_count": null,
   "metadata": {},
   "outputs": [],
   "source": [
    "# Answer\n",
    "sc.pp.regress_out(filt_expr_data, ['n_counts'])"
   ]
  },
  {
   "cell_type": "markdown",
   "metadata": {},
   "source": [
    "Finally, we can scale our data. This transforms the data into a standard uniform distribution. Use a preprocessing method with the maximum value of 10 to scale the data."
   ]
  },
  {
   "cell_type": "code",
   "execution_count": null,
   "metadata": {},
   "outputs": [],
   "source": [
    "# Answer\n",
    "sc.pp.scale(filt_expr_data, max_value=10)"
   ]
  },
  {
   "cell_type": "markdown",
   "metadata": {},
   "source": [
    "These three steps (normalize, log, and scale) are to ensure that the expression data follow a well known distribution that allows for proper statistical testing. "
   ]
  },
  {
   "cell_type": "markdown",
   "metadata": {},
   "source": [
    "<a name=\"#Plotting-our-Data\"></a>\n",
    "## Plotting our Data\n",
    "<a href=\"#Overview\">Return to overview</a>\n",
    "<a name=\"#Exercise-13\"></a>\n",
    "### Exercise 13\n",
    "<a href=\"#Overview\">Return to overview</a>\n",
    "\n",
    "Now we want to start making some clusters from our data. The first step is to perform a principal component analysis. What this analysis does is extract the most salient features from our data set and reduces them to a single dimension. Therefore, plotting the top two principal components against each other is creating a graph based on the two most salient features from this dataset.\n",
    "\n",
    "If you want to know more about PCA, please see this link kindly provided by Erik. \n",
    "Cool visual PCA explanation: http://setosa.io/ev/principal-component-analysis/\n",
    "\n",
    "Now we will be using a scanpy tool. These methods can be accessed by using `sc.tl`.\n",
    "\n",
    "Use a sc.tl. method to perform and plot the PCA. \n",
    "\n",
    "Hint: Use svd_solver=\"arpack\" as a second argument.\n",
    "\n"
   ]
  },
  {
   "cell_type": "code",
   "execution_count": null,
   "metadata": {},
   "outputs": [],
   "source": [
    "# Answer\n",
    "sc.tl.pca(filt_expr_data, svd_solver='arpack')\n",
    "sc.pl.pca(filt_expr_data)"
   ]
  },
  {
   "cell_type": "markdown",
   "metadata": {},
   "source": [
    "Each dot in this plot represents a cell and each principal component is a linear combination of genes. Since we have more than 8000 genes across all of our cells, and they all express different combinations of these, it would be nigh impossible to represent all of the cells by individual genes. PCA reduces over 8000 dimensions to describe the data (if each gene is a dimension) to just a few that emphasizes variation and patterns in the data.  "
   ]
  },
  {
   "cell_type": "markdown",
   "metadata": {},
   "source": [
    "<a name=\"#Exercise-14\"></a>\n",
    "### Exercise 14\n",
    "<a href=\"#Overview\">Return to overview</a>\n",
    "\n",
    "We can now create an \"elbow plot\" that will show us the variance ratio on our data. This will determine a number of principal components and show how much of the variance is accounted for by them. As the ranking increases, the amount of variance accounted for by that principal component is decreased. Ultimately it is a subective decision about how many principal components to use in your own analysis. Typically people chose the number where the curve starts to level off or where the \"elbow\" is. "
   ]
  },
  {
   "cell_type": "code",
   "execution_count": null,
   "metadata": {},
   "outputs": [],
   "source": [
    "# Answer\n",
    "sc.pl.pca_variance_ratio(filt_expr_data, log=True)"
   ]
  },
  {
   "cell_type": "markdown",
   "metadata": {},
   "source": [
    "We can now look at how different genes are expressed in cells in our PCA plot. Add an argument to the previous PCA plot where color = \"Farsb\".\n"
   ]
  },
  {
   "cell_type": "code",
   "execution_count": null,
   "metadata": {},
   "outputs": [],
   "source": [
    "# Answer\n",
    "sc.pl.pca(filt_expr_data, color=\"Farsb\")"
   ]
  },
  {
   "cell_type": "markdown",
   "metadata": {},
   "source": [
    "Remember, each point on the graph is a cell. This is showing us with a heatmap the expression levels for Farsb across all of our cells.  "
   ]
  },
  {
   "cell_type": "markdown",
   "metadata": {},
   "source": [
    "<a name=\"#Clustering-our-data\"></a>\n",
    "## Clustering our data\n",
    "<a href=\"#Overview\">Return to overview</a>\n",
    "<a name=\"#Exercise-15\"></a>\n",
    "### Exercise 15\n",
    "<a href=\"#Overview\">Return to overview</a>\n",
    "Now we can begin to start clustering our data. \n",
    "\n",
    "Using a method called \"neighbors\", we can start to define clusters. Hint: Use `sc.pp.?` to find the correct method.\n",
    "\n",
    "The `n_neighbors` parameter controls the balance between local and global structure in the data and should range from 2 to 200; small numbers for this will result in emphasis on the local structure at the expense of the differences between the clusters on a more global level.\n",
    "\n",
    "Higher numbers makes the clustering more relaxed and better resolved. Lower numbers make it more compact and less resolved. \n",
    "\n",
    "Run this method on `filt_expr_data`. For other parameters, use 10 as the value for both `n_neighbors` and `n_pcs`."
   ]
  },
  {
   "cell_type": "code",
   "execution_count": null,
   "metadata": {},
   "outputs": [],
   "source": [
    "# Answer\n",
    "sc.pp.neighbors(filt_expr_data, n_neighbors=200, n_pcs=10)"
   ]
  },
  {
   "cell_type": "markdown",
   "metadata": {},
   "source": [
    "<a name=\"#Exercise-16\"></a>\n",
    "### Exercise 16\n",
    "<a href=\"#Overview\">Return to overview</a>\n",
    "\n",
    "Now we want to use UMAP to look at our data. UMAP: Uniform Manifold Approximation and Projection. \n",
    "\n",
    "This will use our dataset, as well as the calculation of the neighbors, to create a plot to visualize our data.\n",
    "\n",
    "Use sc.tl. to embed the neighborhood graph using UMAP and then plot it. \n",
    "\n",
    "Hint: You can use the same method for both.\n",
    "\n",
    "Changing the number of principal components will also change the plot. Play around with different values for `n_neighbors` and `n_pcs` to see how it changes the UMAP plot. Reminder, you will need to re-run the previous cell."
   ]
  },
  {
   "cell_type": "code",
   "execution_count": null,
   "metadata": {},
   "outputs": [],
   "source": [
    "# Answer\n",
    "sc.tl.umap(filt_expr_data)\n",
    "sc.pl.umap(filt_expr_data)"
   ]
  },
  {
   "cell_type": "markdown",
   "metadata": {},
   "source": [
    "We've determined the best values for neighbors in clustering our data is `n_neighbors=30` and `n_pcs=20`. We chose 20 for n_pcs by using our elbow plot to see where the line leveled off. We chose 30 for the n_neighbors through trial and error tuning and seeing how the clustering ran. \n",
    "\n",
    "The main point of this is many values are subjective. Some people may chose different values. \n",
    "\n",
    "Run the cell below to see the resulting plot."
   ]
  },
  {
   "cell_type": "code",
   "execution_count": null,
   "metadata": {},
   "outputs": [],
   "source": [
    "sc.pp.neighbors(filt_expr_data, n_neighbors=30, n_pcs=20)\n",
    "sc.tl.umap(filt_expr_data)\n",
    "sc.pl.umap(filt_expr_data)"
   ]
  },
  {
   "cell_type": "markdown",
   "metadata": {},
   "source": [
    "Let's plot our data again and look at another sample gene, Hoxa1. Use the argument \"color\" to do this.\n",
    "\n"
   ]
  },
  {
   "cell_type": "code",
   "execution_count": null,
   "metadata": {},
   "outputs": [],
   "source": [
    "# Answer\n",
    "sc.pl.umap(filt_expr_data, color=[\"Hoxa1\"])"
   ]
  },
  {
   "cell_type": "markdown",
   "metadata": {},
   "source": [
    "<a name=\"#Exercise-17\"></a>\n",
    "### Exercise 17\n",
    "<a href=\"#Overview\">Return to overview</a>\n",
    "Now we're going to visualize our clusters with \"louvain\", which will cluster cells using the Louvain algorithm. This will show us all of the clusters found within our stated parameters. First, use a `sc.tl` method to run the louvain clustering. Then when plotting (using umap), set color='louvain'.\n"
   ]
  },
  {
   "cell_type": "code",
   "execution_count": null,
   "metadata": {},
   "outputs": [],
   "source": [
    "# Answer\n",
    "sc.tl.louvain(filt_expr_data)\n",
    "sc.pl.umap(filt_expr_data, color=['louvain'])"
   ]
  },
  {
   "cell_type": "markdown",
   "metadata": {},
   "source": [
    "This algorithm found 6 clusters and color coded them for us. So what do we do with them? What genes are defining them?"
   ]
  },
  {
   "cell_type": "markdown",
   "metadata": {},
   "source": [
    "<a name=\"#Exercise-18\"></a>\n",
    "### Exercise 18\n",
    "<a href=\"#Overview\">Return to overview</a>\n",
    "\n",
    "Now we can look at the different clusters and see which genes most define that cluster.\n",
    "\n",
    "We can use a method called 'rank_genes_group\" to do this. Plot the data as well.\n",
    "\n",
    "Hint: use the same method for both. You will also need another parameter `sharey=False` when plotting.\n",
    "\n",
    "If you so chose, you could save these graphs by adding an argument `save='pdf'` when plotting."
   ]
  },
  {
   "cell_type": "code",
   "execution_count": null,
   "metadata": {},
   "outputs": [],
   "source": [
    "# Answer\n",
    "sc.tl.rank_genes_groups(filt_expr_data, 'louvain')\n",
    "sc.pl.rank_genes_groups(filt_expr_data, n_genes=20, sharey=False)"
   ]
  },
  {
   "cell_type": "markdown",
   "metadata": {},
   "source": [
    "This can also be done several different ways using different statistical methods that we won't go into here. "
   ]
  },
  {
   "cell_type": "markdown",
   "metadata": {},
   "source": [
    "We could also more easily look at our gene names by putting these into a pandas dataframe.\n",
    "\n",
    "After we perform the above methods, it has saved this information into `.uns` in our AnnData object. This was an originally empty unstructured dict-like object. The method `rank_genes_groups` added in these clusters and their top genes. We can access this data and put it into a pandas dataframe to more easily access it. "
   ]
  },
  {
   "cell_type": "code",
   "execution_count": null,
   "metadata": {},
   "outputs": [],
   "source": [
    "pd.DataFrame(filt_expr_data.uns['rank_genes_groups']['names']).head()"
   ]
  },
  {
   "cell_type": "markdown",
   "metadata": {},
   "source": [
    "Finally, we can look at gene expression levels across the clusters for a few different genes. You can do this by generating the same plot as before, except adding in the name of the gene as additional value for the color argument separated by a comma from `'louvain'`."
   ]
  },
  {
   "cell_type": "code",
   "execution_count": null,
   "metadata": {},
   "outputs": [],
   "source": [
    "# Cluster 0\n",
    "sc.pl.umap(filt_expr_data, color=['louvain',\"Prtg\"])"
   ]
  },
  {
   "cell_type": "markdown",
   "metadata": {},
   "source": [
    "Take a few minutes to play around with looking at the gene expression for different genes that define our clusters."
   ]
  },
  {
   "cell_type": "code",
   "execution_count": null,
   "metadata": {},
   "outputs": [],
   "source": [
    "sc.pl.umap(filt_expr_data, color=['louvain',\"\"])"
   ]
  },
  {
   "cell_type": "markdown",
   "metadata": {},
   "source": [
    "<a name=\"#Summary\"></a>\n",
    "# Summary\n",
    "<a href=\"#Overview\">Return to overview</a>\n",
    "Through this lesson, we've learned how to approach analysis of single cell RNA sequencing data through Unsupervised Clustering. We also learned about Scanpy and how to use a specialized package to analyze our data. We saw how Scanpy uses concepts that we are familiar with (pandas, seaborn, matplotlib) to create more complicated and specific functions to analyze a really specific kind of dataset. We also had an introduction to principal component analysis and how to create clusters from our data based on the PCs. \n",
    "\n",
    "At this point in single-cell sequencing analysis is where our \"biological knowledge\" would take over. Though we have the names of all of the genes and could see how they cluster within our cells, we must apply what we know about these genes' functions to determine how relevant their relevancy. At this point we might look at known markers for certain cell types or other specific genes of interest to guide our analysis more. "
   ]
  }
 ],
 "metadata": {
  "kernelspec": {
   "display_name": "NEUS642",
   "language": "python",
   "name": "neus642"
  },
  "language_info": {
   "codemirror_mode": {
    "name": "ipython",
    "version": 3
   },
   "file_extension": ".py",
   "mimetype": "text/x-python",
   "name": "python",
   "nbconvert_exporter": "python",
   "pygments_lexer": "ipython3",
   "version": "3.6.6"
  }
 },
 "nbformat": 4,
 "nbformat_minor": 2
}
