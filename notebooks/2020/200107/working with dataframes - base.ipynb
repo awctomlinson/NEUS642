{
 "cells": [
  {
   "cell_type": "markdown",
   "metadata": {},
   "source": [
    "# Introduction\n",
    "\n",
    "Welcome to NEUS642! Since I can be difficult to understand, most of what I'm saying will appear on the screen so you can follow along if needed. If I need to go off-script, the interpreter will repeat what I say after me. Please interrupt at any point during the class if you have trouble following along.\n",
    "\n",
    "The course staff includes:\n",
    "\n",
    "* Brad Buran (buran@ohsu.edu)\n",
    "* Stephen David (davids@ohsu.edu)\n",
    "* Alexandria Lassetter (lassetta@ohsu.edu)\n",
    "* Emily Leff (leff@ohsu.edu)\n",
    "* Alexander Tomlinson (tomlinsa@ohsu.edu)\n",
    "\n",
    "Outside of class hours, all of us will be available via email and <a href=\"https://neus642.slack.com\">Slack (NEUS642.slack.com)</a>. While you are welcome to email the course staff directly, we prefer that Python-related questions be posted to Slack. You may learn from our answers to questions posted by other students and are encouraged to answer each other's questions. During class, you are also encouraged to use Slack to discuss the exercises. Please share anything interesting you find with us on Slack or let us know if you'e confused about a particular topic.\n",
    "\n",
    "**Before we move on, is everyone signed into Slack? To indicate you're on Slack, please go to the `#general` channel and post a reaction to the last message.**\n",
    "\n",
    "We also have additional information in our class syllabus (https://bburan.github.io/NEUS642).\n",
    "\n",
    "## How classes will work\n",
    "\n",
    "Each week you or one of your classmates will lead an exercise on a data analysis problem relevant to neuroscience. Be sure that you provide sufficient background information at the beginning of the exercise for a neuroscientist to understand the problem. Throughout the exercise there will be points at which we stop for 5 to 15 minutes to give you the opportunity to write the solution for a particular question. You may work either individually or in groups.\n",
    "\n",
    "You'll notice that we've provided you with both green and red post-it notes. If you need help during the class, stick the red post-it note on the back of your computer and someone will come help you. Once you've completed the exercise, please place the green post-it note on the back of your computer so we know when everyone's ready to move on.\n",
    "\n",
    "## Developing an exercise\n",
    "\n",
    "Although I will be running today's exercise, all subsequent exercises will be run by one of you. If you haven't already, please sign up for a slot. If preferred, you may work in small groups of two to three people. You are expected to be in regular contact with the course staff as you develop the exercise so that we can guide you and ensure the exercise is of appropriate scope and level for the class. Be sure to contact us early. You are expected to have a concept ready at least two weeks before your presentation slot and a full draft of the exercise complete a full week before your presentation slot.\n",
    "\n",
    "Although we try to ensure that the exercise is of appropriate length for the class, we may not finish all the problems before the end of class. Please finish the exercise outside of class if needed.\n",
    "\n",
    "*Grading for registered students is based on your presentation, so you must sign up for a presentation if you're registered for the course.* \n",
    "\n",
    "# Today\n",
    "\n",
    "## Getting started\n",
    "\n",
    "There are many ways to run Python. For the course, we will be using Jupyter Notebook running on our personal laptops. Hopefully all of you had a chance to get your computer set up to run the notebooks. If not, please place a red post-it note on the back of your computer.\n",
    "\n",
    "Now, let's download today's notebook. To make it easy to get future updates to the notebooks, we are going to use Git, which is a source-code management tool. To get started, we will be using the command prompt. The command prompt is a program that allows you to interact with your computer using the keyboard instead of a mouse:\n",
    "\n",
    "* Open `Anaconda Prompt`.\n",
    "* Change to the directory where you want to store your files for NEUS642.\n",
    "* Type `git clone https://github.com/bburan/NEUS642`\n",
    "\n",
    "If the last step fails, it means you need to install Git. While still in the `Anaconda Prompt`, type `conda install git`. Now, try the last step again. Once you have successfully run the last step, you will now have a folder called `NEUS642`. The next step is to make sure you have all the Python packages you need to run the code. If you followed the instructions in the syllabus, you should already have all the required packages. If not, type in the `Anaconda Prompt`:\n",
    "\n",
    "```\n",
    "conda install python matplotlib seaborn numpy pandas jupyter\n",
    "```\n",
    "\n",
    "You may not discover until later today that you are missing a package. If you discover this, just open up an `Anaconda Prompt` and run the above command.\n",
    "\n",
    "Now, let's start Jupyter Notebook so we can see today's notebook. While still in the `Anaconda Prompt`:\n",
    "\n",
    "* Change to the folder where you cloned the notebooks by typing `cd NEUS642`.\n",
    "* Start Jupyter Notebook by typing `jupyter notebook`.\n",
    "\n",
    "A web browser should immediately open and load Jupyter Notebook. Navigate to today's notebook (under `notebooks/2020/200107`) and open `working with dataframes - students.ipynb`. You'll note that we have four versions of each notebook:\n",
    "\n",
    "* `base` - This is the version you will create when authoring your own exercise. It contains all the answers to the exercises. The course staff has a script that will take this version and create three formatted versions of the notebook for use in the class. The formatted versions all contain a table of contents with links to easily navigate the notebook. Once you're ready to create the notebook for the class, the course staff will provide you instructions on how to properly format it so it works with the script.\n",
    "* `students` - This is the version that you will use. The answers have been removed from the notebook so that you can enter your own solution.\n",
    "* `teacher` - This is the version used by the presenter. The answers have been removed from the notebook, but will automatically be loaded once you execute the cell (note you will need to execute the cell twice, once to load the solution and again to run the solution).\n",
    "* `answers` - Same as `base`, except it contains a nicely-formatted table of contents.\n",
    "\n",
    "Once you have today's notebook open, please place a green post-it note on the back of your computer."
   ]
  },
  {
   "cell_type": "markdown",
   "metadata": {},
   "source": [
    "## Goals\n",
    "\n",
    "Introduce the idea of a dataframe for managing experimental data in a tabular (spreadsheet) format. Demonstrate how programming using dataframes can simplify many common data operations, including:\n",
    "\n",
    "1. Reshaping the data.\n",
    "2. Merging two datasets on a common column or set of columns.\n",
    "3. Grouping data and computing a statistic on the group.\n",
    "\n",
    "Dataframes are provided using a Python library called [Pandas](https://pandas.pydata.org/). In the code I've imported pandas as `pd` for short. This two-letter abbreviation is a common convention in scientific Python programming (you'll often see numpy imported as `np` and scipy as `sp`). Since Pandas is a third-party library not included in the core Python distribution, you sometimes have to explicitly install it. It should already be installed if you . However, if you try to replicate the code using your own Python install, you may have to install Pandas using `conda install pandas`.\n",
    "\n",
    "## The data\n",
    "\n",
    "Noise exposure can cause hearing damage. Sometimes this damage is temporary, sometimes it's permanent. We can assess hearing thresholds in animals by measuring the auditory brainstem response (ABR). The ABR is an event-related potential reflecting the activity of the auditory nerve in response to a brief tone. By presenting tones of varying loudness (the unit is dB SPL), we can define the animal's hearing threshold as the minimum level (dB SPL) at which we can detect the ABR.\n",
    "\n",
    "To assess hearing damage caused by noise exposure, we can measure ABR thresholds before noise-exposure, one day after noise-exposure and two weeks after noise-exposure. We have a set of animals that have been exposed to different levels of noise (104, 110 or 114 dB SPL). In this exercise, we will calculate and plot the mean threshold shift (i.e., the difference between post-exposure ABR threshold and pre-exposure ABR threshold).\n",
    "\n",
    "The data is saved in two spreadsheets. The first contains the information on the noise-exposure for each animal and the second contains the ABR threshold measurements."
   ]
  },
  {
   "cell_type": "markdown",
   "metadata": {},
   "source": [
    "## Setting up the code\n",
    "\n",
    "At the beginning of every Python script we need to import all the libraries we need and define a few variables."
   ]
  },
  {
   "cell_type": "code",
   "execution_count": null,
   "metadata": {},
   "outputs": [],
   "source": [
    "# This ensures that plots are shown below each code cell\n",
    "%matplotlib inline\n",
    "\n",
    "# Import the library we're using for this exercise\n",
    "import pandas as pd\n",
    "\n",
    "# For brevity, limit the number of rows displayed\n",
    "pd.options.display.max_rows = 7"
   ]
  },
  {
   "cell_type": "markdown",
   "metadata": {},
   "source": [
    "## A few pointers about Jupyer notebooks\n",
    "\n",
    "Jupyter notebooks organize your code and text into a sequence of cells. Each cell can be run independently of each other. However, the order of execution matters. Take a look at the two cells below. Run the one named `Cell 1`. Why do we get an error?\n",
    "\n",
    "Now, run `Cell 2` and then go back and run `Cell 1` again. Why does it work now?\n",
    "\n",
    "What happens if we run `Cell 1` again? Why has the output changed?"
   ]
  },
  {
   "cell_type": "code",
   "execution_count": null,
   "metadata": {},
   "outputs": [],
   "source": [
    "# Cell 1\n",
    "a = a * 2\n",
    "print('A is now', a)"
   ]
  },
  {
   "cell_type": "code",
   "execution_count": null,
   "metadata": {},
   "outputs": [],
   "source": [
    "# Cell 2\n",
    "a = 1"
   ]
  },
  {
   "cell_type": "markdown",
   "metadata": {},
   "source": [
    "## Read in the data\n",
    "\n",
    "Since Pandas provides a function for reading multiple file formats, including CSV (which can be generated by Excel using `save as`), reading in the exposure data is very simple."
   ]
  },
  {
   "cell_type": "code",
   "execution_count": null,
   "metadata": {},
   "outputs": [],
   "source": [
    "exposure_data = pd.read_csv('exposure_data.csv')\n",
    "exposure_data"
   ]
  },
  {
   "cell_type": "markdown",
   "metadata": {},
   "source": [
    "This looks pretty good, but there's a bit of redundancy here. There's one row for each animal. The animals are numbered 1 through 38 as shown by the `animal` column. However, Pandas has automatically created an index indicating the row numbers. All dataframes have an index which uniquely identifies each row. By default, the index is just the row number. Note that the row-numbering starts at 0, which is a typical convention in Python. In some programming languages (e.g., Matlab), numbering typically starts at 1.\n",
    "\n",
    "A dataframe index does not have to be a simple row number as long as the label for that row is unique. The label can be any immutable value (e.g., a string). Why not just use the animal ID as the index? Is there a way we can tell Pandas to use the `animal` column as the index? Perhaps the `read_csv` function has a parameter that allows you to specify this.  You can look up the documentation for any function in the IPython prompt by putting a question mark, `?`, after the name of the function:\n",
    "\n",
    "    pd.read_csv?\n",
    "   \n",
    "Ok, now try it. What do you get?"
   ]
  },
  {
   "cell_type": "code",
   "execution_count": null,
   "metadata": {},
   "outputs": [],
   "source": [
    "# Answer\n",
    "pd.read_csv?"
   ]
  },
  {
   "cell_type": "markdown",
   "metadata": {},
   "source": [
    "### Exercise 1 - Specifying index labels\n",
    "\n",
    "That's a lot of parameters for `read_csv`! Take a minute to read through the documentation. Does anything sound like it might let us specify what column to use as the index? Now, replace the `...` with the appropriate code to set the `animal` column as the index:\n",
    "\n",
    "    exposure_data = pd.read_csv('exposure_data.csv', ...)\n",
    "    exposure_data\n",
    "\n",
    "Remember that Python uses a zero-based numbering scheme. That means that the first column has an index of 0 and the second column has an index of 1.\n",
    "\n",
    "**Once you have figured out the solution, please place a green post-it note on the back of your computer.**"
   ]
  },
  {
   "cell_type": "code",
   "execution_count": null,
   "metadata": {},
   "outputs": [],
   "source": [
    "# Answer\n",
    "exposure_data = pd.read_csv('exposure_data.csv', index_col=0)\n",
    "exposure_data"
   ]
  },
  {
   "cell_type": "markdown",
   "metadata": {},
   "source": [
    "This looks much better. Why might this be useful? \n",
    "\n",
    "Let's discuss some terminology first:\n",
    "\n",
    "* A `dataframe` is a two-dimensional data structure aligned by rows and columns (i.e., a table). However, unlike Excel, you can specify your own row labels and column labels.\n",
    "\n",
    "* A `series` is a one-dimensional data structure that has an index. When you extract a single row or column from a dataframe, a series is returned.\n",
    "\n",
    "Let's take a closer look at this. You can extract a single value from the dataframe using the special `loc` attribute:\n",
    "\n",
    "    value = dataframe.loc[row_label, column_label]\n",
    "    \n",
    "The colon, `:`, is a special symbol that indicates to extract all values for that dimension. To extract an entire row:\n",
    "\n",
    "    row = dataframe.loc[row_label, :]\n",
    "    \n",
    "To extract an entire column:\n",
    "\n",
    "    column = dataframe.loc[:, column_label]\n",
    "    \n",
    "### Exercise 2 - Extracting single cells\n",
    "\n",
    "Let's go ahead and try extracting some data from the dataframe. What's the exposure date for Subject 10?   "
   ]
  },
  {
   "cell_type": "code",
   "execution_count": null,
   "metadata": {},
   "outputs": [],
   "source": [
    "# Answer\n",
    "value = exposure_data.loc['Subject 10', 'exposure_date']\n",
    "value"
   ]
  },
  {
   "cell_type": "markdown",
   "metadata": {},
   "source": [
    "### Exercise 3 - Extracting rows\n",
    "\n",
    "Now, try and extract the entire *row* for animal 10. How do you do this?"
   ]
  },
  {
   "cell_type": "code",
   "execution_count": null,
   "metadata": {},
   "outputs": [],
   "source": [
    "# Answer\n",
    "row = exposure_data.loc['Subject 10', :]\n",
    "row"
   ]
  },
  {
   "cell_type": "markdown",
   "metadata": {},
   "source": [
    "Remember what we said earlier about the difference between a dataframe and a series. Is `row` a series or a dataframe?\n",
    "\n",
    "Also, note how `row` is indexed. As with dataframes, you can pull out individual elements using the `loc` indexer."
   ]
  },
  {
   "cell_type": "code",
   "execution_count": null,
   "metadata": {},
   "outputs": [],
   "source": [
    "row.loc['exposure_date']"
   ]
  },
  {
   "cell_type": "markdown",
   "metadata": {},
   "source": [
    "### Exercise 4 - Extracting columns\n",
    "\n",
    "Now, pull out the `exposure_date` column for all animals."
   ]
  },
  {
   "cell_type": "code",
   "execution_count": null,
   "metadata": {},
   "outputs": [],
   "source": [
    "# Answer\n",
    "column = exposure_data.loc[:, 'exposure_date']\n",
    "column"
   ]
  },
  {
   "cell_type": "markdown",
   "metadata": {},
   "source": [
    "There's a problem. Let's take a closer look at a single value in the `exposure_date` column. "
   ]
  },
  {
   "cell_type": "code",
   "execution_count": null,
   "metadata": {},
   "outputs": [],
   "source": [
    "exposure_data.loc['Subject 10', 'exposure_date']"
   ]
  },
  {
   "cell_type": "markdown",
   "metadata": {},
   "source": [
    "### Exercise 5 - Parsing date strings in CSV file\n",
    "\n",
    "Note the quotation marks around the value. That means the value is a string. That's not very useful to us. We want the value to be a Python date object. That will allow us to perform date math (such as determine how many days are in between two dates). Let's go back to the `read_csv` function. Is there any way we can have the `read_csv` function parse the date strings into Python date objects for us? Remember how to pull up the documentation for the function.\n",
    "\n",
    "Go ahead and replace the `...` in the code below to properly parse the date strings for us:\n",
    "\n",
    "    exposure_data = pd.read_csv('exposure_data.csv', index_col=0, ...)\n",
    "    exposure_data.loc['Subject 10', 'exposure_date']"
   ]
  },
  {
   "cell_type": "code",
   "execution_count": null,
   "metadata": {},
   "outputs": [],
   "source": [
    "# Answer\n",
    "exposure_data = pd.read_csv('exposure_data.csv', index_col=0, parse_dates=['exposure_date'])\n",
    "exposure_data.loc['Subject 10', 'exposure_date']"
   ]
  },
  {
   "cell_type": "markdown",
   "metadata": {},
   "source": [
    "### Exercise 6 - Reading in ABR threshold data\n",
    "\n",
    "Now the value is a `Timestamp` instead of a string. That lets us do some very nice date-related math (which we will get to in a little bit). Now write the code to read in the `abr_thresholds.csv` file and save it in a variable called `threshold_data`. This file does not have a single column that can be used as an index. There are ways to make combine multiple columns to form a special type of index known as a hierarchial index (i.e., `MultiIndex` in Pandas terminology). We will save this for a future lecture. For now, let's just have Pandas automatically create a numbered index for us. Dates are stord in the `abr_date` column."
   ]
  },
  {
   "cell_type": "code",
   "execution_count": null,
   "metadata": {},
   "outputs": [],
   "source": [
    "# Answer\n",
    "threshold_data = pd.read_csv('abr_thresholds.csv', parse_dates=['abr_date'])\n",
    "threshold_data"
   ]
  },
  {
   "attachments": {
    "image.png": {
     "image/png": "[encoded data removed]"
    }
   },
   "cell_type": "markdown",
   "metadata": {},
   "source": [
    "Now we can merge the ABR data with the exposure data. The goal is to end up with a single dataframe containing both the thresholds and exposure information. \n",
    "\n",
    "Remember that `exposure_data` is indexed by the animal ID because each row is data for a unique animal. We can use this index as a lookup value. For each row in `threshold_data`, we want to copy the values in the `exposure_date` and `exposure_level` from the corresponding row in `exposure_data` where the values for `animal` match. Pandas provides a method, `join`, that allows us to do this.\n",
    "\n",
    "In the image below, the boxes shaded in grey are the row and column labels.\n",
    "\n",
    "![image.png](attachment:image.png)\n",
    "\n",
    "Go ahead and replace the `...` in the code below to join the tables together and store the result as a new variable, `data`:\n",
    "\n",
    "    data = threshold_data.join(...)\n",
    "    data"
   ]
  },
  {
   "cell_type": "code",
   "execution_count": null,
   "metadata": {},
   "outputs": [],
   "source": [
    "data = threshold_data.join(exposure_data, on=['animal'])\n",
    "data"
   ]
  },
  {
   "cell_type": "markdown",
   "metadata": {},
   "source": [
    "Recall that one of the first things we did was load the data using a function called `pd.read_csv`. This function was made available via the pandas module (which we imported as `pd`). Therefore, we can call it using the form:\n",
    "\n",
    "    module_name.function_name(parameters)\n",
    "\n",
    "Programming languages consist of data structures and functions. Data structures store data. Functions perform actions on data. Data structures in Python are known as *objects*. Some functions are stand-alone while others are associated with objects. Functions associated with objects are known as *methods*.\n",
    "\n",
    "Methods are no different than other functions in principle. Objects are designed to help programmers group together related data and functions. We use methods by writing the object's name with a period, followed by the method's name, and any parameters passed to the method in paratheses. Thus, methods are in the form:\n",
    "\n",
    "    object_name.method_name(parameters)\n",
    "\n",
    "You can press tab after the period and a list will pop up with the methods associated with that particular object, e.g.:\n",
    "\n",
    "    threshold_data.<tab>"
   ]
  },
  {
   "cell_type": "markdown",
   "metadata": {},
   "source": [
    "## Calculating ABR threshold shift\n",
    "\n",
    "The next step is to compute when the ABR threshold was measured relative to the exposure. We can do this by subtracting the date of the ABR (stored in the `date` column) from the exposure date (stored in the `exposure_date` column) and saving it as a new column, `days_re_exposure`. \n",
    "\n",
    "### Exercise 7 - Calculating differences between dates\n",
    "\n",
    "Yes, it's as simple as subtracting the two columns. Go ahead and try it. Hint, to create a new column:\n",
    "\n",
    "    dataframe[column_name] = new_column_data"
   ]
  },
  {
   "cell_type": "code",
   "execution_count": null,
   "metadata": {},
   "outputs": [],
   "source": [
    "# Answer\n",
    "data['days_re_exposure'] = data['abr_date'] - data['exposure_date']\n",
    "data"
   ]
  },
  {
   "cell_type": "markdown",
   "metadata": {},
   "source": [
    "Nice. This is one of the advantages of making sure all your dates are represented properly in Python. It makes date math easy.\n",
    "\n",
    "Next, we want to calculate the mean threshold for each exposure level before, one day after and 14 days after noise exposure. Pandas makes this easy with the `groupby` method. The method takes a list of columns to group by. Here, we only have one column which we're grouping by to start with."
   ]
  },
  {
   "cell_type": "code",
   "execution_count": null,
   "metadata": {},
   "outputs": [],
   "source": [
    "grouping = data.groupby(['days_re_exposure'])\n",
    "grouping"
   ]
  },
  {
   "cell_type": "markdown",
   "metadata": {},
   "source": [
    "You now have a `DataFrameGroupBy` object that remembers how you grouped the data. You can now perform a variety of operations on this grouped data using methods offered by this particular object. For exampe, you can take the mean across all columns."
   ]
  },
  {
   "cell_type": "code",
   "execution_count": null,
   "metadata": {},
   "outputs": [],
   "source": [
    "grouping.mean()"
   ]
  },
  {
   "cell_type": "markdown",
   "metadata": {},
   "source": [
    "Note that we are missing a bunch of columns. The original dataframe had `animal`, `ear`, `abr_date` and `exposure_date`. Why are they missing?\n",
    "\n",
    "Typically you just want the mean of a particular column.  You can specify the column you wish to use with the syntax:\n",
    "\n",
    "    variable_name[column_name].mean()"
   ]
  },
  {
   "cell_type": "code",
   "execution_count": null,
   "metadata": {},
   "outputs": [],
   "source": [
    "grouping['threshold'].mean()"
   ]
  },
  {
   "cell_type": "markdown",
   "metadata": {},
   "source": [
    "Is the result above a series or dataframe?\n",
    "\n",
    "### Exercise 8 - Calculating means on grouped data\n",
    "\n",
    "We'd like to modify the groupby operation so we can calcuate the mean threshold for each exposure level and timepoint (-3, 1, and 14 days re. exposure). Go ahead and try it."
   ]
  },
  {
   "cell_type": "code",
   "execution_count": null,
   "metadata": {},
   "outputs": [],
   "source": [
    "# Answer\n",
    "grouping = data.groupby(['exposure_level', 'days_re_exposure'])\n",
    "mean_thresholds = grouping['threshold'].mean()\n",
    "mean_thresholds"
   ]
  },
  {
   "cell_type": "markdown",
   "metadata": {},
   "source": [
    "What format is the data in? Dataframe or series? Note that the index has two levels, `exposure_level` and `days_re_exposure`. This is the first time we've encountered a `MultiIndex`. We'll cover these types of indices in more detail next week.\n",
    "\n",
    "Now that we've calculated the group means, we want to plot the data. Fortunately, Pandas comes with a bunch of built-in plotting methods that makes life easy. Let's go ahead and try them!"
   ]
  },
  {
   "cell_type": "code",
   "execution_count": null,
   "metadata": {},
   "outputs": [],
   "source": [
    "mean_thresholds.plot()"
   ]
  },
  {
   "cell_type": "markdown",
   "metadata": {},
   "source": [
    "That's not really a very informative plot. We probably want a plot that plots the mean threshold for each `days_re_exposure` with a separate line for each `exposure_level`. How can we figure out what we need to do? The reason why we are getting the plot above is because Pandas, by default, uses the index labels as the x-values and creates a separate line for each column. So, somehow we need to create a separate column for each exposure level. Fortunately, that's really easy to do in Pandas using the `unstack` method, which takes a level of a `MultiIndex` and turns it into columns."
   ]
  },
  {
   "cell_type": "code",
   "execution_count": null,
   "metadata": {},
   "outputs": [],
   "source": [
    "mean_thresholds_unstacked = mean_thresholds.unstack('exposure_level')\n",
    "mean_thresholds_unstacked"
   ]
  },
  {
   "cell_type": "code",
   "execution_count": null,
   "metadata": {},
   "outputs": [],
   "source": [
    "ax = mean_thresholds_unstacked.plot()"
   ]
  },
  {
   "cell_type": "markdown",
   "metadata": {},
   "source": [
    "### Exercise 9 - Making a bar plot\n",
    "Looks much better. What if we want to make it a bar plot? What do we need to do? Remember how to look up the documentation for a function?"
   ]
  },
  {
   "cell_type": "code",
   "execution_count": null,
   "metadata": {},
   "outputs": [],
   "source": [
    "# Answer\n",
    "ax = mean_thresholds_unstacked.plot(kind='bar')"
   ]
  },
  {
   "cell_type": "markdown",
   "metadata": {},
   "source": [
    "Now, we'd like to add some error bars indicating the SEM. To do this, we need to first calculate the SEM for each group. Let's go back to the groupby object we made (`grouping`)."
   ]
  },
  {
   "cell_type": "code",
   "execution_count": null,
   "metadata": {},
   "outputs": [],
   "source": [
    "grouping"
   ]
  },
  {
   "cell_type": "markdown",
   "metadata": {},
   "source": [
    "Another feature of IPython is that you can look up what types of methods an object has by putting a dot after the variable and hitting the tab key:\n",
    "    \n",
    "    variable_name.<tab>\n",
    "    \n",
    "Go ahead and try it with `grouping`."
   ]
  },
  {
   "cell_type": "markdown",
   "metadata": {},
   "source": [
    "Now, scroll through the list that pops up. Does anything sound like a good candidate for calculating the SEM? How can you verify that it, indeed, will do what you want?"
   ]
  },
  {
   "cell_type": "markdown",
   "metadata": {},
   "source": [
    "### Exercise 10 - Calculating SEM\n",
    "\n",
    "Great, now calculate the SEM for each `exposure_level` and `days_re_exposure` group. Be sure to reshape the result so that each exposure level is a separate column (i.e., the shape should match that of `mean_thresholds_unstacked`)."
   ]
  },
  {
   "cell_type": "code",
   "execution_count": null,
   "metadata": {},
   "outputs": [],
   "source": [
    "# Answer\n",
    "sem_thresholds = grouping['threshold'].sem()\n",
    "sem_thresholds_unstacked = sem_thresholds.unstack('exposure_level')\n",
    "sem_thresholds_unstacked"
   ]
  },
  {
   "cell_type": "markdown",
   "metadata": {},
   "source": [
    "### Exercise 11 - Adding errorbars\n",
    "\n",
    "Since we were careful to ensure that our `sem_thresholds_unstacked` dataframe has an identical index and set of columns as `mean_thresholds_unstacked`, it becomes much easier to add the errorbars using the built-in plotting functionality of Pandas. Go back to the `plot` method you used. Look at the documentation. Is there any way we can pass in the errorbar information to the plotting method? If so, go ahead and try it."
   ]
  },
  {
   "cell_type": "code",
   "execution_count": null,
   "metadata": {},
   "outputs": [],
   "source": [
    "# Answer\n",
    "ax = mean_thresholds_unstacked.plot(kind='bar', yerr=sem_thresholds_unstacked)"
   ]
  },
  {
   "cell_type": "markdown",
   "metadata": {},
   "source": [
    "### Exercise 12 - Formatting plots\n",
    "\n",
    "Now, let's fix the X and Y axes. The `plot` method returned what's known as an axes object. This object represents the plot you just generated. Check to see if thre are any useful methods on this object that allow you to set the y and x axes label as well as the x ticklabels. Since there are a ton of methods available, skip ahead to the ones that begin with `set`. You can quickly filter the list by entering the first few letters of the method name you're looking for then hitting `<tab>`:\n",
    "\n",
    "    ax.set<tab>\n",
    "    \n",
    "We'd like to set the x-axis label to \"Days re. exposure\" and the y-axis label to \"Threshold (dB SPL)\". The tick labels may also look a bit better if they were simply '-3', '1' and '14'."
   ]
  },
  {
   "cell_type": "code",
   "execution_count": null,
   "metadata": {},
   "outputs": [],
   "source": [
    "# Answer\n",
    "ax = mean_thresholds_unstacked.plot(kind='bar', yerr=sem_thresholds_unstacked)\n",
    "ax.set_xlabel('Days re exposure')\n",
    "ax.set_ylabel('Threshold (dB SPL)')\n",
    "ax.set_xticklabels(['-3', '1', '14'])"
   ]
  }
 ],
 "metadata": {
  "kernelspec": {
   "display_name": "Python 3",
   "language": "python",
   "name": "python3"
  },
  "language_info": {
   "codemirror_mode": {
    "name": "ipython",
    "version": 3
   },
   "file_extension": ".py",
   "mimetype": "text/x-python",
   "name": "python",
   "nbconvert_exporter": "python",
   "pygments_lexer": "ipython3",
   "version": "3.7.5"
  },
  "toc": {
   "colors": {
    "hover_highlight": "#DAA520",
    "running_highlight": "#FF0000",
    "selected_highlight": "#FFD700"
   },
   "moveMenuLeft": true,
   "nav_menu": {
    "height": "12px",
    "width": "252px"
   },
   "navigate_menu": true,
   "number_sections": true,
   "sideBar": true,
   "threshold": 4,
   "toc_cell": false,
   "toc_section_display": "block",
   "toc_window_display": false,
   "widenNotebook": false
  }
 },
 "nbformat": 4,
 "nbformat_minor": 4
}
