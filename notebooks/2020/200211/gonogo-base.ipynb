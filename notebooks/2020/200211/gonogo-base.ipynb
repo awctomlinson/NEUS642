{
 "cells": [
  {
   "cell_type": "markdown",
   "metadata": {},
   "source": [
    "# Overview\n",
    "We will be analyzing data from a psychoacoustical task in which the subjects (gerbils) are asked to listen to a five-second tone that may be amplitude-modulated. After listening to the tone, they must provide a response if they think they heard an amplitude-modulation. The difficulty of the task is varied by changing the degree of amplitude modulation from 0% (no modulation) to 100% (maximum modulation).\n",
    "\n",
    "TODO:\n",
    "* Add wav file illustrating stimulus\n",
    "* Add image schematic for stimulus\n",
    "\n",
    "# Goal\n",
    "When running experiments, it's important to be able to inspect the data you are collecting as it comes in to ensure that there are no problems. Today we are going to write functions that allow us to load and plot data for individual sessions from individual animals. \n",
    "\n",
    "TODO:\n",
    "* update as we add exercises\n",
    "\n",
    "## Learning goals\n",
    "* How to inspect a data file and figure out how to load it into Python\n",
    "* String formatting\n",
    "* Functions\n",
    "\n",
    "# Getting started\n",
    "First, let's get the boring stuff out of the way. \n",
    "\n",
    "## Why import?\n",
    "As an aside (not for discussion during class unless you have questions). If you're a Matlab user, you might think that the need to explicitly specify imports is a major disadvantage of Python. However, there are two advantages of specifying imports. First, you can reuse function names as long as they live in different modules. For example, there are several `log` functions available:\n",
    "\n",
    "    from math import log\n",
    "    from numpy import log\n",
    "   \n",
    "The first one (available in `math`, which is always bundled with the core Python distribution) isn't smart enough to work with Numpy arrays or Pandas dataframes. But, the second one (available in `numpy`, which is a third-party library) is. So, you'd just import the one that you wanted to use. However, if you were using Matlab, there's no good way to tell Matlab which one you want to use. Instead, the functions would likely be named `log` and `numpy_log` to avoid *name collisions*.\n",
    "\n",
    "The second reason why specifying imports is often a good thing is because Matlab must load **every** single installed library and toolbox before it is ready to run your code. This can be quite slow if you have a lot of third-party libraries and/or toolboxes installed. In contrast, Python only loads the modules you specify using `import`."
   ]
  },
  {
   "cell_type": "code",
   "execution_count": null,
   "metadata": {},
   "outputs": [],
   "source": [
    "# We have some missing imports. We can't be making today's exercise too easy.\n",
    "from pathlib import Path\n",
    "import matplotlib.pylab as plt"
   ]
  },
  {
   "cell_type": "markdown",
   "metadata": {},
   "source": [
    "# Loading the data\n",
    "\n",
    "## Exercise - inspecting our data\n",
    "The data is split into multiple files (one file per session). Your first job is to figure out how to read in one file and plot it. You already have learned the function that can be used to read in the file, but you may (hint) need to specify values for certain function parameters that you have not used in the past. As part of the challenge, you will need to figure out what library to import.\n",
    "\n",
    "Ready for the challenge? Your assignment is to inspect the file [data/S0_20191122_20dBSPL_11360Hz.dat](data/S0_20191122_20dBSPL_11360Hz.dat) to determine how to load it. Go ahead and open it in your browser (if you're lucky, clicking on the filename above will work).\n",
    "\n",
    "***Discussion time***: Does everyone have it open? Great, now take a few minutes to look through it and discuss as a class. Tell us what you notice about it. What is the format? What library do you think will work best for reading this format?\n",
    "\n",
    "Good, now that you think you know what to do, go ahead and make it so. Load the file into `data`. You'll know you did it correctly when `data.shape` is `(178, 2)`."
   ]
  },
  {
   "cell_type": "code",
   "execution_count": null,
   "metadata": {},
   "outputs": [],
   "source": [
    "filename = 'data/S0_20191122_20dBSPL_11360Hz.dat'\n",
    "\n",
    "# Answer\n",
    "import pandas as pd\n",
    "data = pd.read_csv(filename, comment=';')\n",
    "data.shape"
   ]
  },
  {
   "cell_type": "markdown",
   "metadata": {},
   "source": [
    "Now, look at the first few rows of data. How do you do that?"
   ]
  },
  {
   "cell_type": "code",
   "execution_count": null,
   "metadata": {},
   "outputs": [],
   "source": [
    "# Answer\n",
    "data.head()"
   ]
  },
  {
   "cell_type": "markdown",
   "metadata": {},
   "source": [
    "Now, we want to compute and plot the psychometric function. The X-axis will be modulation **depth** and the y-axis will be the percent of trials with a **response**. You've done this before. Go ahead and do it! You have several steps:\n",
    "* For each modulation depth, compute the percent of trials with a response.\n",
    "* Plot the result. Make sure that it is a scatterplot connected by lines. How do you specify that you want both markers and lines?\n",
    "* Label the x and y axes appropriately.\n",
    "\n",
    "Good to know:\n",
    "We're going to start using a different approach to plotting. In the past, you might have used the `plot` method available on DataFrames, or you might have called the `plt.plot` function. However, we are going to use the recommended approach in Matplotlib for the solution. Instead of having Matplotlib implicitly generate the axes (i.e., the canvas on which the plot is shown):\n",
    "\n",
    "    # Don't do this!!!\n",
    "    plt.plot(...)\n",
    "    plt.xlabel(...)\n",
    "    plt.ylabel(...)\n",
    "    \n",
    "You will explicitly create it yourself and interact directly with the axes. *Note that the way you **set** the axes labels is a bit different* using this approach:\n",
    "\n",
    "    # Do this!!!\n",
    "    ax = plt.subplot(111)\n",
    "    ax.plot(...)\n",
    "    ax.set_xlabel(...)\n",
    "    ax.set_ylabel(...)\n",
    "\n",
    "This is a superior approach to `plt.plot` because it allows you to juggle multiple axes in the same figure. So, get in the habit of using this approach. If you're a bit confused about terminology:\n",
    "\n",
    "* **figure**: A figure that can contain multiple axes (i.e. panels)\n",
    "* **axes**: Analogous to a panel in a figure, can contain multiple plots (i.e., lines)\n",
    "\n",
    "Finished early? Great, please put up your **green flag**, then go on to the bonus steps:\n",
    "* Add a grid to the plot\n",
    "* Make the top and right border invisible. [Hint: Let me Google this for you](https://lmgtfy.com/?q=how+do+i+hide+the+top+and+right+border+in+matplotlib)."
   ]
  },
  {
   "cell_type": "code",
   "execution_count": null,
   "metadata": {},
   "outputs": [],
   "source": [
    "ax = plt.subplot(111)\n",
    "\n",
    "# Answer\n",
    "mean_response = data.groupby('depth')['response'].mean() * 100\n",
    "ax.plot(mean_response, 'o-')\n",
    "ax.set_xlabel('Modulation depth (%)')\n",
    "ax.set_ylabel('Percent response (%)')\n",
    "ax.grid()\n",
    "\n",
    "ax.spines['top'].set_visible(False)\n",
    "ax.spines['right'].set_visible(False)"
   ]
  },
  {
   "cell_type": "markdown",
   "metadata": {},
   "source": [
    "Ok, this is great, but there's one concern. In these experiments, we don't have the same number of trials at each modulation depth. So, this information would be useful to include on the plot.\n",
    "\n",
    "***Discussion time***: How might we calculate the number of trials per modulation depth?\n",
    "\n",
    "Ok, go ahead and make it so that `n` contains the answer."
   ]
  },
  {
   "cell_type": "code",
   "execution_count": null,
   "metadata": {},
   "outputs": [],
   "source": [
    "# Answer\n",
    "n = data.groupby('depth').size()\n",
    "n"
   ]
  },
  {
   "cell_type": "markdown",
   "metadata": {},
   "source": [
    "***Discussion point***: What's the datatype of `n`?\n",
    "\n",
    "Now, make the `scatter` plot. Hint. There's some great examples on the Matplotlib website. Need me to Google it for you? Didn't think so. But, remember you might find an example that uses `plt.scatter` instead of the NEUS642-sanctioned approach of `ax.scatter`. No cheating by using `plt.scatter`.\n",
    "\n",
    "***Discussion point***: We've worked with `scatter` before. Is it a smart function? Does it know how to deal with things like Pandas Series? If not, what do we have to do?\n",
    "\n",
    "Finished early? Great, please put up your **green flag**, then go on to the bonus steps:\n",
    "* Figure out how to set the `edgecolors` of the scatter points to `coral`. Try playing with `linewidths` as well to change the appearance of the plot to taste. Start with `linewidths=2` and then going from there.\n",
    "* Set the axes limits so that both the x and y axes go from -10 to 110% (if we set it to the range 0 to 100%, it clips some of the plot)."
   ]
  },
  {
   "cell_type": "code",
   "execution_count": null,
   "metadata": {},
   "outputs": [],
   "source": [
    "x_values = mean_response.index.values\n",
    "y_values = mean_response.values\n",
    "\n",
    "# We're multiplying by 10 because this helps emphasize differences between the points.\n",
    "size = n.values*10\n",
    "\n",
    "# Answer\n",
    "ax = plt.subplot(111)\n",
    "ax.plot(x_values, y_values, '-')\n",
    "ax.scatter(x_values, y_values, size, edgecolors='coral', linewidths=3, norm=True)\n",
    "ax.set_xlabel('Modulation depth (%)')\n",
    "ax.set_ylabel('Percent response (%)')\n",
    "ax.axis(xmin=-10, xmax=110, ymin=-10, ymax=110)"
   ]
  },
  {
   "cell_type": "markdown",
   "metadata": {},
   "source": [
    "Now, let's take a closer look at the filename. It has four components that tell you something about the experiment:\n",
    "* Subject number\n",
    "* Date of experiment in YYYYMMDD format\n",
    "* Stimulus level in dB SPL\n",
    "* Stimulus frequency in Hz\n",
    "\n",
    "The format of the filename is:\n",
    "\n",
    "    data/S[subject]_[date]_[level]dBSPL_[frequency]Hz\n",
    "    \n",
    "That's a very elegantly formatted filename. A bit too elegant to have been created by a scientist. We're going to want to be able to inspect how our subjects are doing on a per-session basis. This is important whenever doing animal psychoacoustics work. You want to track how your animals do throughout the multiple weeks of training and testing to make sure they're not getting tired of the task.\n",
    "\n",
    "First, let's segue into our [tutorial from a few weeks ago on string formatting](../200128_supplement/). Go ahead and open it up.\n",
    "\n",
    "Ok, now that you're experts in string formatting, write the code that takes the following variables and computes the formatted `filename`. Once you've done it properly, you should get `data/S1_20191122_60dBSPL_2840Hz.dat`."
   ]
  },
  {
   "cell_type": "code",
   "execution_count": null,
   "metadata": {},
   "outputs": [],
   "source": [
    "subject = 1\n",
    "date = '20191122'\n",
    "level = 60\n",
    "frequency = 2840\n",
    "\n",
    "# Answer\n",
    "\n",
    "## Option 1: I'm a crotchety Matlab programmer \n",
    "filename = 'data/S' + str(subject) + '_' + date + '_' + str(level) + 'dBSPL_' + str(frequency) + 'Hz.dat'\n",
    "\n",
    "## Option 2: There's something cool about retro code\n",
    "filename = 'data/S{}_{}_{}dBSPL_{}Hz.dat'.format(subject, date, level, frequency)\n",
    "\n",
    "## Option 3: I'm a sleek, modern coder\n",
    "filename = f'data/S{subject}_{date}_{level}dBSPL_{frequency}Hz.dat'\n",
    "filename"
   ]
  },
  {
   "cell_type": "markdown",
   "metadata": {},
   "source": [
    "Now, we are going to write a function with four parameters that computes the filename, loads the data from the file and returns it. What are the steps to creating a function?\n",
    "\n",
    "* Start with `def` followed by the name of your function. \n",
    "* Then, in parenthesis, specify the list of parameters it accepts. Parameters must be separated by a comma.\n",
    "* Then, starting with the next line, indent your code by a tab or four spaces.\n",
    "* Most of the code inside the function can be cut-and-pasted from previous answers.\n",
    "* Don't forget to `return` the result.\n",
    "* Once you've written your function, call it with `load_data(1, '20191122', 60, 2840)`.\n",
    "\n",
    "Here's a template you can cut-and-paste:\n",
    "\n",
    "    def load_data(subject, date, level, frequency):\n",
    "        # All code indented is part of the function\n",
    "        ...\n",
    "        \n",
    "    # This code is not part of the function because it's not indented\n",
    "    data = load_data(3, '20191127', 20, 2840)\n",
    "    data.shape\n",
    "    \n",
    "Is the shape `(197, 2)`? Congratulations. You've got it.\n",
    "\n",
    "Finished early? Great, please put up your **green flag**, then go on to the bonus steps:\n",
    "* Since we want to manually inspect our data, we will be doing a lot of typing. However, we are primarily interested in performance for a level of 20 dB SPL and frequency of 2840 Hz. So, let's make those the *default* values for those parameters. That will allow us to type `load_data(3, '20191127')` instead of `load_data(3, '20191127', 20, 2840)`. Go ahead and do it."
   ]
  },
  {
   "cell_type": "code",
   "execution_count": null,
   "metadata": {},
   "outputs": [],
   "source": [
    "# Answer\n",
    "def load_data(subject, date, level=20, frequency=2840):\n",
    "    filename = f'data/S{subject}_{date}_{level}dBSPL_{frequency}Hz.dat'\n",
    "    data = pd.read_csv(filename, comment=';')\n",
    "    return data\n",
    "\n",
    "data = load_data(3, '20191127', 20, 2840)\n",
    "print(data.shape)\n",
    "\n",
    "data = load_data(3, '20191127')\n",
    "print(data.shape)"
   ]
  },
  {
   "cell_type": "markdown",
   "metadata": {},
   "source": [
    "Now, write a function, `plot_data` that takes two parameters, `axes` and `data`, and plots the data on the provided axes. Use the plotting code we created for the `scatter` plot."
   ]
  }
 ],
 "metadata": {
  "kernelspec": {
   "display_name": "Python 3",
   "language": "python",
   "name": "python3"
  },
  "language_info": {
   "codemirror_mode": {
    "name": "ipython",
    "version": 3
   },
   "file_extension": ".py",
   "mimetype": "text/x-python",
   "name": "python",
   "nbconvert_exporter": "python",
   "pygments_lexer": "ipython3",
   "version": "3.7.5"
  }
 },
 "nbformat": 4,
 "nbformat_minor": 4
}
