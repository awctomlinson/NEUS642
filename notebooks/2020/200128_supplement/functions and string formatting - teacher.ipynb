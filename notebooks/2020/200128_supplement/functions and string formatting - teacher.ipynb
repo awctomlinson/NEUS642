{
 "cells": [
  {
   "cell_type": "markdown",
   "metadata": {},
   "source": [
    "<a href=\"#Overview\"></a>\n",
    "# Overview\n",
    "* <a href=\"#5a943110-97fd-4852-865e-0509dd0c93bd\">Functions</a>\n",
    "  * <a href=\"#0aef65b6-a325-413e-b546-77ae6f2efcc5\">Writing functions</a>\n",
    "    * <a href=\"#a482b993-01bc-4717-91d2-b9b93b92d366\">Exercise 1</a>\n",
    "    * <a href=\"#fe39ba04-5d98-4f56-9d37-f66e238c8794\">Exercise 2</a>\n",
    "  * <a href=\"#a8a14cc9-aee5-488e-b278-654293d19f58\">Good to know</a>\n",
    "    * <a href=\"#1623565f-f75f-4d08-ad9e-e887d8f0499f\">Common gotchas</a>\n",
    "    * <a href=\"#c3b0e5c9-ad10-45cd-a9c9-8129da9cc2cc\">Positional vs. keyword arguments</a>\n",
    "    * <a href=\"#0df655c7-aaa2-4cce-a7e8-1b1173a1bba9\">Returning more than one value</a>\n",
    "* <a href=\"#de770f15-e85e-4f6c-b9b4-010d03b18d32\">String formatting</a>\n",
    "  * <a href=\"#05e76f91-7745-4e3e-9416-628e1e1c489b\">`str.format` using positional arguments</a>\n",
    "    * <a href=\"#f9791ebf-58d8-411d-aa67-0718372610cb\">Exercise 3</a>\n",
    "    * <a href=\"#3fa6640e-7774-4bfa-8d0f-6529c84252fb\">Exercise 4</a>\n",
    "  * <a href=\"#74bc759d-f3b7-4b26-9186-03123ca6a76e\">`str.format` using keyword arguments</a>\n",
    "    * <a href=\"#d64ebbda-9d26-498f-84f3-871f7031c41e\">Exercise 5</a>\n",
    "    * <a href=\"#463e99dd-b866-4c46-b184-57a931cd315c\">Exercise 6</a>\n",
    "    * <a href=\"#8ada31b2-aa26-4749-b239-751685c03d2a\">Exercise 7</a>\n",
    "  * <a href=\"#6d5171d1-b4d4-441f-a725-c9a39afc7d28\">Format specifiers</a>\n",
    "    * <a href=\"#5454e5e3-9118-4617-b0c5-2aa865c37283\">Exercise 8</a>\n",
    "  * <a href=\"#786664bc-d63f-47d1-bde7-2bac9fdaad02\">f-strings</a>\n",
    "    * <a href=\"#54ebabc4-6f8a-4390-9a8e-7db58b04945b\">Exercise 9</a>"
   ]
  },
  {
   "cell_type": "markdown",
   "metadata": {},
   "source": [
    "Before we start today's exercise, I want to take a minute to review string formatting and functions based on feedback I received from several of you.\n",
    "\n",
    "<a id=\"5a943110-97fd-4852-865e-0509dd0c93bd\"></a>\n",
    "# Functions\n",
    "<a href=\"#Overview\">Return to overview</a>\n",
    "\n",
    "<a id=\"0aef65b6-a325-413e-b546-77ae6f2efcc5\"></a>\n",
    "## Writing functions\n",
    "<a href=\"#Overview\">Return to overview</a>\n",
    "\n",
    "What is a function? It is a block of organized, reusable code. You already work with functions on a regular basis:\n",
    "* `print` takes the string and prints it out below the cell\n",
    "* `int` takes a floating-point number or string and converts it to an integer\n",
    "\n",
    "Let's say you want to write some code that calculates the number light bulbs, `n`, needed to light up a room given their light output, `l`, and the size of the room, `s`. Let's pretend this relationship is defined as:\n",
    "\n",
    "$$ n = \\frac{s}{l^2} $$\n",
    "\n",
    "<a id=\"a482b993-01bc-4717-91d2-b9b93b92d366\"></a>\n",
    "### Exercise 1\n",
    "<a href=\"#Overview\">Return to overview</a>\n",
    "\n",
    "Before we write our function, let's write the code to calculate the number of light bulbs needed given `l` and `s`.\n",
    "\n",
    "**Hint** To raise a number to a power power, use `**`. For example, to compute the square of `l`, you'd type `l**2`."
   ]
  },
  {
   "cell_type": "code",
   "execution_count": null,
   "metadata": {},
   "outputs": [],
   "source": [
    "s = 100\n",
    "l = 2\n",
    "\n",
    "%load \"answers/answer_001.txt\""
   ]
  },
  {
   "cell_type": "markdown",
   "metadata": {},
   "source": [
    "Now, we want to wrap this up in a function so that we can easily re-use the equation without having to type it out. Sure, this is a very simple equation, but imagine you had something more complex:\n",
    "\n",
    "$$n = \\frac{\\sum{s^{e(\\frac{l^2}{\\pi})}}}{\\prod{a^{-n}}} \\times (1-yi) + 2n!$$\n",
    "\n",
    "It'd be a pain to type out the code each time. So, now that we've figured out the code, let's wrap it up in a function. All functions begin with a `def` (short for **def**ine):\n",
    "\n",
    "    def function_name(parameter1, parameter2, ... parameterN):\n",
    "        ...\n",
    "        return result\n",
    "        \n",
    "<a id=\"fe39ba04-5d98-4f56-9d37-f66e238c8794\"></a>\n",
    "### Exercise 2\n",
    "<a href=\"#Overview\">Return to overview</a>\n",
    "\n",
    "Go ahead and write your function named, `lightbulbs_needed`. It should take two parameters, `size` (room size) and `lumens` (light output) and return the number of lights needed."
   ]
  },
  {
   "cell_type": "code",
   "execution_count": null,
   "metadata": {},
   "outputs": [],
   "source": [
    "%load \"answers/answer_002.txt\""
   ]
  },
  {
   "cell_type": "code",
   "execution_count": null,
   "metadata": {},
   "outputs": [],
   "source": [
    "# Run this code to test the output of your function. It should print 25, 50 and 200.\n",
    "n = lightbulbs_needed(100, 2)\n",
    "print(n)\n",
    "n = lightbulbs_needed(200, 2)\n",
    "print(n)\n",
    "n = lightbulbs_needed(200, 1)\n",
    "print(n)"
   ]
  },
  {
   "cell_type": "markdown",
   "metadata": {},
   "source": [
    "<a id=\"a8a14cc9-aee5-488e-b278-654293d19f58\"></a>\n",
    "## Good to know\n",
    "<a href=\"#Overview\">Return to overview</a>\n",
    "<a id=\"1623565f-f75f-4d08-ad9e-e887d8f0499f\"></a>\n",
    "### Common gotchas\n",
    "<a href=\"#Overview\">Return to overview</a>\n",
    "\n",
    "You've tested your algorithm by writing it without the use of a function. Now, you've cut and pasted it into your function definition:\n",
    "    \n",
    "    a = 4\n",
    "    b = 5\n",
    "\n",
    "    def foo(apples, bananas):\n",
    "        return a * b\n",
    "        \n",
    "It works great, right? But, you keep getting the same answer each time, no matter what you pass into the function:\n",
    "\n",
    "    foo(4, 5)\n",
    "    foo(3, 6)\n",
    "    foo(8, 7)\n",
    "    \n",
    "Why is that?\n",
    "\n",
    "<a id=\"c3b0e5c9-ad10-45cd-a9c9-8129da9cc2cc\"></a>\n",
    "### Positional vs. keyword arguments\n",
    "<a href=\"#Overview\">Return to overview</a>\n",
    "\n",
    "Functions can be called using positional or keyword arguments. What's the difference? Positional arguments are mapped to parameter names in the order they appear when calling the function (parameters are the variable names in the declaration of the function, arguments are the actual value of the variable that gets passed to the function).\n",
    "\n",
    "    lightbulbs_needed(100, 2)\n",
    "    \n",
    "Since the function is defined as `lightbulbs_needed(size, lumens)`, `100` is mapped to `size` and `2` to `lumens`. Alternatively, you can use keyword arguments:\n",
    "\n",
    "    lightbulbs_needed(size=100, lumens=2)\n",
    "    \n",
    "Here, the mapping is clear. It also allows you to pass the arguments in any order you like:\n",
    "\n",
    "    lightbulbs_needed(lumens=2, size=100)\n",
    "    \n",
    "You can also mix positional and keyword arguments. For a function that takes only two arguments, it doesn't really make sense, but if you have a more complex function that takes more arguments then it might. Let's create an example (for now, don't worry about how I'm formatting the string, we will get to that later)."
   ]
  },
  {
   "cell_type": "code",
   "execution_count": null,
   "metadata": {},
   "outputs": [],
   "source": [
    "def many_arguments(a, b, c, d, e, f='default'):\n",
    "    print(f'a={a}, b={b}, c={c}, d={d}, e={e}, f={f}')\n",
    "          \n",
    "many_arguments(1, 2, 3, 4, 5)\n",
    "many_arguments(1, 2, 3, 4, 5, 6)\n",
    "many_arguments(1, 2, 3, 4, e=5)\n",
    "many_arguments(1, 2, 3, e=4, d=5)\n",
    "many_arguments(1, 2, 3, 4, 5, 'new value')\n",
    "many_arguments(1, 2, 3, f='new value', e=4, d=5)"
   ]
  },
  {
   "cell_type": "markdown",
   "metadata": {},
   "source": [
    "These do not work. Why?\n",
    "\n",
    "    many_arguments(1, 2, 3, 4)\n",
    "    many_arguments(1, 2, 3, 4, 5, 6, 7)\n",
    "    many_arguments(d=1, e=2, 3, 4, 5)\n",
    "    \n",
    "<a id=\"0df655c7-aaa2-4cce-a7e8-1b1173a1bba9\"></a>\n",
    "### Returning more than one value\n",
    "<a href=\"#Overview\">Return to overview</a>\n",
    "\n",
    "We can return multiple values from a function. When the values are separated by a comma they are returned as a tuple. Note the parentheses are optional. You can save the output of the function to a single variable (which will be a tuple or list), or *unpack* it into multiple variables. We discussed this in a previous exercise. To review:"
   ]
  },
  {
   "cell_type": "code",
   "execution_count": null,
   "metadata": {},
   "outputs": [],
   "source": [
    "def multiple_results():\n",
    "    a = 4\n",
    "    b = 5\n",
    "    return a, b\n",
    "\n",
    "# save to single variable\n",
    "result = multiple_results()\n",
    "print(type(result))\n",
    "print(result)\n",
    "\n",
    "# unpack to two variables\n",
    "r1, r2 = multiple_results()\n",
    "print(f'r1={r1}, r2={r2}')"
   ]
  },
  {
   "cell_type": "code",
   "execution_count": null,
   "metadata": {},
   "outputs": [],
   "source": [
    "def multiple_results():\n",
    "    a = 4\n",
    "    b = 5\n",
    "    return (a, b)\n",
    "\n",
    "result = multiple_results()\n",
    "print(type(result))\n",
    "print(result)\n",
    "\n",
    "# unpack to two variables\n",
    "r1, r2 = multiple_results()\n",
    "print(f'r1={r1}, r2={r2}')"
   ]
  },
  {
   "cell_type": "markdown",
   "metadata": {},
   "source": [
    "You can also return a list of values as well."
   ]
  },
  {
   "cell_type": "code",
   "execution_count": null,
   "metadata": {},
   "outputs": [],
   "source": [
    "def multiple_results():\n",
    "    a = 4\n",
    "    b = 5\n",
    "    return [a, b]\n",
    "\n",
    "result = multiple_results()\n",
    "print(type(result))\n",
    "print(result)\n",
    "\n",
    "# unpack to two variables\n",
    "r1, r2 = multiple_results()\n",
    "print(f'r1={r1}, r2={r2}')"
   ]
  },
  {
   "cell_type": "markdown",
   "metadata": {},
   "source": [
    "<a id=\"de770f15-e85e-4f6c-b9b4-010d03b18d32\"></a>\n",
    "# String formatting\n",
    "<a href=\"#Overview\">Return to overview</a>\n",
    "\n",
    "There are [many ways to format strings in Python](https://realpython.com/python-string-formatting/). The simplest approach (not covered in the link) is to build a string, piece-by-piece from your components."
   ]
  },
  {
   "cell_type": "code",
   "execution_count": null,
   "metadata": {},
   "outputs": [],
   "source": [
    "value = 3.4\n",
    "sentence = 'The number is ' + str(3.4)\n",
    "print(sentence)"
   ]
  },
  {
   "cell_type": "markdown",
   "metadata": {},
   "source": [
    "That's great, but very primitive and can get a bit confusing to read if you need to incorporate many variables. Quick! What do you think the sentence will say before we actually run the cell?"
   ]
  },
  {
   "cell_type": "code",
   "execution_count": null,
   "metadata": {},
   "outputs": [],
   "source": [
    "item = 'salt'\n",
    "unit = 'grams'\n",
    "location = 'top shelf'\n",
    "quantity = 3.4\n",
    "sentence = str(3.4) + ' ' + unit + ' of ' + item + ' on ' + location\n",
    "print(sentence)"
   ]
  },
  {
   "cell_type": "markdown",
   "metadata": {},
   "source": [
    "It works and you can guess what it says just by reading the code, but you need to remember to call `str` on any variable whose value isn't already a string. In the link above there are four alternate approaches. We are not going to discuss the first option (\"old style\") because, well, it's \"old style\". It's been superseded by newer approaches and is no longer recommended for new code. So, let's move to the next style which is known as \"new style\" string formatting. \n",
    "\n",
    "<a id=\"05e76f91-7745-4e3e-9416-628e1e1c489b\"></a>\n",
    "## `str.format` using positional arguments\n",
    "<a href=\"#Overview\">Return to overview</a>\n",
    "\n",
    "Remember that *everything* in Python is an object. All string objects come with a `format` method that takes arguments and returns a formatted version of the string. The `format` method can take *positional arguments* and return a formatted string.\n",
    "\n",
    "    template = '{} {} {} {}'\n",
    "    template.format(var1, var2, var3, var4)\n",
    "   \n",
    "<a id=\"f9791ebf-58d8-411d-aa67-0718372610cb\"></a>\n",
    "### Exercise 3\n",
    "<a href=\"#Overview\">Return to overview</a>\n",
    "\n",
    "Format the sentence and print it out. The curly brackets, `{}` are placeholders where variable values will be substituted. The `format` method is smart enough to automatically convert variables that are not strings to their string representation (i.e., you don't need to manually call `str` yourself)."
   ]
  },
  {
   "cell_type": "code",
   "execution_count": null,
   "metadata": {},
   "outputs": [],
   "source": [
    "template = '{} {} of {} on {}'\n",
    "\n",
    "%load \"answers/answer_003.txt\""
   ]
  },
  {
   "cell_type": "markdown",
   "metadata": {},
   "source": [
    "What if I want to rearrange the items in the template? You can specify which variable to use in the string template by putting the number inside the curly brackets. For example `{3}` means to substitute the value of the fourth parameter provided to `format` (remember that Python indexing is zero-based). Yes, you can even repeat parameters in the string:\n",
    "\n",
    "    template = '{3} {0} {2} {1} {0}'\n",
    "    template.format(var1, var2, var3, var4)\n",
    "    \n",
    "<a id=\"3fa6640e-7774-4bfa-8d0f-6529c84252fb\"></a>\n",
    "### Exercise 4\n",
    "<a href=\"#Overview\">Return to overview</a>\n",
    "\n",
    "Go ahead and try it. Note I've deliberately mixed up the ordering of the parameters to `format` so they won't be the same order as the previous exercise."
   ]
  },
  {
   "cell_type": "code",
   "execution_count": null,
   "metadata": {},
   "outputs": [],
   "source": [
    "template = '{3} {2} of {0} on {1}'\n",
    "\n",
    "%load \"answers/answer_004.txt\""
   ]
  },
  {
   "cell_type": "markdown",
   "metadata": {},
   "source": [
    "That was kind of confusing, wasn't it? I rarely use the `{number}` technique these days. Normally I wouldn't even introduce this technique, but you might see it in some older code which was written in the early days of the `format` method. \n",
    "\n",
    "<a id=\"74bc759d-f3b7-4b26-9186-03123ca6a76e\"></a>\n",
    "## `str.format` using keyword arguments\n",
    "<a href=\"#Overview\">Return to overview</a>\n",
    "\n",
    "Fortunately, there's an even easier approach. The `format` method can take *keyword arguments* and we can refer to the variable substitutions by name:\n",
    "\n",
    "    template = '{d} {a} {c} {b} {a}'\n",
    "    template.format(a=var1, b=var2, c=var3, d=var4)\n",
    "    \n",
    "<a id=\"d64ebbda-9d26-498f-84f3-871f7031c41e\"></a>\n",
    "### Exercise 5\n",
    "<a href=\"#Overview\">Return to overview</a>\n",
    "\n",
    "Go ahead and try it."
   ]
  },
  {
   "cell_type": "code",
   "execution_count": null,
   "metadata": {},
   "outputs": [],
   "source": [
    "template = '{quantity} {unit} of {item} on {location}'\n",
    "\n",
    "%load \"answers/answer_005.txt\""
   ]
  },
  {
   "cell_type": "markdown",
   "metadata": {},
   "source": [
    "Wasn't that much easier? \n",
    "\n",
    "<a id=\"463e99dd-b866-4c46-b184-57a931cd315c\"></a>\n",
    "### Exercise 6\n",
    "<a href=\"#Overview\">Return to overview</a>\n",
    "Let me toss a little twist in. Do the same, but note that the names for two of the variable subsitutions have changed."
   ]
  },
  {
   "cell_type": "code",
   "execution_count": null,
   "metadata": {},
   "outputs": [],
   "source": [
    "template = '{amount} {unit} of {item} on {where}'\n",
    "\n",
    "%load \"answers/answer_006.txt\""
   ]
  },
  {
   "cell_type": "markdown",
   "metadata": {},
   "source": [
    "The point of this was to remind you that your variable name does not need to match the name of the parameter passed to `format`. But, the name of the parameter must match the name referred to between the curly brackets:\n",
    "\n",
    "    variable = 4\n",
    "    template = '{parameter}'\n",
    "    template.format(parameter=variable)\n",
    "    \n",
    "<a id=\"8ada31b2-aa26-4749-b239-751685c03d2a\"></a>\n",
    "### Exercise 7\n",
    "<a href=\"#Overview\">Return to overview</a>\n",
    "\n",
    "Now, one additional tweak. We want to print out the amount using the prefix, `milli`. For this exercise, let's assume that `unit` will *always* be a SI unit. This means that it will be *metric*, which means that the standard prefixes such as `milli` and `micro` can always be prepended to the name of the unit (e.g., we won't need to worry about `milli-pounds` or `micro-miles`).\n",
    "\n",
    "Note that I've updated the template in the example below to include the new prefix, `milli` so it automatically prints that before the unit. What do we need to change to the code to ensure quantity is converted from *grams* to *milligrams*? Be careful not to overwrite the `quantity` variable while testing/debugging otherwise you might end up with some very weird number."
   ]
  },
  {
   "cell_type": "code",
   "execution_count": null,
   "metadata": {},
   "outputs": [],
   "source": [
    "template = '{amount} milli{unit} of {item} on {where}'\n",
    "\n",
    "%load \"answers/answer_007.txt\""
   ]
  },
  {
   "cell_type": "markdown",
   "metadata": {},
   "source": [
    "<a id=\"6d5171d1-b4d4-441f-a725-c9a39afc7d28\"></a>\n",
    "## Format specifiers\n",
    "<a href=\"#Overview\">Return to overview</a>\n",
    "<a id=\"5454e5e3-9118-4617-b0c5-2aa865c37283\"></a>\n",
    "### Exercise 8\n",
    "<a href=\"#Overview\">Return to overview</a>\n",
    "\n",
    "One more thing we might want to do. We don't really care about fractions of a milligram, so let's get rid of the decimal and print out just `3400` instead of `3400.0`. How might we do this? There are two options.\n",
    "\n",
    "* The `format` method converts the variable to a string based on it's type. If the variable is an integer, it will not have the decimal after it. So, we could simply call `int` after converting the quantity to milligrams.\n",
    "\n",
    "* A format specification, can be included as part of the syntax. Up until now, you've only seen `{parameter}`. If we add the format specification after the name of the parameter using the syntax `{parameter:format specification}`, we have finer-grained control.\n",
    "\n",
    "The number of [permutations for a format specification are vast](https://docs.python.org/3/library/string.html). However, in scientific Python programming one of the most common uses will be to control the number of decimal places, so your syntax will look like:\n",
    "\n",
    "    `{parameter:.Nf}`\n",
    " \n",
    "Here, `N` is the precision (i.e., number of decimal places) and `f` indicates that the number should be formatted as a decimal (other options include `e` for exponential).\n",
    "\n",
    "Take the code below and modify the `template` so that zero decimal places are printed:\n",
    "\n",
    "    template = '{amount} milli{unit} of {item} on {where}'\n",
    "    converted_quantity = quantity * 1000\n",
    "    sentence = template.format(item=item, where=location, unit=unit, amount=converted_quantity)\n",
    "    print(sentence)"
   ]
  },
  {
   "cell_type": "code",
   "execution_count": null,
   "metadata": {},
   "outputs": [],
   "source": [
    "%load \"answers/answer_008.txt\""
   ]
  },
  {
   "cell_type": "markdown",
   "metadata": {},
   "source": [
    "To give you an idea of the many ways in which format specifiers can make your life easier (or more complicated), try runnnig the following cell which uses the format specifier `*^20_.4E` (`E` means to use exponential notation)."
   ]
  },
  {
   "cell_type": "code",
   "execution_count": null,
   "metadata": {},
   "outputs": [],
   "source": [
    "template = '{amount:*^20_.4E} milli{unit} of {item} on {where}'\n",
    "converted_quantity = quantity * 1000\n",
    "sentence = template.format(item=item, where=location, unit=unit, amount=converted_quantity)\n",
    "print(sentence)"
   ]
  },
  {
   "cell_type": "markdown",
   "metadata": {},
   "source": [
    "I'm not going to discuss how the format specifier results in this particular representation of the number. Just be aware that it's an option before you spend a lot of time writing code to format your numbers a particular way.\n",
    "\n",
    "<a id=\"786664bc-d63f-47d1-bde7-2bac9fdaad02\"></a>\n",
    "## f-strings\n",
    "<a href=\"#Overview\">Return to overview</a>\n",
    "\n",
    "Ok, moving on to the next approach, f-strings. This method first became available in Python 3.6 and allows you to embed Python expressions inside strings. If you know me, you know this is my preferred approach since it's a very powerful syntax. Briefly, the syntax is:\n",
    "\n",
    "    f'{expression}'\n",
    "    \n",
    "That's it! A Python expression can be as simple as a variable name, e.g.:\n",
    "\n",
    "    name = 'Bob'\n",
    "    sentence = f'Hello, {name}'\n",
    "    print(sentence)\n",
    "    \n",
    "You can still use format specifiers, e.g.:\n",
    "\n",
    "    f'{expression:format specifier}\n",
    "    \n",
    "As well as more complex expressions. For exmaple, try running the following code which divides by 1000 and then formats the result to four decimal places. Note that we don't have to call `format` at all!"
   ]
  },
  {
   "cell_type": "code",
   "execution_count": null,
   "metadata": {},
   "outputs": [],
   "source": [
    "meters = 4\n",
    "sentence = f'{meters/1000:.4f} kilometers'\n",
    "print(sentence)"
   ]
  },
  {
   "cell_type": "markdown",
   "metadata": {},
   "source": [
    "<a id=\"54ebabc4-6f8a-4390-9a8e-7db58b04945b\"></a>\n",
    "### Exercise 9\n",
    "<a href=\"#Overview\">Return to overview</a>\n",
    "\n",
    "Go ahead and convert the following code to use f-strings instead. Be sure to take advantage of the ability to specify expressions rather than just variable names:\n",
    "\n",
    "    template = '{amount:.0f} milli{unit} of {item} on {where}'\n",
    "    converted_quantity = quantity * 1000\n",
    "    sentence = template.format(item=item, where=location, unit=unit, amount=converted_quantity)\n",
    "    print(sentence)"
   ]
  },
  {
   "cell_type": "code",
   "execution_count": null,
   "metadata": {},
   "outputs": [],
   "source": [
    "%load \"answers/answer_009.txt\""
   ]
  },
  {
   "cell_type": "markdown",
   "metadata": {},
   "source": [
    "We'll stop here. There's a fourth method for string formatting described in the link at the beginning of this notebook, but it's something that's not regularly used in scientific Python programming."
   ]
  }
 ],
 "metadata": {
  "kernelspec": {
   "display_name": "Python 3",
   "language": "python",
   "name": "python3"
  },
  "language_info": {
   "codemirror_mode": {
    "name": "ipython",
    "version": 3
   },
   "file_extension": ".py",
   "mimetype": "text/x-python",
   "name": "python",
   "nbconvert_exporter": "python",
   "pygments_lexer": "ipython3",
   "version": "3.7.3"
  }
 },
 "nbformat": 4,
 "nbformat_minor": 4
}
