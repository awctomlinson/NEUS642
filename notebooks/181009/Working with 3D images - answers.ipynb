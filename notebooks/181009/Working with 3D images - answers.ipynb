{
 "cells": [
  {
   "cell_type": "markdown",
   "metadata": {},
   "source": [
    "<a href=\"#Overview\"></a>\n",
    "# Overview\n",
    "* <a href=\"#Introduction\">Introduction</a>\n",
    "* <a href=\"#Data\">Data</a>\n",
    "* <a href=\"#Objectives\">Objectives</a>\n",
    "* <a href=\"#Loading-the-data\">Loading the data</a>\n",
    "* <a href=\"#List-operations\">List operations</a>\n",
    "    * <a href=\"#Exercise-1\">Exercise 1</a>\n",
    "        * <a href=\"#Practice-with-lists-and-NumPy-arrays\">Practice with lists and NumPy arrays</a>\n",
    "* <a href=\"#Plotting-our-MIP\">Plotting our MIP</a>\n",
    "    * <a href=\"#Exercise-2\">Exercise 2</a>\n",
    "        * <a href=\"#Plotting-our-MIP\">Plotting our MIP</a>\n",
    "* <a href=\"#Exporting-our-MIP-as-a-new-TIF-file\">Exporting our MIP as a new TIF file</a>\n",
    "    * <a href=\"#Excercise-3\">Excercise 3</a>\n",
    "        * <a href=\"#Exporting-our-MIP\">Exporting our MIP</a>\n",
    "* <a href=\"#Defining-functions\">Defining functions</a>\n",
    "    * <a href=\"#Exercise-4\">Exercise 4</a>\n",
    "    * <a href=\"#Exercise-5\">Exercise 5</a>\n",
    "* <a href=\"#Automating\">Automating</a>\n",
    "* <a href=\"#Exercise-6\">Exercise 6</a>\n",
    "* <a href=\"#Useful-resources\">Useful resources</a>"
   ]
  },
  {
   "cell_type": "markdown",
   "metadata": {},
   "source": [
    "# Working with z-stack images"
   ]
  },
  {
   "cell_type": "markdown",
   "metadata": {},
   "source": [
    "<a name=\"#Introduction\n",
    "\"></a>\n",
    "## Introduction\n",
    "\n",
    "<a href=\"#Overview\">Return to overview</a>\n",
    "\n",
    "**The problem:** You are screening a lot of tissue samples on a confocal microscope, creating many z-stack 3-dimensional images. In order to examine all of your images in a timely manner you want to to create a representative 2-dimensional image from each of your z-stack images. In this case, a maximum intensity projection will do the trick but the microscope software only allows you to make these one at a time and this takes a long time. Ideally you would like to automate this and write a script that can iterate through all of your images and create maximum intensity projections for all of your images in batch. Python allows us to do this, but how?\n",
    "\n",
    "**The answer:** NumPy arrays!\n",
    "\n",
    "This notebook will demonstrate how 3-dimensional microscopy image data can be loaded into a NumPy array and manipulated mathematically. The 3-D image consists of a series of 2-D pictures taken of a section of tissue at various depths (the \"z\" dimension). The collection of 2-D slices is known as a z-stack. The \"data\" that will be loaded into the NumPy array from the image will be the intensity value (how bright the color is) of every pixel for each slice.\n",
    "\n",
    "It can be easier to analyze--and easier to visualize--a single image than a whole series of images. Thus, a common practice when analyzing 3-D microscopy data is to create a maximum intensity projection, or a single image that combines all of the slices in the z-stack. The final image will have the same X and Y dimensions as the other slices, but the intensity value for each (X,Y) pixel coordinate will be whatever the highest intensity value was for that coordinate across each of the z slices. Thus, the brightest possible image will be displayed, and all of the important structures throughout the tissue can be seen in the single image. This notebook will cover how to mathematically create a maximum intensity projection (MIP) from a z-stack loaded into a NumPy array.\n",
    "\n",
    "It is also important to export the resulting MIP image so it can be viewed or analyzed with other standard software. This notebook will save the image into a .tif file format, which is a commonly used high-quality file format.\n",
    "\n",
    "Additionally, it can be interesting or useful to visualize the 3-D tissue from a different angle. This notebook will demonstrate how to generate an orthogonal image to view the tissue section when it is turned 90 degrees to the left or right.\n",
    "\n",
    "Lastly, this notebook will define functions to automate the creation of MIP and orthogonal images (saved as TIFs) for all microscopy images in a folder, which is ultimately much faster than manually using the microscope software to do this.\n",
    "\n",
    "<a name=\"#Data\n",
    "\"></a>\n",
    "## Data\n",
    "\n",
    "<a href=\"#Overview\">Return to overview</a>\n",
    "For this exercise we will be working with 3-D images of a nerve in the peripheral nervous system of _Drosophila melanogaster_. In these images there are approximately 40 neurons, and their axons are labeled with green fluorescent protein (GFP) for visualization. The image location is depicted below in the diagram by the box, and a 3-D rendering of the axon bundle is shown below that showing the X, Y and Z axes.\n",
    "<br><br>Wing diagram adapted from _Neukomm et al. 2014 PNAS_\n",
    "<img src=\"wing_diagram.png\" style=\"width: 500px\"/>\n",
    "\n",
    "<br>3-D rendering of the axon bundle\n",
    "<br><img src=\"image1_3D.png\"/>"
   ]
  },
  {
   "cell_type": "markdown",
   "metadata": {},
   "source": [
    "<a name=\"#Objectives\n",
    "\"></a>\n",
    "## Objectives\n",
    "\n",
    "<a href=\"#Overview\">Return to overview</a>\n",
    "The goal of this exercise is to learn a few basic principles that will help you work with 3-Dimensional image data using Python. We will be working with czi files in this exercise, but there are similar libraries for other file formats such as [TIF](https://pypi.org/project/tifffile/) and [HDF5](https://www.h5py.org/).\n",
    "\n",
    "The goals of this exercise are as follows:\n",
    "- Identify tools available for working with 3-D image data\n",
    "- Become familiar with how 3-D (or any dimensional) image data is stored in NumPy arrays and can be accessed and spliced\n",
    "    - practice this using a couple of common practices for displaying 3-D data\n",
    "- Learn how to convert our modified NumPy array data back into a new image file\n",
    "- Learn how to use these techniques to automate image processing"
   ]
  },
  {
   "cell_type": "markdown",
   "metadata": {},
   "source": [
    "<a name=\"#Loading-the-data\n",
    "\"></a>\n",
    "## Loading the data\n",
    "\n",
    "<a href=\"#Overview\">Return to overview</a>\n",
    "\n",
    "First, we need to import libraries that will allow us to access the data in our files and utilize the data. Here we are importing **czifile** which is a module for opening the propritary czi file format from Carl Zeiss Zen software. This was created by Christoph Gohlke from UC Irvine. Documentation regarding czifile is available on [GitHub](https://github.com/AllenCellModeling/czifile) or [Czifile](https://www.pydoc.io/pypi/czifile-0.1.1/autoapi/czifile/index.html). We will also import the [NumPy](http://www.numpy.org/) library as np which will allow us to work with the data as an array. Also, [os](https://docs.python.org/3.6/library/os.html) allows Python to access documents via file handles through directories. [Matplotlib](https://matplotlib.org/) is a library that will allow us to plot the image data from the NumPy array. \"%matplotlib inline\" just tells the Jupyter notebook to plot the images from Matplotlib in the notebook so that we can see them. Finally, we will import [Pillow](https://pillow.readthedocs.io/en/latest/#) which will allow us to write out new TIF files after we create our new images."
   ]
  },
  {
   "cell_type": "code",
   "execution_count": null,
   "metadata": {},
   "outputs": [],
   "source": [
    "import czifile\n",
    "import os\n",
    "import numpy as np\n",
    "import matplotlib.pyplot as plt\n",
    "%matplotlib inline\n",
    "from PIL import Image"
   ]
  },
  {
   "cell_type": "markdown",
   "metadata": {},
   "source": [
    "Provide the file path so the computer knows where to look for the data.\n",
    "The print function confirms that the file exist."
   ]
  },
  {
   "cell_type": "code",
   "execution_count": null,
   "metadata": {},
   "outputs": [],
   "source": [
    "fh = 'Images/image1.czi'\n",
    "\n",
    "print(\"File exists: \" + str(os.path.exists(fh)))"
   ]
  },
  {
   "cell_type": "markdown",
   "metadata": {},
   "source": [
    "Load the file into an array called `my_image`. It is important to close the file once we are done using it (i.e. once it has been loaded into an array).\n",
    "\n",
    "An old approach to closing the file would be as follows:\n",
    "\n",
    "    try:\n",
    "        czi = czifile.CziFile(fh)\n",
    "        # use czifile's method, CziFile, to read data from the file path \"fh\" into the variable \"czi\"\n",
    "    \n",
    "        my_image = czi.asarray()\n",
    "        # store the data in an array called \"image\"\n",
    "        \n",
    "    finally:\n",
    "        czi.close()\n",
    "        # close the file\n",
    "\n",
    "\n",
    "Instead, we will use a `with/as` statement to simplify the process. The `with/as` statement will close the image file properly on its own."
   ]
  },
  {
   "cell_type": "code",
   "execution_count": null,
   "metadata": {},
   "outputs": [],
   "source": [
    "with czifile.CziFile(fh) as czi:\n",
    "    my_image = czi.asarray()\n",
    "\n",
    "# Print the array's shape    \n",
    "print(my_image.shape)"
   ]
  },
  {
   "cell_type": "markdown",
   "metadata": {},
   "source": [
    "Printing the shape gives us 6 dimensions, but what do these axes represent?\n",
    "\n",
    "`czi` has a method known as `axes` which will identify the dimensions for us. We will also print the long form of the labels for clarity. To put each label on a new line during our print statement, we will use `/n` wherever we want to create a line break."
   ]
  },
  {
   "cell_type": "code",
   "execution_count": null,
   "metadata": {},
   "outputs": [],
   "source": [
    "print(czi.axes)\n",
    "print('T = Time\\nC = Channel\\nZ = z-axis\\nY = y-axis\\nX = x-axis\\n0 = Sampleshape')"
   ]
  },
  {
   "cell_type": "markdown",
   "metadata": {},
   "source": [
    "## What is a maximum intensity projection?\n",
    "\n",
    "If we think about our z-stack as a 3D image, it has X, Y, and Z axes. If you have worked with maximum intensity images before, you know that the result is a 2D image where the Z axis gets compressed. In order to go from a 3D to 2D image in this way, you ask the computer to plot a new image where for each X,Y coordinate the computer goes through each of the Z values (each slice) and it calculates which value (voxel) is the greatest. The computer then plots that value for that X,Y coordinate and moves to the next coordinate. This ultimately results in a 2D image where for each X,Y coordinate, the maximum value within the Z axis is plotted. There are alternative ways of doing projections depending on what information you want, such as average intensity, etc., but the most commonly used is the maximum which we will use here.\n",
    "\n",
    "First, let's examine the array structure. Look at the cell below before running it. Pay attention to the structure for each of the arrays and what each of the axes calculates when you find the maximum. When you have reviewed the data structures, run the cell."
   ]
  },
  {
   "cell_type": "code",
   "execution_count": null,
   "metadata": {},
   "outputs": [],
   "source": [
    "# NumPy's max function will return the maximum of an array or maximum along an axis\n",
    "np.max?"
   ]
  },
  {
   "cell_type": "code",
   "execution_count": null,
   "metadata": {},
   "outputs": [],
   "source": [
    "# Array data structure:\n",
    "my_1D_array = [1, 2, 3, 4, 5]\n",
    "\n",
    "print('1D max: ' + str(np.max(my_1D_array, axis = 0)))"
   ]
  },
  {
   "cell_type": "code",
   "execution_count": null,
   "metadata": {},
   "outputs": [],
   "source": [
    "my_2D_array = [[1, 2, 3, 4, 5],\n",
    "               [5, 4, 3, 2, 1]]\n",
    "\n",
    "print('2D max axis 0: ' + str(np.max(my_2D_array, axis = 0)))\n",
    "print('2D max axis 1: ' + str(np.max(my_2D_array, axis = 1)))"
   ]
  },
  {
   "cell_type": "code",
   "execution_count": null,
   "metadata": {},
   "outputs": [],
   "source": [
    "my_3D_array = [[[1, 2, 3, 4, 5], [6, 7, 8, 9, 10], [11, 12, 13, 14, 15]],\n",
    "               [[5, 4, 3, 2, 1], [10, 9, 8, 7, 6], [15, 14, 13, 12, 11]]]\n",
    "\n",
    "print('3D max axis 0: \\n' + str(np.max(my_3D_array, axis = 0)))\n",
    "print('3D max axis 1: \\n' + str(np.max(my_3D_array, axis = 1)))\n",
    "print('3D max axis 2: \\n' + str(np.max(my_3D_array, axis = 2)))"
   ]
  },
  {
   "cell_type": "markdown",
   "metadata": {},
   "source": [
    "<a name=\"#List-operations\n",
    "\"></a>\n",
    "## List operations\n",
    "\n",
    "<a href=\"#Overview\">Return to overview</a>\n",
    "Before we dive into the data, let's briefly go over some list operations. List splicing is useful for many applications. Here we will be using it to work with the 3D image data to gather data from each of the axes. Let's briefly go over some basics. As we have talked about before, list indicies start with 0. Also, list splicing is formated as '[start(inclusive):stop(exclusive):step]'. <br> Below is a list called `my_list`. Let's practice using list splicing to pull out some of the items from the list. "
   ]
  },
  {
   "cell_type": "markdown",
   "metadata": {},
   "source": [
    "<a name=\"#Exercise-1\n",
    "\"></a>\n",
    "### Exercise 1\n",
    "\n",
    "<a href=\"#Overview\">Return to overview</a>\n",
    "<a name=\"#Practice-with-lists-and-NumPy-arrays-\n",
    "\"></a>\n",
    "#### Practice with lists and NumPy arrays \n",
    "\n",
    "<a href=\"#Overview\">Return to overview</a>\n",
    "\n",
    "#### 1. One-dimensional lists"
   ]
  },
  {
   "cell_type": "code",
   "execution_count": null,
   "metadata": {},
   "outputs": [],
   "source": [
    "my_list = ['a', 'b', 'c', 'd', 'e', 'f', 'g', 'h']"
   ]
  },
  {
   "cell_type": "markdown",
   "metadata": {},
   "source": [
    "How would you select for or print the **second item** from `my_list`?"
   ]
  },
  {
   "cell_type": "code",
   "execution_count": null,
   "metadata": {},
   "outputs": [],
   "source": [
    "# Answer\n",
    "my_list[1]"
   ]
  },
  {
   "cell_type": "markdown",
   "metadata": {},
   "source": [
    "Print the last 4 items from `my_list`."
   ]
  },
  {
   "cell_type": "code",
   "execution_count": null,
   "metadata": {},
   "outputs": [],
   "source": [
    "# Answer\n",
    "my_list[-4:]"
   ]
  },
  {
   "cell_type": "markdown",
   "metadata": {},
   "source": [
    "Print every other item from `my_list` starting with the second item through the 2nd-to-last item."
   ]
  },
  {
   "cell_type": "code",
   "execution_count": null,
   "metadata": {},
   "outputs": [],
   "source": [
    "# Answer\n",
    "my_list[1:-2:2]"
   ]
  },
  {
   "cell_type": "markdown",
   "metadata": {},
   "source": [
    "#### 2. Two-dimensional lists\n",
    "\n",
    "Here is a two-dimensional list where \"rows\" are delimited by the numbers 1-4, and \"columns\" are delimted by the letters a-b."
   ]
  },
  {
   "cell_type": "code",
   "execution_count": null,
   "metadata": {},
   "outputs": [],
   "source": [
    "my_2D_list = [['1a', '1b', '1c', '1d'],\n",
    "              ['2a', '2b', '2c', '2d'],\n",
    "              ['3a', '3b', '3c', '3d'],\n",
    "              ['4a', '4b', '4c', '4d']]\n",
    "\n",
    "my_2D_list"
   ]
  },
  {
   "cell_type": "markdown",
   "metadata": {},
   "source": [
    "In the 1-D list from above (`my_list`), you could index that one dimension by using brackets after the variable name, e.g. <br>\n",
    "`my_list[1]`\n",
    "\n",
    "In **lists** with **multiple dimensions,** you need a new set of brackets to refer to each dimension, i.e. <br>\n",
    "`my_2D_list[row][column]`\n",
    "\n",
    "How would you select for item \"4a\" in `my_2D_list`?"
   ]
  },
  {
   "cell_type": "code",
   "execution_count": null,
   "metadata": {},
   "outputs": [],
   "source": [
    "# Answer\n",
    "my_2D_list[3][0]"
   ]
  },
  {
   "cell_type": "markdown",
   "metadata": {},
   "source": [
    "How would you select for all of the elements of row 1?"
   ]
  },
  {
   "cell_type": "code",
   "execution_count": null,
   "metadata": {},
   "outputs": [],
   "source": [
    "# Answer\n",
    "my_2D_list[0][:]"
   ]
  },
  {
   "cell_type": "markdown",
   "metadata": {},
   "source": [
    "How would you select for all of the elements of column 3 (\"c\")?"
   ]
  },
  {
   "cell_type": "code",
   "execution_count": null,
   "metadata": {},
   "outputs": [],
   "source": [
    "# Answer\n",
    "my_2D_list[:][2]"
   ]
  },
  {
   "cell_type": "markdown",
   "metadata": {},
   "source": [
    "That returned all of **ROW 3** instead of all of **COLUMN 3.** Why didn't that work?\n",
    "\n",
    "It's because we were using a list. Specifically, a 2D list is a list of lists, not a table of rows and columns. You can't put a colon in the first bracket (telling the program to \"look at all of the lists\"), and then only select for the 3rd element in each of those lists.\n",
    "\n",
    "You can only specify a list in the first bracket, and then put a colon in the second bracket to indicate you want all of the elements in that cohesive list.\n",
    "\n",
    "To treat the list like a table of rows and columns, we need to convert it into an array with NumPy.\n",
    "\n",
    "#### 3. Two-dimensional arrays"
   ]
  },
  {
   "cell_type": "code",
   "execution_count": null,
   "metadata": {},
   "outputs": [],
   "source": [
    "#convert our 2D list into a 2D array:\n",
    "my_2D_array = np.array(my_2D_list)\n",
    "print(my_2D_array)"
   ]
  },
  {
   "cell_type": "markdown",
   "metadata": {},
   "source": [
    "In lists, a new bracket specifies which dimension you are indexing, hence: <br>\n",
    "`my_2D_list[0][1]`\n",
    "\n",
    "The same format can be used in arrays, but you can also just use one bracket and delineate the dimensions with a comma:<br>\n",
    "`my_2D_array[row, column]`\n",
    "\n",
    "How would you select for all of the elements of row 1?"
   ]
  },
  {
   "cell_type": "code",
   "execution_count": null,
   "metadata": {},
   "outputs": [],
   "source": [
    "# Answer\n",
    "my_2D_array[0, :]"
   ]
  },
  {
   "cell_type": "markdown",
   "metadata": {},
   "source": [
    "How would you select for all of the elements of column 3 (\"c\")?"
   ]
  },
  {
   "cell_type": "code",
   "execution_count": null,
   "metadata": {},
   "outputs": [],
   "source": [
    "# Answer\n",
    "my_2D_array[:, 2]"
   ]
  },
  {
   "cell_type": "markdown",
   "metadata": {},
   "source": [
    "How many dimensions are represented by `my_2D_array`? If you weren't sure, you could find the shape of the array and count the number of axes it returns. Find the shape of my_2D_array."
   ]
  },
  {
   "cell_type": "code",
   "execution_count": null,
   "metadata": {},
   "outputs": [],
   "source": [
    "# Answer\n",
    "my_2D_array.shape"
   ]
  },
  {
   "cell_type": "markdown",
   "metadata": {},
   "source": [
    "Save the result of `my_2D_array[0, :]` into a new variable called `row`."
   ]
  },
  {
   "cell_type": "code",
   "execution_count": null,
   "metadata": {},
   "outputs": [],
   "source": [
    "# Answer\n",
    "row = my_2D_array[0, :]"
   ]
  },
  {
   "cell_type": "markdown",
   "metadata": {},
   "source": [
    "How many dimensions are represented by `row`?"
   ]
  },
  {
   "cell_type": "code",
   "execution_count": null,
   "metadata": {},
   "outputs": [],
   "source": [
    "# Answer\n",
    "row.shape"
   ]
  },
  {
   "cell_type": "markdown",
   "metadata": {},
   "source": [
    "When you hold one of the dimensions constant (by looking only at row \"0,\" not looking across multiple rows), then you are removing a dimension. Thus, a 2D array (`my_2D_array[:, :]`) can become a 1D array when specifying which row or column to look at (`my_2D_array[0, :]`).\n",
    "\n",
    "This principle will come up again when we import our 6-D czi image dataset but only want to select for 3 of those dimensions: X, Y, and Z. We will hold the other dimensions constant by selecting an index for them.\n",
    "\n",
    "Recall that our image data has 6 dimensions:<br>\n",
    "TCZYX0<br>\n",
    "where T = Time, C = Channel, and 0 = Sampleshape.\n",
    "\n",
    "How would you extract a 3D array that encompasses just the Z, Y, and X axis dimensions? Recall that our image data is stored in the variable `my_image`."
   ]
  },
  {
   "cell_type": "code",
   "execution_count": null,
   "metadata": {},
   "outputs": [],
   "source": [
    "# Answer\n",
    "my_image[0, 0, :, :, :, 0]"
   ]
  },
  {
   "cell_type": "markdown",
   "metadata": {},
   "source": [
    "#### 4. Finding the maximum of one dimension in an array\n",
    "\n",
    "Now let's use the `np.max()` to find the maximum value in the z-axis for each of the (X,Y) coordinates. Recall that the shape of our file has 6 dimensions `(1, 1, 58, 191, 380, 1)` but we only care about the (Z,Y,X). Therefore, to make things simpler and just work with those three dimensions, set the indicies to 0 for the other three dimensions (ie:  image[0, 0, Z, Y, X, 0]). Doing this allows us to work with the array as if it were three dimensions.\n",
    "\n",
    "Reminder:  We saved our NumPy array with our image data as `my_image` using CziFile above.\n",
    "<br><br>For more information regarding `np.max()` remember to use `np.max?`\n",
    "\n",
    "How would you find the maximum value at each (X,Y) coordinate along the z-axis?"
   ]
  },
  {
   "cell_type": "code",
   "execution_count": null,
   "metadata": {},
   "outputs": [],
   "source": [
    "# Answer\n",
    "np.max(my_image[0, 0, :, :, :, 0], axis=0)"
   ]
  },
  {
   "cell_type": "markdown",
   "metadata": {},
   "source": [
    "What is the shape of this new data?"
   ]
  },
  {
   "cell_type": "code",
   "execution_count": null,
   "metadata": {},
   "outputs": [],
   "source": [
    "# Answer\n",
    "np.max(my_image[0, 0, :, :, :, 0], axis=0).shape"
   ]
  },
  {
   "cell_type": "markdown",
   "metadata": {},
   "source": [
    "Cool! Now our new maximum array only has two dimensions, Y and X."
   ]
  },
  {
   "cell_type": "markdown",
   "metadata": {},
   "source": [
    "<a name=\"#Plotting-our-MIP\n",
    "\"></a>\n",
    "## Plotting our MIP\n",
    "\n",
    "<a href=\"#Overview\">Return to overview</a>\n",
    "\n",
    "We will use Matplotlib to display our maximum intensity projection from the czi file as a NumPy array. You can use `plt.imshow()` to display the image. "
   ]
  },
  {
   "cell_type": "markdown",
   "metadata": {},
   "source": [
    "<a name=\"#Exercise-2\n",
    "\"></a>\n",
    "### Exercise 2\n",
    "\n",
    "<a href=\"#Overview\">Return to overview</a>\n",
    "<a name=\"#Plotting-our-MIP\n",
    "\"></a>\n",
    "#### Plotting our MIP\n",
    "\n",
    "<a href=\"#Overview\">Return to overview</a>\n",
    "\n",
    "For information on Matplotlib function `imshow`, run this cell:"
   ]
  },
  {
   "cell_type": "code",
   "execution_count": null,
   "metadata": {},
   "outputs": [],
   "source": [
    "plt.imshow?"
   ]
  },
  {
   "cell_type": "markdown",
   "metadata": {},
   "source": [
    "Insert code to plot the maximum intensity projection along the z-axis of our image.\n",
    "\n",
    "First create a variable `projection` and set it equal to the 2D array of the maximum along the z-axis.\n",
    "\n",
    "Use `plt.imshow` to plot `projection`."
   ]
  },
  {
   "cell_type": "code",
   "execution_count": null,
   "metadata": {},
   "outputs": [],
   "source": [
    "# Answer\n",
    "projection = np.max(my_image[0, 0, :, :, :, 0], axis=0)\n",
    "plt.imshow(projection)"
   ]
  },
  {
   "cell_type": "markdown",
   "metadata": {},
   "source": [
    "We can alter how this gets displayed in many ways (see documentation on plt.imshow).\n",
    "\n",
    "Here are a few examples:"
   ]
  },
  {
   "cell_type": "code",
   "execution_count": null,
   "metadata": {},
   "outputs": [],
   "source": [
    "plt.imshow(projection, vmin=100, vmax=500)\n",
    "plt.colorbar(shrink=0.5, ticks=range(0, 501, 100))\n",
    "plt.title(\"Axons MIP\")"
   ]
  },
  {
   "cell_type": "markdown",
   "metadata": {},
   "source": [
    "<a name=\"#Exporting-our-MIP-as-a-new-TIF-file\n",
    "\"></a>\n",
    "## Exporting our MIP as a new TIF file\n",
    "\n",
    "<a href=\"#Overview\">Return to overview</a>\n",
    "\n",
    "Now let's say we didn't want to just plot the new image but rather save it as a new file. We can do this several different ways. Unfortunately, czifile does not allow us to write out .czi files; it only allows us to read them (more reasons to use open source formats). However, we can export NumPy arrays as .tif files using many methods. For this example we will use [Pillow](https://pillow.readthedocs.io/en/latest/#). "
   ]
  },
  {
   "cell_type": "markdown",
   "metadata": {},
   "source": [
    "<a name=\"#Excercise-3\n",
    "\"></a>\n",
    "### Excercise 3\n",
    "\n",
    "<a href=\"#Overview\">Return to overview</a>\n",
    "<a name=\"#Exporting-our-MIP\n",
    "\"></a>\n",
    "#### Exporting our MIP\n",
    "\n",
    "<a href=\"#Overview\">Return to overview</a>\n",
    "\n",
    "Next, we will use some functions to save our MIP array into a new .tif file. To do this, we imported Image from PIL at the beginning.\n",
    "\n",
    "Image has the method `fromarray` that will create an image memory from an object exporting the array interface.\n",
    "\n",
    "Use the method `fromarray` on our array `projection` and store the result in the variable `im`.\n",
    "\n",
    "Lastly, save `im` to a new file titled `projection.tif` with the `save` method."
   ]
  },
  {
   "cell_type": "code",
   "execution_count": null,
   "metadata": {},
   "outputs": [],
   "source": [
    "# Answer\n",
    "im = Image.fromarray(projection)\n",
    "im.save('projection.tif')"
   ]
  },
  {
   "cell_type": "markdown",
   "metadata": {},
   "source": [
    "This next cell should plot the image you just saved."
   ]
  },
  {
   "cell_type": "code",
   "execution_count": null,
   "metadata": {},
   "outputs": [],
   "source": [
    "import matplotlib.image as mpimg\n",
    "img = mpimg.imread('projection.tif')\n",
    "plt.imshow(img, vmin=100, vmax=500)"
   ]
  },
  {
   "cell_type": "markdown",
   "metadata": {},
   "source": [
    "<a name=\"#Defining-functions\n",
    "\"></a>\n",
    "## Defining functions\n",
    "\n",
    "<a href=\"#Overview\">Return to overview</a>\n",
    "One of the most useful aspects of coding is to automate the things that you will do over and over again in order to save you time. One way to do this is to define a function. Then we can call that function on any image we want. Here we will go over the basics of defining our own functions.\n",
    "\n",
    "In the cell below, we define a function `my_func` that takes one argument `arg`.\n",
    "\n",
    "It uses the method `upper` to convert the `arg` to all uppercase letters, and then it returns the uppercase version of the text. We have called the function from within a `print` statement so we can visualize what is returned (the uppercase version of the text)."
   ]
  },
  {
   "cell_type": "code",
   "execution_count": null,
   "metadata": {},
   "outputs": [],
   "source": [
    "def my_func(arg):\n",
    "    upper_case = arg.upper()\n",
    "    return upper_case\n",
    "\n",
    "print(my_func(\"This is my function!\"))\n",
    "print(my_func(\"functions are useful\"))"
   ]
  },
  {
   "cell_type": "markdown",
   "metadata": {},
   "source": [
    "<a name=\"#Exercise-4\n",
    "\"></a>\n",
    "### Exercise 4\n",
    "\n",
    "<a href=\"#Overview\">Return to overview</a>\n",
    "#### Defining a function to create a MIP from our .czi file\n",
    "\n",
    "Define a function called `max_project` that takes one argument `image`. <br>\n",
    "This function should create a maximum intensity projection using the logic from above.<br>\n",
    "Then, save it as a new .tif file called __\"MIP.tif\"__.\n",
    "Return the maximum intensity projection array.\n",
    "\n",
    "To implement the function, call `max_project` on `my_image` (our array from czifile)."
   ]
  },
  {
   "cell_type": "code",
   "execution_count": null,
   "metadata": {},
   "outputs": [],
   "source": [
    "# Answer\n",
    "def max_project(image):\n",
    "    projection = np.max(image[0, 0, :, :, :, 0], axis = 0)\n",
    "    im = Image.fromarray(projection)\n",
    "    im.save('MIP.tif')\n",
    "    return projection\n",
    "max_project(my_image)"
   ]
  },
  {
   "cell_type": "markdown",
   "metadata": {},
   "source": [
    "We can also do other things with our image besides creating a MIP. We can also take slices and project those and export them using similar methods. Let's go through one more example of what we can do with a 3D image as an array by slicing our image and plotting an orthogonal view in the middle of the x-axis. Meaning, we will plot the (Z,Y) plane at a single location along the x-axis. This can be useful in the case of these images if we want to estimate how big the bundle of axons is in our images. This can be obscured in a MIP but by viewing the nerve from an orthogonal view we can better see roughly how many axons are present in the nerve."
   ]
  },
  {
   "cell_type": "markdown",
   "metadata": {},
   "source": [
    "<a name=\"#Exercise-5\n",
    "\"></a>\n",
    "### Exercise 5\n",
    "\n",
    "<a href=\"#Overview\">Return to overview</a>\n",
    "#### Creating an orthogonal image from a z-stack\n",
    "\n",
    "First, we will unpack the tuple from the shape function in order to create variables for the axes that you will work with.<br>\n",
    "Again, we only care about the (Z, Y, X) axes, so we are ignoring the other three using `_` as a placeholder.\n"
   ]
  },
  {
   "cell_type": "code",
   "execution_count": null,
   "metadata": {},
   "outputs": [],
   "source": [
    "_, _, z_axis, y_axis, x_axis, _ = my_image.shape"
   ]
  },
  {
   "cell_type": "markdown",
   "metadata": {},
   "source": [
    "Now that we have each axis defined as a variable, how would we find the middle value in the x-axis?<br>\n",
    "Define `x` to represent this value. \n",
    "__Hint: we need an integer and not a float since we will use it as an index.__ \n",
    "\n",
    "Then, plot the image using the middle value of the x-axis (`x`) in place of the \"X\" dimension of `my_image`."
   ]
  },
  {
   "cell_type": "code",
   "execution_count": null,
   "metadata": {},
   "outputs": [],
   "source": [
    "# Answer\n",
    "x = int(x_axis/2)\n",
    "plt.imshow(my_image[0, 0, :, :, x, 0])"
   ]
  },
  {
   "cell_type": "markdown",
   "metadata": {},
   "source": [
    "Now let's write a function that creates and saves an orthogonal image from the center of the x-axis.\n",
    "\n",
    "Define a function `x_center_orthog` that takes one argument, `image`\n",
    "\n",
    "Reusing your code above, use the shape of the_image to unpack the x-axis. Find the center of the x-axis and save your array as a new image, \"x_orthog.tif\".\n",
    "\n",
    "Call the function on our `my_image`"
   ]
  },
  {
   "cell_type": "code",
   "execution_count": null,
   "metadata": {},
   "outputs": [],
   "source": [
    "# Answer\n",
    "def x_center_orthog(image):\n",
    "    _, _, z_axis, y_axis, x_axis, _ = image.shape\n",
    "    x = int(x_axis/2)\n",
    "    orthogonal = image[0, 0, :, :, x, 0]\n",
    "    im = Image.fromarray(orthogonal)\n",
    "    im.save('x_orthog.tif')\n",
    "    return orthogonal\n",
    "    \n",
    "x_center_orthog(my_image)"
   ]
  },
  {
   "cell_type": "markdown",
   "metadata": {},
   "source": [
    "<a name=\"#Automating\n",
    "\"></a>\n",
    "## Automating\n",
    "\n",
    "<a href=\"#Overview\">Return to overview</a>\n",
    "\n",
    "#### Finally, we will put this all together and create a script that iterates through all of the image files in a folder, and which runs our functions to create a MIP and orthogonal TIF file for each image.\n",
    "\n",
    "First, let's establish the functions that will be called. One function which you've already created is the `max_project` function, which takes in an image array and creates a maximum intensity projection. We will be using this function to save multiple different MIP images, so we will modify this function to take a second argument `filename` so that we can save each .tif with a different name.\n",
    "<br><br> In the box below reuse your `max_project` function but rename it `max_projection` (as it will be slightly different than the previous) and introduce a new, second argument `filename` to the function. With this new argument, modify the `im.save` step of the function using [f-string](https://realpython.com/python-f-strings/) formatting to save each new projection image as a unique filename with the ending __\"_MIP.tif\"__. Do not worry about extracting the filename from the file just yet, we will do that shortly. You can assume that the new argument `filename` will be a string of your original file's name."
   ]
  },
  {
   "cell_type": "code",
   "execution_count": null,
   "metadata": {},
   "outputs": [],
   "source": [
    "# Answer\n",
    "def max_projection(image, filename):\n",
    "    projection = np.max(image[0, 0, :, :, :,0], axis = 0)\n",
    "    im = Image.fromarray(projection)\n",
    "    im.save(f'{filename}_MIP.tif')"
   ]
  },
  {
   "cell_type": "markdown",
   "metadata": {},
   "source": [
    "The other function that will be called is `x_center_orth` which will be used to create and save an orthogonal image for each of our files. Again, we need to pass in another argument (`filename`) so that each file can be saved with a unique name. Otherwise, each new file would overwrite the first. Below modify your `x_center_orthog` function from above as you did with `max_projection` to save unique filenames."
   ]
  },
  {
   "cell_type": "code",
   "execution_count": null,
   "metadata": {},
   "outputs": [],
   "source": [
    "# Answer\n",
    "def x_center_orth(image, filename):\n",
    "    _, _, z_axis, y_axis, x_axis, _ = image.shape\n",
    "    x = round(x_axis/2)\n",
    "    orthogonal = image[0, 0, :, :, x,0]\n",
    "    im = Image.fromarray(orthogonal)\n",
    "    im.save(f'{filename}_orth.tif')"
   ]
  },
  {
   "cell_type": "markdown",
   "metadata": {},
   "source": [
    "Now that we have our functions defined, let's find the folders and images we want to work with.\n",
    "\n",
    "First we need to tell the script where to look for our image files. The folder path and the names of the folders may change between times that you run this code so we will use `input()` to request the path to the folder. For this example you only need to type in \"Images\" to the prompt since the images are stored within a folder titled \"Images\" within the folder we are currently working in."
   ]
  },
  {
   "cell_type": "code",
   "execution_count": null,
   "metadata": {},
   "outputs": [],
   "source": [
    "folder_path = input('Enter the path to the folder: ')\n",
    "folder_path"
   ]
  },
  {
   "cell_type": "markdown",
   "metadata": {},
   "source": [
    "We then create a list of all the image files in the folder specified by our `folder_path`. We will later use this list to iterate over each image using a for loop."
   ]
  },
  {
   "cell_type": "code",
   "execution_count": null,
   "metadata": {},
   "outputs": [],
   "source": [
    "folder_list = os.path.os.listdir(folder_path)\n",
    "folder_list"
   ]
  },
  {
   "cell_type": "markdown",
   "metadata": {},
   "source": [
    "Sometimes there are other random files in the folder, usually called \".DS_Store.\" We want to ignore these files since they are not our image files.\n",
    "\n",
    "We will create a `filtered_list` that takes all of the items in `folder_list` except for the ones that start with a period, \".\""
   ]
  },
  {
   "cell_type": "code",
   "execution_count": null,
   "metadata": {},
   "outputs": [],
   "source": [
    "filtered_list = [fn for fn in folder_list if not fn.startswith('.')]\n",
    "filtered_list"
   ]
  },
  {
   "cell_type": "markdown",
   "metadata": {},
   "source": [
    "Now we are ready to run the list of image files through our series of functions. To do this, we will use a \"for loop\". For loops allow us to iterates over items in a list (i.e. our `filtered_list`) and perform a series of operations **for** each item (i.e. `image`) in the list.\n",
    "\n",
    "<a name=\"#Exercise-6\n",
    "\"></a>\n",
    "## Exercise 6\n",
    "\n",
    "<a href=\"#Overview\">Return to overview</a>\n",
    "__1)__ Create a for loop that iterates over each `image` in `filtered_list` from above. (for loops use the syntax:  `for item in list:` where \"item\" can be whatever variable you would like to use to refer to what is in your list (we will use \"image\" to be more descriptive) and \"list\" is where you identify the list that you want to iterate over.)<br>\n",
    "__2)__ Inside the \"for loop\" (specified by indentation, similar to defining functions like above), identify the file path for each individual file and call this `fh`. To do this we will use `os.path.join` to append the name of each `image` to the already specified `folder_path` from above and store this in `fh`.  <br>\n",
    "__3)__ Next, still within the for loop, use the \"with/as\" statement and the `czifile.CziFile()` as before to convert each image file into an array and storing that to a variable called `image_array`. <br>\n",
    "__4)__ Next, still within the for loop, create a new variable called `filename`, which extracts the original name of the `image` file but without the last four characters by splicing the string to remove the file extension \".czi\" from the image name. <br>\n",
    "__5)__ Lastly, still within the for loop, call each of our functions, `max_projection` and `x_center_orth`, and pass these functions each of our `image_array`s along with their `filename`s to create new MIP and orthogonal images and saving them with unique filenames."
   ]
  },
  {
   "cell_type": "code",
   "execution_count": null,
   "metadata": {},
   "outputs": [],
   "source": [
    "# Answer\n",
    "for image in filtered_list:\n",
    "    fh = os.path.join(folder_path, image)\n",
    "    with czifile.CziFile(fh) as czi:\n",
    "        image_array = czi.asarray()\n",
    "    filename = image[:-4]\n",
    "    max_projection(image_array, filename)\n",
    "    x_center_orth(image_array, filename)"
   ]
  },
  {
   "cell_type": "markdown",
   "metadata": {},
   "source": [
    "So, here are all of those snippets of code put together in one cell. This included some print functions so that we can see at each step what our file list looks like and which images were processed when we run the code:"
   ]
  },
  {
   "cell_type": "code",
   "execution_count": null,
   "metadata": {},
   "outputs": [],
   "source": [
    "# Answer\n",
    "def max_projection(image, filename):\n",
    "    projection = np.max(image[0, 0, :, :, :,0], axis = 0)\n",
    "    im = Image.fromarray(projection)\n",
    "    im.save(f'{filename}_MIP.tif')\n",
    "\n",
    "def x_center_orth(image, filename):\n",
    "    _, _, z_axis, y_axis, x_axis, _ = image.shape\n",
    "    x = round(x_axis/2)\n",
    "    orthogonal = image[0, 0, :, :, x,0]\n",
    "    im = Image.fromarray(orthogonal)\n",
    "    im.save(f'{filename}_orth.tif')\n",
    "\n",
    "\n",
    "folder_path = input('Enter the path to the folder: ')\n",
    "# Enter: Images\n",
    "print(folder_path)\n",
    "\n",
    "folder_list = os.path.os.listdir(folder_path)\n",
    "print(folder_list)\n",
    "\n",
    "filtered_list = [fn for fn in folder_list if not fn.startswith('.')]\n",
    "\n",
    "for image in filtered_list:\n",
    "    fh = os.path.join(folder_path, image)\n",
    "    print(fh)\n",
    "    with czifile.CziFile(fh) as czi:\n",
    "        image_array = czi.asarray()\n",
    "    filename = image[:-4]\n",
    "    max_projection(image_array, filename)\n",
    "    x_center_orth(image_array, filename)"
   ]
  },
  {
   "cell_type": "markdown",
   "metadata": {},
   "source": [
    "<a name=\"#Useful-resources\n",
    "\"></a>\n",
    "## Useful resources\n",
    "\n",
    "<a href=\"#Overview\">Return to overview</a>\n",
    "[StackOverflow](https://stackoverflow.com/)\n",
    "<br>[Python Documentation](https://docs.python.org/3.6/contents.html)\n",
    "<br>[Czifile](https://www.pydoc.io/pypi/czifile-0.1.1/autoapi/czifile/index.html)\n",
    "<br>[TIFF](https://pypi.org/project/tifffile/)\n",
    "<br>[HDF5](https://www.h5py.org/)\n",
    "<br>[NumPy](http://www.numpy.org/)\n",
    "<br>[Matplotlib](https://matplotlib.org/)\n",
    "<br>[OS](https://docs.python.org/3.6/library/os.html)\n",
    "<br>[Pillow](https://pillow.readthedocs.io/en/latest/#)"
   ]
  }
 ],
 "metadata": {
  "kernelspec": {
   "display_name": "NEUS642",
   "language": "python",
   "name": "neus642"
  },
  "language_info": {
   "codemirror_mode": {
    "name": "ipython",
    "version": 3
   },
   "file_extension": ".py",
   "mimetype": "text/x-python",
   "name": "python",
   "nbconvert_exporter": "python",
   "pygments_lexer": "ipython3",
   "version": "3.7.0"
  }
 },
 "nbformat": 4,
 "nbformat_minor": 2
}
