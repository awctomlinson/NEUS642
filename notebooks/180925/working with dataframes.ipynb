{
 "cells": [
  {
   "cell_type": "markdown",
   "metadata": {},
   "source": [
    "# Introduction\n",
    "\n",
    "Welcome to NEUS634! The course staff includes:\n",
    "\n",
    "* Brad Buran (buran@ohsu.edu)\n",
    "* Stephen David (davids@ohsu.edu)\n",
    "* Erik Burlingame (burlinge@ohsu.edu)\n",
    "* Charlie Heller (hellerc@ohsu.edu)\n",
    "\n",
    "Both Erik and Charlie have another course that slightly overlaps with this one, so they will only be availble during the first hour of class. Outside of class hours, all of us will be available via email and <a href=\"https://gitter.im/NEUS642/Lobby\">Gitter</a> if you have any questions. While you are welcome to email the course staff directly, we prefer that Python-related questions be posted to the NEUS642 chatroom on Gitter. We do not have as large of a course staff as we would like given the number of students in the class, so we hope that Gitter will help us manage our time effectively. In addition, you may learn from our answers to questions posted by other students and are  encouraged to answer each other's questions.\n",
    "\n",
    "There are many ways to run Python. For the course, we will be using a hosted version of Python available at https://exajupyter.ohsu.edu. However, we would like to ensure that you are able to run Python on your own computer by the end of the course and have included <a href=\"https://github.com/bburan/NEUS642/blob/master/syllabus.md#installing-python\">instructions in the syllabus</a>. In your spare time, please try to install Python on your computer. If you have any questions, let us know on Gitter.\n",
    "\n",
    "# How classes will work\n",
    "\n",
    "Each week you or one of your classmates will lead an exercise on a data analysis problem relevant to neuroscience. Be sure that you provide sufficient background information at the beginning of the exercise for a neuroscientist to understand the problem. Throughout the exercise there will be points at which we stop and give the class the opportunity to write the solution for a particular question. At that point, we will stop for 5 to 15 minutes while you try and solve the problem (either individually or in groups).\n",
    "\n",
    "You'll notice that we've provided you with both green and red post-it notes. If you need help during the class, stick the red post-it note on the back of your computer and someone will come help you. Once you've completed the exercise, please place the green post-it note on the back of your computer so we know when everyone's ready to move on.\n",
    "\n",
    "# Today\n",
    "\n",
    "Today we will start with a simple exercise that will help you get oriented to the resources available to you. First, please sign into the NEUS642 chatroom on <a href=\"https://gitter.im/NEUS642/Lobby\">Gitter</a> at https://gitter.im/NEUS642/Lobby. Once you've signed in, please place your green post-it note on your laptop.\n",
    "\n",
    "Now, let's <a href=\"https://bburan.github.io/NEUS642/exajupyter.html\">login and setup your exajupyter account</a>. Once you've performed those steps, find this notebook and open it. Once you've opened the notebook, please place the green post-it on your laptop."
   ]
  },
  {
   "cell_type": "markdown",
   "metadata": {},
   "source": [
    "# Exercise\n",
    "\n",
    "## Goals\n",
    "\n",
    "Demonstrate how programming using Python and dataframes can simplify many data operations commonly performed in spreadsheets. Dataframes are a special data format commonly used in Python for manipulating tabular or spreadsheet-like data. They support a number of operations including:\n",
    "\n",
    "1. Reshaping the data.\n",
    "2. Merging two datasets on a common column or set of columns.\n",
    "3. Grouping data and computing a statistic on the group.\n",
    "\n",
    "Dataframes are provided using a Python library called `pandas`. In the code I've imported `pandas` as `pd` for short. This two-letter abbreviation is a common convention in scientific Python programming (you'll often see `numpy`  imported as `np` and `scipy` as `sp`). Since Pandas is a third-party library not included in the core Python distribution, you sometimes have to explicitly install it. For this course, we have ensured that Pandas is installed on the server. However, if you try to replicate the code using your own Python install, you may have to install Pandas using `conda install pandas`.\n",
    "\n",
    "## The data\n",
    "\n",
    "Noise exposure can cause hearing damage. Sometimes this damage is temporary, sometimes it is permanent. We can assess hearing thresholds in animals by measuring the auditory brainstem response (ABR). The ABR is an event-related potential reflecting the activity of the auditory nerve in response to a brief tone. By presenting tones of varying loudness (the unit is dB SPL), we can define the animal's hearing threshold as the minimum level (dB SPL) at which we can detect the ABR.\n",
    "\n",
    "To assess hearing damage caused by noise exposure, we can measure ABR thresholds before noise-exposure, one day after noise-exposure and two weeks after noise-exposure. We have a set of animals that have been exposed to different levels of noise (104, 110 or 114 dB SPL). In this exercise, we will calculate and plot the mean threshold shift (i.e., the difference between post-exposure ABR threshold and pre-exposure ABR threshold).\n",
    "\n",
    "The data is saved in two spreadsheets. The first contains the information on the noise-exposure for each animal and the second contains the ABR threshold measurements."
   ]
  },
  {
   "cell_type": "markdown",
   "metadata": {},
   "source": [
    "# The analysis"
   ]
  },
  {
   "cell_type": "markdown",
   "metadata": {},
   "source": [
    "## Setting up the code\n",
    "\n",
    "At the beginning of every Python script we need to import all the libraries we need and define a few variables."
   ]
  },
  {
   "cell_type": "code",
   "execution_count": null,
   "metadata": {},
   "outputs": [],
   "source": [
    "# This ensures that plots are shown below each code cell\n",
    "%matplotlib inline\n",
    "\n",
    "# Import the library we're using for this exercise\n",
    "import pandas as pd\n",
    "\n",
    "# For brevity, limit the number of rows displayed\n",
    "pd.options.display.max_rows = 7"
   ]
  },
  {
   "cell_type": "markdown",
   "metadata": {},
   "source": [
    "## Read in the data\n",
    "\n",
    "Since Pandas provides a function for reading multiple file formats, including CSV, reading in the exposure data is very simple."
   ]
  },
  {
   "cell_type": "code",
   "execution_count": null,
   "metadata": {},
   "outputs": [],
   "source": [
    "exposure_data = pd.read_csv('exposure_data.csv')\n",
    "exposure_data"
   ]
  },
  {
   "cell_type": "markdown",
   "metadata": {},
   "source": [
    "This looks pretty good, but there's a bit of redundancy here. There's one row for each animal. The animals are numbered 1 through 38 as shown by the `animal` column. However, Pandas has automatically created an index indicating the row numbers. All dataframes have an index which uniquely identifies each row. By default, the index is just the row number. Note that the row-numbering starts at 0, which is a typical convention in Python. In some programming languages (i.e., Matlab), numbering typically starts at 1.\n",
    "\n",
    "A dataframe index does not have to be a simple row number based scheme as long as the label for that row is unique. The label can be any immutable value (e.g., a string). Why not just use the animal ID as the index? Is there a way we can tell Pandas to use the `animal` column as the index? Perhaps the `read_csv` function has a parameter that allows you to specify this.  You can look up the documentation for any function in the IPython prompt by putting a question mark, `?`, after the name of the function:\n",
    "\n",
    "    pd.io.parsers.read_csv?\n",
    "   \n",
    "Ok, now try it. What do you get?\n",
    "\n"
   ]
  },
  {
   "cell_type": "code",
   "execution_count": null,
   "metadata": {},
   "outputs": [],
   "source": [
    "# pd.io.parsers.read_csv?"
   ]
  },
  {
   "cell_type": "markdown",
   "metadata": {},
   "source": [
    "### Exercise 1\n",
    "\n",
    "That's a lot of parameters for `read_csv`! Take a minute to read through the documentation. Does anything sound like it might let us specify what column to use as the index? Now, try modifying the code below to set the `animal` column as the index. Remember that Python uses a zero-based numbering scheme. That means that the first column has an index of 0 and the second column has an index of 1."
   ]
  },
  {
   "cell_type": "code",
   "execution_count": null,
   "metadata": {},
   "outputs": [],
   "source": [
    "# Modify the code below to read in the dataframe as the index.\n",
    "exposure_data = pd.read_csv('exposure_data.csv')\n",
    "exposure_data\n",
    "\n",
    "# Answer\n",
    "exposure_data = pd.read_csv('exposure_data.csv', index_col=0)\n",
    "exposure_data"
   ]
  },
  {
   "cell_type": "markdown",
   "metadata": {},
   "source": [
    "Let's discuss some terminology first:\n",
    "\n",
    "* A `dataframe` is a two-dimensional data structure aligned by rows and columns (i.e., a table). However, unlike Excel, you can specify your own row labels and column labels.\n",
    "\n",
    "* A `series` is a one-dimensional data structure that has an index. When you extract a single row or column from a dataframe, a series is returned.\n",
    "\n",
    "Let's take a closer look at this. You can extract a single value from the dataframe using the special `loc` attribute:\n",
    "\n",
    "    value = dataframe.loc[row label, column label]\n",
    "    \n",
    "To extract an entire row:\n",
    "\n",
    "    row = dataframe.loc[row label, :]\n",
    "    \n",
    "To extract an entire column:\n",
    "\n",
    "    column = dataframe.loc[:, column_label]\n",
    "    \n",
    "The colon, `:`, is a special symbol that indicates to extract all values for that dimension. Let's go ahead and try extracting some data from th dataframe. What's the exposure date for Subject 10?   "
   ]
  },
  {
   "cell_type": "code",
   "execution_count": null,
   "metadata": {},
   "outputs": [],
   "source": [
    "# Your answer goes here\n",
    "\n",
    "# Answer\n",
    "value = exposure_data.loc['Subject 10', 'exposure_date']\n",
    "value"
   ]
  },
  {
   "cell_type": "markdown",
   "metadata": {},
   "source": [
    "Now, try and extract the entire *row* for animal 10. How do you do this?"
   ]
  },
  {
   "cell_type": "code",
   "execution_count": null,
   "metadata": {},
   "outputs": [],
   "source": [
    "# Your answer goes here\n",
    "\n",
    "# Answer\n",
    "row = exposure_data.loc['Subject 10', :]\n",
    "row"
   ]
  },
  {
   "cell_type": "markdown",
   "metadata": {},
   "source": [
    "Remember what we said earlier about the difference between a dataframe and a series. Is `row` a series or a dataframe?\n",
    "\n",
    "Also, note how `row` is indexed. As with dataframes, you can pull out individual elements using the `loc` indexer."
   ]
  },
  {
   "cell_type": "code",
   "execution_count": null,
   "metadata": {},
   "outputs": [],
   "source": [
    "row.loc['exposure_date']"
   ]
  },
  {
   "cell_type": "markdown",
   "metadata": {},
   "source": [
    "Now, pull out the `exposure_date` column for all animals."
   ]
  },
  {
   "cell_type": "code",
   "execution_count": null,
   "metadata": {},
   "outputs": [],
   "source": [
    "# Your answer goes here\n",
    "\n",
    "# Answer\n",
    "column = exposure_data.loc[:, 'exposure_date']\n",
    "column"
   ]
  },
  {
   "cell_type": "markdown",
   "metadata": {},
   "source": [
    "There's another problem. Let's take a closer look at a single value in the `exposure_date` column. "
   ]
  },
  {
   "cell_type": "code",
   "execution_count": null,
   "metadata": {},
   "outputs": [],
   "source": [
    "exposure_data.loc['Subject 10', 'exposure_date']"
   ]
  },
  {
   "cell_type": "markdown",
   "metadata": {},
   "source": [
    "Note the quotation marks around the value. That means the value is a string. That's not very useful to us. We want the value to be a Python date object. That will allow us to perform date math (such as determine how many days are in between two dates). Let's go back to the `read_csv` function. Is there any way we can have the `read_csv` function parse the date strings into Python date objects for us?\n",
    "\n",
    "Remember how to pull up documentation for the function?"
   ]
  },
  {
   "cell_type": "code",
   "execution_count": null,
   "metadata": {},
   "outputs": [],
   "source": [
    "# Your answer goes here\n",
    "\n",
    "# Answer\n",
    "exposure_data = pd.read_csv('exposure_data.csv', index_col=0, parse_dates=['exposure_date'])\n",
    "exposure_data.loc['Subject 10', 'exposure_date']"
   ]
  },
  {
   "cell_type": "markdown",
   "metadata": {},
   "source": [
    "Note how it's now a `Timestamp`. That lets us do some very nice date-related math (which we will get to in a little bit). Now write the code to read in the `abr_thresholds.csv` file. This file does not have a single column that can be used as an index. There are ways to make combine multiple columns to form a special type of index known as a hierarchial index (i.e., `MultiIndex` in Pandas terminology). We will save this fo a future lecture. For now, let's just have Pandas automatically create a numbered index for us. Dates are stord in the `date` column."
   ]
  },
  {
   "cell_type": "code",
   "execution_count": null,
   "metadata": {},
   "outputs": [],
   "source": [
    "# Your answer goes here. Save the result in a variable called threshold_data.\n",
    "\n",
    "# Answer\n",
    "threshold_data = pd.read_csv('abr_thresholds.csv', parse_dates=['date'])\n",
    "threshold_data"
   ]
  },
  {
   "attachments": {
    "image.png": {
     "image/png": "[encoded data removed]"
    }
   },
   "cell_type": "markdown",
   "metadata": {},
   "source": [
    "Now we can merge the ABR data with the exposure data. The goal is to end up with a single dataframe containing both the thresholds and exposure data. In the image below, the boxes shaded in grey are the row and column labels.\n",
    "\n",
    "![image.png](attachment:image.png)\n",
    "\n",
    "Remember that `exposure_data` is indexed by the animal ID because each row is data for a unique animal. We can use this index as a lookup value. For each row in `threshold_data`, we want to copy the values in the `exposure_date` and `exposure_level` from the corresponding row in `exposure_data` where the values for `animal` match. Pandas provides a method, `join`, that allows us to do this."
   ]
  },
  {
   "cell_type": "code",
   "execution_count": null,
   "metadata": {},
   "outputs": [],
   "source": [
    "data = threshold_data.join(exposure_data, on=['animal'])\n",
    "data"
   ]
  },
  {
   "cell_type": "markdown",
   "metadata": {},
   "source": [
    "## Calculating ABR threshold shift\n",
    "\n",
    "The next step is to compute when the ABR threshold was measured relative to the exposure. We can do this by subtracting the date of the ABR (stored in the `date` column) from the exposure date (stored in the `exposure_date` column) and saving it as a new column, `days_re_exposure`. Yes, it's as simple as subtracting the two columns. Go ahead and try it. Hint, to create a new column:\n",
    "\n",
    "    dataframe[column_name] = new_column_data"
   ]
  },
  {
   "cell_type": "code",
   "execution_count": null,
   "metadata": {},
   "outputs": [],
   "source": [
    "# Your answer goes here\n",
    "\n",
    "# Answer\n",
    "data['days_re_exposure'] = data['date'] - data['exposure_date']\n",
    "data"
   ]
  },
  {
   "cell_type": "markdown",
   "metadata": {},
   "source": [
    "Nice. This is one of the advantages of making sure all your dates are represented properly in Python. It makes date math easy.\n",
    "\n",
    "Next, we want to calculate the mean threshold for each exposure level before, one day after and 14 days after noise exposure. Pandas makes this easy with the `groupby` method. The method takes a list of columns to group by."
   ]
  },
  {
   "cell_type": "code",
   "execution_count": null,
   "metadata": {},
   "outputs": [],
   "source": [
    "grouping = data.groupby(['days_re_exposure'])\n",
    "grouping"
   ]
  },
  {
   "cell_type": "markdown",
   "metadata": {},
   "source": [
    "You can then take the mean value across all remaining columns."
   ]
  },
  {
   "cell_type": "code",
   "execution_count": null,
   "metadata": {},
   "outputs": [],
   "source": [
    "grouping.mean()"
   ]
  },
  {
   "cell_type": "markdown",
   "metadata": {},
   "source": [
    "Alternatively, you can specify the column you wish to use."
   ]
  },
  {
   "cell_type": "code",
   "execution_count": null,
   "metadata": {},
   "outputs": [],
   "source": [
    "grouping['threshold'].mean()"
   ]
  },
  {
   "cell_type": "markdown",
   "metadata": {},
   "source": [
    "We'd like to modify the groupby operation so we can calcuate the mean threshold for each exposure level and timepoint (-3, 1, and 14 days re. exposure). Go ahead and try it."
   ]
  },
  {
   "cell_type": "code",
   "execution_count": null,
   "metadata": {},
   "outputs": [],
   "source": [
    "# Modify the following code\n",
    "grouping = data.groupby(['days_re_exposure'])\n",
    "mean_thresholds = grouping['threshold'].mean()\n",
    "mean_thresholds\n",
    "\n",
    "# Answer\n",
    "grouping = data.groupby(['exposure_level', 'days_re_exposure'])\n",
    "mean_thresholds = grouping['threshold'].mean()\n",
    "mean_thresholds"
   ]
  },
  {
   "cell_type": "markdown",
   "metadata": {},
   "source": [
    "What format is the data in? Dataframe or series?\n",
    "\n",
    "Now that we've calculated the group means, we want to plot the data. Fortunately, Pandas comes with a bunch of built-in plotting methods that makes life easy. Let's go ahead and try them!"
   ]
  },
  {
   "cell_type": "code",
   "execution_count": null,
   "metadata": {},
   "outputs": [],
   "source": [
    "mean_thresholds.plot()"
   ]
  },
  {
   "cell_type": "markdown",
   "metadata": {},
   "source": [
    "That's not really a very informative plot. We probably want a plot that plots the mean threshold for each `days_re_exposure` with a separate line for each `exposure_level`. How can we figure out what we need to do? The reason why we are getting the plot above is because Pandas, by default, uses the index labels as the x-values and creates a separate line for each column. So, somehow we need to create a separate column for each exposure level. Fortunately, that's really easy to do in Pandas using the `unstack` method."
   ]
  },
  {
   "cell_type": "code",
   "execution_count": null,
   "metadata": {},
   "outputs": [],
   "source": [
    "mean_thresholds_unstacked = mean_thresholds.unstack('exposure_level')\n",
    "mean_thresholds_unstacked"
   ]
  },
  {
   "cell_type": "code",
   "execution_count": null,
   "metadata": {},
   "outputs": [],
   "source": [
    "ax = mean_thresholds_unstacked.plot()"
   ]
  },
  {
   "cell_type": "markdown",
   "metadata": {},
   "source": [
    "Looks much better. What if we want to make it a bar plot? What do we need to do? Remember how to look up the documentation for a function?"
   ]
  },
  {
   "cell_type": "code",
   "execution_count": null,
   "metadata": {},
   "outputs": [],
   "source": [
    "# Your answer goes here\n",
    "\n",
    "# Answer\n",
    "ax = mean_thresholds_unstacked.plot(kind='bar')"
   ]
  },
  {
   "cell_type": "markdown",
   "metadata": {},
   "source": [
    "Now, we'd like to add some error bars indicating the SEM. To do this, we need to first calculate the SEM for each group. Let's go back to the groupby object we made (`grouping`)."
   ]
  },
  {
   "cell_type": "code",
   "execution_count": null,
   "metadata": {},
   "outputs": [],
   "source": [
    "grouping"
   ]
  },
  {
   "cell_type": "markdown",
   "metadata": {},
   "source": [
    "Another feature of IPython is that you can look up what types of methods and attributes an object has by putting a dot after the variable and hitting the tab key:\n",
    "    \n",
    "    variable.<tab>\n",
    "    \n",
    "Go ahead and try it with `grouping`."
   ]
  },
  {
   "cell_type": "code",
   "execution_count": null,
   "metadata": {},
   "outputs": [],
   "source": [
    "# Your answer goes here"
   ]
  },
  {
   "cell_type": "markdown",
   "metadata": {},
   "source": [
    "Now, scroll through the list that pops up. Does anything sound like a good candidate for calculating the SEM? How can you verify that it, indeed, will do what you want?"
   ]
  },
  {
   "cell_type": "code",
   "execution_count": null,
   "metadata": {},
   "outputs": [],
   "source": [
    "# grouping.sem?"
   ]
  },
  {
   "cell_type": "markdown",
   "metadata": {},
   "source": [
    "Great, now calculate the SEM for each `exposure_level` and `days_re_exposure` group. Be sure to reshape the result so that each exposure level is a separate column (i.e., the shape should match that of `mean_thresholds_unstacked`)."
   ]
  },
  {
   "cell_type": "code",
   "execution_count": null,
   "metadata": {},
   "outputs": [],
   "source": [
    "# Your answer goes here\n",
    "\n",
    "# Answer\n",
    "sem_thresholds = grouping['threshold'].sem()\n",
    "sem_thresholds_unstacked = sem_thresholds.unstack('exposure_level')\n",
    "sem_thresholds_unstacked"
   ]
  },
  {
   "cell_type": "markdown",
   "metadata": {},
   "source": [
    "Since we were careful to ensure that our `sem_thresholds_unstacked` dataframe has an identical index and set of columns as `mean_thresholds_unstacked`, it becomes much easier to add the errorbars using the built-in plotting functionality of Pandas. Go back to the `plot` method you used. Look at the documentation. Is there any way we can pass in the errorbar information to the plotting method? If so, go ahead and try it."
   ]
  },
  {
   "cell_type": "code",
   "execution_count": null,
   "metadata": {},
   "outputs": [],
   "source": [
    "# Modify the code below to pass in the errorbar information\n",
    "ax = mean_thresholds_unstacked.plot(kind='bar')\n",
    "\n",
    "# Answer\n",
    "ax = mean_thresholds_unstacked.plot(kind='bar', yerr=sem_thresholds_unstacked)"
   ]
  },
  {
   "cell_type": "markdown",
   "metadata": {},
   "source": [
    "Now, let's fix the X and Y axes. The `plot` method returned what's known as an axes object. This object represents the plot you just generated. Check to see if thre are any useful methods on this object that allow you to set the y and x axes label as well as the x ticklabels. Since there are a ton of methods available, skip ahead to the ones that begin with `set`:\n",
    "\n",
    "    ax.set<tab>\n",
    "    \n",
    "We'd like to set the x-axis label to \"Days re. exposure\" and the y-axis label to \"Threshold (dB SPL)\". The tick labels may also look a bit better if they were simply '-3', '1' and '14'."
   ]
  },
  {
   "cell_type": "code",
   "execution_count": null,
   "metadata": {},
   "outputs": [],
   "source": [
    "# Your answer goes here\n",
    "# Note, you need to copy the line that generated the plot from your answer above and paste it here to regenerate the plot.\n",
    "\n",
    "# Answer\n",
    "ax = mean_thresholds_unstacked.plot(kind='bar', yerr=sem_thresholds_unstacked)\n",
    "ax.set_xlabel('Days re exposure')\n",
    "ax.set_ylabel('Threshold (dB SPL)')\n",
    "ax.set_xticklabels(['-3', '1', '14'])"
   ]
  }
 ],
 "metadata": {
  "kernelspec": {
   "display_name": "Python 3",
   "language": "python",
   "name": "python3"
  },
  "language_info": {
   "codemirror_mode": {
    "name": "ipython",
    "version": 3
   },
   "file_extension": ".py",
   "mimetype": "text/x-python",
   "name": "python",
   "nbconvert_exporter": "python",
   "pygments_lexer": "ipython3",
   "version": "3.6.4"
  },
  "toc": {
   "colors": {
    "hover_highlight": "#DAA520",
    "running_highlight": "#FF0000",
    "selected_highlight": "#FFD700"
   },
   "moveMenuLeft": true,
   "nav_menu": {
    "height": "12px",
    "width": "252px"
   },
   "navigate_menu": true,
   "number_sections": true,
   "sideBar": true,
   "threshold": 4,
   "toc_cell": false,
   "toc_section_display": "block",
   "toc_window_display": false,
   "widenNotebook": false
  }
 },
 "nbformat": 4,
 "nbformat_minor": 2
}
